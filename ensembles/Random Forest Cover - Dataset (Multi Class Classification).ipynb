{
 "cells": [
  {
   "cell_type": "code",
   "execution_count": 1,
   "metadata": {
    "collapsed": false
   },
   "outputs": [
    {
     "name": "stderr",
     "output_type": "stream",
     "text": [
      "Using Theano backend.\n"
     ]
    }
   ],
   "source": [
    "import ensembles as en\n",
    "import pandas as pd"
   ]
  },
  {
   "cell_type": "code",
   "execution_count": 2,
   "metadata": {
    "collapsed": false
   },
   "outputs": [],
   "source": [
    "Data = pd.read_csv('/home/prajwal/Desktop/forest/Forest_Cover.data',header = -1)\n",
    "#Since label_output has to be a string\n",
    "Data = Data.rename(columns = {54:'target_label'})\n",
    "#Multi class classification, change classes 1-7 to 0-6\n",
    "Data['target_label'] = Data['target_label'] - 1"
   ]
  },
  {
   "cell_type": "code",
   "execution_count": 3,
   "metadata": {
    "collapsed": false
   },
   "outputs": [
    {
     "name": "stdout",
     "output_type": "stream",
     "text": [
      "\n",
      "TRAINING BASE MODELS\n",
      "\n",
      "\n",
      "TESTING/CROSS VALIDATION BASE MODELS\n",
      "\n",
      "gradient_boosting \n",
      " 0.777258712511\n",
      "decision_tree \n",
      " 0.910330109118\n",
      "random_forest \n",
      " 0.918999591851\n",
      "logistic_regression \n",
      " 0.714821717472\n",
      "logistic_regression \n",
      " 0.714821717472\n",
      "\n",
      "TRAINING ENSEMBLE MODELS\n",
      "\n",
      "\n",
      "TESTING PHASE\n",
      "\n",
      "\n",
      "TESTING/CROSS VALIDATION BASE MODELS\n",
      "\n",
      "gradient_boosting \n",
      " 0.777651560788\n",
      "decision_tree \n",
      " 0.909582738105\n",
      "random_forest \n",
      " 0.918756418421\n",
      "logistic_regression \n",
      " 0.714858608286\n",
      "logistic_regression \n",
      " 0.714858608286\n",
      "\n",
      "TESTING ENSEMBLE MODELS\n",
      "\n",
      "Stacking logistic_regression \n",
      " 0.86473554672\n",
      "Stacking gradient_boosting \n",
      " 0.895612812172\n",
      "Blending gradient_boosting \n",
      " 0.908555790778\n",
      "Blending logistic_regression \n",
      " 0.898555962892\n",
      "CPU times: user 17.2 s, sys: 948 ms, total: 18.1 s\n",
      "Wall time: 8min 22s\n"
     ]
    }
   ],
   "source": [
    "%%time\n",
    "\n",
    "test_data = en.data_import(Data,label_output='target_label')\n",
    "en.metric_set('accuracy_score')\n",
    "param_gb_1 = en.parameter_set_gradient_boosting(eval_metric = ['auc'], objective = [\"multi:softmax\"],num_class=7)\n",
    "param_dt = en.parameter_set_decision_tree()\n",
    "param_rf = en.parameter_set_random_forest()\n",
    "param_l2 = en.parameter_set_logistic_regression(solver = ['lbfgs'])\n",
    "param_l1 = en.parameter_set_logistic_regression(penalty = ['l2'], solver = ['lbfgs'])\n",
    "en.train_base_models(['gradient_boosting','decision_tree',\\\n",
    "                                     'random_forest','logistic_regression',\\\n",
    "                                     'logistic_regression'],[param_gb_1, param_dt, param_rf\n",
    "                                                                                 , param_l2, param_l1])\n",
    "\n",
    "en.train_ensemble_models(['logistic_regression', 'gradient_boosting'], [param_l1, param_gb_1],\n",
    "                      ['gradient_boosting','logistic_regression'],[param_gb_1,param_l2])\n",
    "\n",
    "en.test_models(test_data)"
   ]
  },
  {
   "cell_type": "code",
   "execution_count": null,
   "metadata": {
    "collapsed": true
   },
   "outputs": [],
   "source": []
  }
 ],
 "metadata": {
  "kernelspec": {
   "display_name": "Python 3",
   "language": "python",
   "name": "python3"
  },
  "language_info": {
   "codemirror_mode": {
    "name": "ipython",
    "version": 3
   },
   "file_extension": ".py",
   "mimetype": "text/x-python",
   "name": "python",
   "nbconvert_exporter": "python",
   "pygments_lexer": "ipython3",
   "version": "3.5.2"
  }
 },
 "nbformat": 4,
 "nbformat_minor": 0
}
