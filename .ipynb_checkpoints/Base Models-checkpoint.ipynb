{
 "cells": [
  {
   "cell_type": "code",
   "execution_count": 16,
   "metadata": {
    "collapsed": false
   },
   "outputs": [],
   "source": [
    "import pandas as pd\n",
    "import numpy as np\n",
    "import matplotlib.pyplot as plt\n",
    "from sklearn import datasets, linear_model, preprocessing\n",
    "from sklearn.preprocessing import Imputer, PolynomialFeatures\n",
    "from sklearn.tree import DecisionTreeClassifier\n",
    "from sklearn.cross_validation import KFold\n",
    "from sklearn.ensemble import RandomForestClassifier\n",
    "from sklearn.cross_validation import StratifiedKFold, KFold\n",
    "from keras.layers import Dense, Activation, LSTM\n",
    "from keras.models import Sequential\n",
    "from keras.regularizers import l2, activity_l2\n",
    "from sklearn.ensemble import GradientBoostingClassifier\n",
    "import xgboost as xgb\n",
    "from sklearn.metrics import roc_auc_score\n",
    "from sklearn.cross_validation import train_test_split"
   ]
  },
  {
   "cell_type": "code",
   "execution_count": 17,
   "metadata": {
    "collapsed": false
   },
   "outputs": [],
   "source": [
    "#Reading the data, into a Data Frame.\n",
    "Data = pd.read_csv('/home/prajwal/Desktop/bank-additional/bank-additional-full.csv',delimiter=';',header=0)\n",
    "\n",
    "#Encoding the data, encoding the string values into numerical values.\n",
    "encode = preprocessing.LabelEncoder()\n",
    "\n",
    "#Selcting the columns of string data type\n",
    "names = Data.select_dtypes(include=['object'])\n",
    "\n",
    "#Function that encodes the string values to numerical values.\n",
    "def enc(data,column):\n",
    "    data[column] = encode.fit_transform(data[column])\n",
    "    return data\n",
    "for column in names:\n",
    "        Data = enc(Data,column)\n",
    "        \n",
    "#Splitting the data into training and testing datasets\n",
    "Data, test = train_test_split(Data, test_size = 0.05)\n",
    "\n",
    "#Initializing two data frames that will be used as training data for the stacked model.\n",
    "stack_X = pd.DataFrame() #The data frame will contain the predictions of the base models.\n",
    "stack_Y = pd.DataFrame() #The data frame will contain the calss labels of the base models.\n",
    "\n",
    "#Initializing two data frames that will be used as training data for the blending model.\n",
    "blend_X = pd.DataFrame() #The data frames will contain the predictions and raw features  of the base models.\n",
    "raw_features_X = pd.DataFrame() #The data frames will contain the raw features  of the data, which will be concatenated with the predictions."
   ]
  },
  {
   "cell_type": "code",
   "execution_count": 18,
   "metadata": {
    "collapsed": true
   },
   "outputs": [],
   "source": [
    "#This function is used to convert the predictions of the base models into a DataFrame.\n",
    "def build_data_frame(data):\n",
    "    data_frame = pd.DataFrame(data).T\n",
    "    return data_frame"
   ]
  },
  {
   "cell_type": "code",
   "execution_count": 19,
   "metadata": {
    "collapsed": true
   },
   "outputs": [],
   "source": [
    "#Defining the parameters for the XGBoost (Gradient Boosting) Algorithm.\n",
    "def param_set():\n",
    "    #Gradient Boosting (XGBoost)\n",
    "    param = {}\n",
    "    #Setting Parameters for the Booster\n",
    "    param['booster'] = 'gbtree'\n",
    "    param['objective'] = 'binary:logistic'\n",
    "    param[\"eval_metric\"] = \"auc\"\n",
    "    param['eta'] = 0.3\n",
    "    param['gamma'] = 0\n",
    "    param['max_depth'] = 6\n",
    "    param['min_child_weight'] = 1\n",
    "    param['max_delta_step'] = 0\n",
    "    param['subsample'] = 1\n",
    "    param['colsample_bytree'] = 1\n",
    "    param['silent'] = 1\n",
    "    param['seed'] = 0\n",
    "    param['base_score'] = 0.5\n",
    "    param['lambda_bias'] = 1\n",
    "    return param"
   ]
  },
  {
   "cell_type": "code",
   "execution_count": 20,
   "metadata": {
    "collapsed": false
   },
   "outputs": [],
   "source": [
    "#This function is used to train the base and stacking models. Returns all the models to be used for further computations.\n",
    "def train_models(train_X,train_Y,model):\n",
    "    \n",
    "    param = param_set()\n",
    "    #Trains only the base models.\n",
    "    if(model=='base'):\n",
    "        \n",
    "        #Gradient Boosting\n",
    "        dtrain = xgb.DMatrix(train_X,label=train_Y)\n",
    "        gradient_boosting = xgb.train(param, dtrain)\n",
    "        \n",
    "        #Multi Layer Perceptron\n",
    "        multi_layer_perceptron = Sequential()\n",
    "        multi_layer_perceptron.add(Dense(output_dim = 64, input_dim = 20, init = 'uniform', activation = 'sigmoid'))\n",
    "        multi_layer_perceptron.add(Dense(output_dim = 1, input_dim = 64,activation = 'sigmoid',))\n",
    "        multi_layer_perceptron.compile(optimizer = 'rmsprop',loss = 'binary_crossentropy',metrics = ['accuracy'])\n",
    "        multi_layer_perceptron.fit(train_X.as_matrix(), train_Y.as_matrix(), nb_epoch = 5, batch_size = 128)\n",
    "        \n",
    "        #Decision Tree\n",
    "        decision_tree = DecisionTreeClassifier(max_depth = 6)\n",
    "        decision_tree.fit(train_X,train_Y)\n",
    "        \n",
    "        #Random Forest (Deafult=10 Trees)\n",
    "        random_forest = RandomForestClassifier()\n",
    "        random_forest.fit(train_X,train_Y)\n",
    "        \n",
    "        #Scaling the data\n",
    "        train_X = preprocessing.StandardScaler().fit_transform(train_X) \n",
    "        \n",
    "        #Linear Regression\n",
    "        linear_regression = linear_model.LinearRegression()\n",
    "        linear_regression.fit(train_X,train_Y)\n",
    "        \n",
    "        #Logistic Regression (L1)\n",
    "        logistic_regression_L1 = linear_model.LogisticRegression(penalty = 'l1')\n",
    "        logistic_regression_L1.fit(train_X,train_Y)\n",
    "        \n",
    "        #Logistic Regression (L2)\n",
    "        logistic_regression_L2 = linear_model.LogisticRegression(penalty = 'l2')\n",
    "        logistic_regression_L2.fit(train_X,train_Y)\n",
    "        \n",
    "        #Returns a dictionary containing the model names and their respective models.\n",
    "        return {'XGBoost':gradient_boosting,'Multi Layer Perceptron':multi_layer_perceptron,'Decision Tree':decision_tree,\n",
    "           'Random Forest':random_forest,'Linear Regression':linear_regression,'L1':logistic_regression_L1,\n",
    "            'L2':logistic_regression_L2}\n",
    "    \n",
    "    #Trains the stacking model (Gradient Boosting - XGBoost)\n",
    "    elif(model == 'stack'):\n",
    "        \n",
    "        dtrain = xgb.DMatrix(train_X,label = train_Y)\n",
    "        stack = xgb.train(param, dtrain)\n",
    "        return {'Stack':stack}\n",
    "    \n",
    "    #Trains the blending model (Gradient Boosting - XGBoost)\n",
    "    else:\n",
    "        \n",
    "        dtrain = xgb.DMatrix(train_X,label = train_Y)\n",
    "        blend = xgb.train(param, dtrain)\n",
    "        return {'Blend':blend}"
   ]
  },
  {
   "cell_type": "code",
   "execution_count": 21,
   "metadata": {
    "collapsed": true
   },
   "outputs": [],
   "source": [
    "#Function calculates area under the curve and predictions on the given data, for the model specified.\n",
    "def cross_validation(model_name,model,cross_val_X,cross_val_Y):\n",
    "    \n",
    "    if(model_name == 'Gradient Boosting' or model_name == 'Linear Regression'):\n",
    "        \n",
    "        predict = model.predict(cross_val_X)\n",
    "        \n",
    "    elif(model_name == 'Multi Layer Perceptron'):\n",
    "        \n",
    "        predict = model.predict_on_batch(cross_val_X)\n",
    "    else:\n",
    "        \n",
    "        predict = model.predict_proba(cross_val_X)[:,1]\n",
    "        \n",
    "    auc = roc_auc_score(cross_val_Y,predict)\n",
    "    \n",
    "    return[auc,predict]"
   ]
  },
  {
   "cell_type": "code",
   "execution_count": 22,
   "metadata": {
    "collapsed": false
   },
   "outputs": [],
   "source": [
    "#Initialzing the variables that will be used to calculate the area under the curve. (cross Validation Data)\n",
    "metric_linear_regression=list()\n",
    "avg_linear_regeression=0\n",
    "metric_logistic_regression_L2=list()\n",
    "avg_logistic_regression_L2=0\n",
    "metric_logistic_regression_L1=list()\n",
    "avg_logistic_regression_L1=0\n",
    "metric_decision_tree=list()\n",
    "avg_decision_tree=0\n",
    "metric_random_forest=list()\n",
    "avg_random_forest=0\n",
    "metric_multi_layer_perceptron=list()\n",
    "avg_multi_layer_perceptron=0\n",
    "metric_gradient_boosting=list()\n",
    "avg_gradient_boosting=0"
   ]
  },
  {
   "cell_type": "code",
   "execution_count": 23,
   "metadata": {
    "collapsed": false
   },
   "outputs": [],
   "source": [
    "#Cross Validation using Stratified K Fold\n",
    "kf = StratifiedKFold(Data['y'], n_folds=5, shuffle=True)"
   ]
  },
  {
   "cell_type": "code",
   "execution_count": 24,
   "metadata": {
    "collapsed": false
   },
   "outputs": [
    {
     "name": "stdout",
     "output_type": "stream",
     "text": [
      "Epoch 1/5\n",
      "31301/31301 [==============================] - 0s - loss: 0.2967 - acc: 0.8874     \n",
      "Epoch 2/5\n",
      "31301/31301 [==============================] - 0s - loss: 0.2654 - acc: 0.8905     \n",
      "Epoch 3/5\n",
      "31301/31301 [==============================] - 0s - loss: 0.2569 - acc: 0.8976     \n",
      "Epoch 4/5\n",
      "31301/31301 [==============================] - 0s - loss: 0.2535 - acc: 0.9005     \n",
      "Epoch 5/5\n",
      "31301/31301 [==============================] - 0s - loss: 0.2521 - acc: 0.9017     \n",
      "Epoch 1/5\n",
      "31302/31302 [==============================] - 0s - loss: 0.3100 - acc: 0.8843     \n",
      "Epoch 2/5\n",
      "31302/31302 [==============================] - 0s - loss: 0.2717 - acc: 0.8882     \n",
      "Epoch 3/5\n",
      "31302/31302 [==============================] - 0s - loss: 0.2591 - acc: 0.8984     \n",
      "Epoch 4/5\n",
      "31302/31302 [==============================] - 0s - loss: 0.2533 - acc: 0.8995     \n",
      "Epoch 5/5\n",
      "31302/31302 [==============================] - 0s - loss: 0.2513 - acc: 0.9035     \n",
      "Epoch 1/5\n",
      "31303/31303 [==============================] - 0s - loss: 0.4028 - acc: 0.8383     \n",
      "Epoch 2/5\n",
      "31303/31303 [==============================] - 0s - loss: 0.2968 - acc: 0.8909     \n",
      "Epoch 3/5\n",
      "31303/31303 [==============================] - 0s - loss: 0.2748 - acc: 0.8993     \n",
      "Epoch 4/5\n",
      "31303/31303 [==============================] - 0s - loss: 0.2630 - acc: 0.9003     \n",
      "Epoch 5/5\n",
      "31303/31303 [==============================] - 0s - loss: 0.2582 - acc: 0.9002     \n",
      "Epoch 1/5\n",
      "31303/31303 [==============================] - 0s - loss: 0.3729 - acc: 0.8435     \n",
      "Epoch 2/5\n",
      "31303/31303 [==============================] - 0s - loss: 0.2732 - acc: 0.8871     \n",
      "Epoch 3/5\n",
      "31303/31303 [==============================] - 0s - loss: 0.2632 - acc: 0.8912     \n",
      "Epoch 4/5\n",
      "31303/31303 [==============================] - 0s - loss: 0.2613 - acc: 0.8960     \n",
      "Epoch 5/5\n",
      "31303/31303 [==============================] - 0s - loss: 0.2548 - acc: 0.9008     \n",
      "Epoch 1/5\n",
      "31303/31303 [==============================] - 0s - loss: 0.4565 - acc: 0.7774     \n",
      "Epoch 2/5\n",
      "31303/31303 [==============================] - 0s - loss: 0.3112 - acc: 0.8871     \n",
      "Epoch 3/5\n",
      "31303/31303 [==============================] - 0s - loss: 0.2957 - acc: 0.8871     \n",
      "Epoch 4/5\n",
      "31303/31303 [==============================] - 0s - loss: 0.2832 - acc: 0.8871     \n",
      "Epoch 5/5\n",
      "31303/31303 [==============================] - 0s - loss: 0.2736 - acc: 0.8871     \n"
     ]
    }
   ],
   "source": [
    "#Training the base models, and calculating AUC on the cross validation data.\n",
    "for train_index, cross_val_index in kf:\n",
    "    \n",
    "    #Selecting the data (Traing Data & Cross Validation Data)\n",
    "    train, cross_val = Data.iloc[train_index], Data.iloc[cross_val_index]\n",
    "    train_Y=train['y']\n",
    "    train_X=train.drop(['y'],axis=1)\n",
    "    cross_val_Y=cross_val['y']\n",
    "    cross_val_X=cross_val.drop(['y'],axis=1)\n",
    "    \n",
    "    #Training the base models, the resulting model names and models are stored in the variable model in the from of a dictionary.\n",
    "    model=train_models(train_X,train_Y,'base')\n",
    "  \n",
    "    #Gradient Boosting (XGBoost)\n",
    "    #The AUC error (Cross Validation Data)\n",
    "    [auc,predict_gradient_boosting]=cross_validation('Gradient Boosting',model['XGBoost'],xgb.DMatrix(cross_val_X,label=cross_val_Y),cross_val_Y)\n",
    "    metric_gradient_boosting.append(auc)\n",
    "\n",
    "    #Multi Layer Perceptron\n",
    "    #The AUC (Cross Validation Data)\n",
    "    predict_mlp=list()\n",
    "    [auc,predict_multi_layer_perceptron]=cross_validation('Multi Layer Perceptron',model['Multi Layer Perceptron'],cross_val_X,cross_val_Y)\n",
    "    metric_multi_layer_perceptron.append(auc)\n",
    "    #predict_multi_layer_perceptron returns a list of lists containing the predictions, this cannot be converted to a dataframe.\n",
    "    #This inner lists are converted to floats and then used to convert it to a dataframe.\n",
    "    for i in predict_multi_layer_perceptron:\n",
    "        predict_mlp.append(float(i))\n",
    "    \n",
    "    #Decision Tree)\n",
    "    #The AUC (Cross Validation Data)\n",
    "    [auc,predict_decision_tree]=cross_validation('Decision Tree',model['Decision Tree'],cross_val_X,cross_val_Y)\n",
    "    metric_decision_tree.append(auc)\n",
    "    \n",
    "    #Random Forest (Deafult=10 Trees)\n",
    "    #The AUC (Cross Validation Data)\n",
    "    [auc,predict_random_forest]=cross_validation('Random Forest',model['Random Forest'],cross_val_X,cross_val_Y)\n",
    "    metric_random_forest.append(auc)\n",
    "    \n",
    "    #Scaling the cross validation data.\n",
    "    cross_val_X=preprocessing.StandardScaler().fit_transform(cross_val_X)\n",
    "    \n",
    "    #Linear Regression\n",
    "    #The AUC (Cross Validation Data)\n",
    "    [auc,predict_linear_regression]=cross_validation('Linear Regression',model['Linear Regression'],cross_val_X,cross_val_Y)\n",
    "    metric_linear_regression.append(auc)\n",
    "    \n",
    "    #Logistic Regression (Default=l2)\n",
    "    #The AUC (Cross Validation Data)\n",
    "    [auc,predict_logistic_regression_L2]=cross_validation('L2',model['L2'],cross_val_X,cross_val_Y)\n",
    "    metric_logistic_regression_L2.append(auc)\n",
    "    \n",
    "    #Logistic Regression-L1\n",
    "    #The AUC (Cross Validation Data)\n",
    "    [auc,predict_logistic_regression_L1]=cross_validation('L1',model['L1'],cross_val_X,cross_val_Y)\n",
    "    metric_logistic_regression_L1.append(auc)\n",
    "    \n",
    "    #Building a list that contains all the predictions of the base models.\n",
    "    predict_list=[predict_gradient_boosting,predict_decision_tree,predict_random_forest, \n",
    "                               predict_linear_regression,predict_logistic_regression_L2,\n",
    "                               predict_logistic_regression_L1,predict_mlp]\n",
    "    \n",
    "    #Converting the above list of predictions into a dataframe, which will be used to train the stacking model.\n",
    "    stack_Y=stack_Y.append(cross_val_Y.tolist())\n",
    "    stack_X=stack_X.append(build_data_frame(predict_list))\n",
    "    \n",
    "    #Building a list that contains all the raw features used as cross validation data for the base models.\n",
    "    raw_features_X=raw_features_X.append(cross_val_X.tolist())"
   ]
  },
  {
   "cell_type": "code",
   "execution_count": 25,
   "metadata": {
    "collapsed": false
   },
   "outputs": [],
   "source": [
    "#Calculating the average AUC across all the AUC computed on the cross validation folds.\n",
    "avg_linear_regression=np.mean(metric_linear_regression)\n",
    "avg_logistic_regression_L2=np.mean(metric_logistic_regression_L2)\n",
    "avg_logistic_regression_L1=np.mean(metric_logistic_regression_L1)\n",
    "avg_decision_tree=np.mean(metric_decision_tree)\n",
    "avg_random_forest=np.mean(metric_random_forest)\n",
    "avg_multi_layer_perceptron=np.mean(metric_multi_layer_perceptron)\n",
    "avg_gradient_boosting=np.mean(metric_gradient_boosting)"
   ]
  },
  {
   "cell_type": "code",
   "execution_count": 26,
   "metadata": {
    "collapsed": false
   },
   "outputs": [
    {
     "name": "stdout",
     "output_type": "stream",
     "text": [
      " AUC (Linear Regression)\n",
      " 0.92799559916\n",
      " AUC (Logistic Regression - L2)\n",
      " 0.929327854285\n",
      " AUC (Logistic Regression - L1)\n",
      " 0.929340608141\n",
      " AUC (Decision Tree)\n",
      " 0.926347536483\n",
      " AUC (Random Forest)\n",
      " 0.920389794044\n",
      " AUC (Multi Layer Perceptron)\n",
      " 0.880451664635\n",
      " AUC (Gradient Boosting - XGBoost)\n",
      " 0.948663589601\n"
     ]
    }
   ],
   "source": [
    "#Printing the AUC for the base models.\n",
    "print (' AUC (Linear Regression)\\n',avg_linear_regression)\n",
    "print (' AUC (Logistic Regression - L2)\\n',avg_logistic_regression_L2)\n",
    "print (' AUC (Logistic Regression - L1)\\n',avg_logistic_regression_L1)\n",
    "print (' AUC (Decision Tree)\\n',avg_decision_tree)\n",
    "print (' AUC (Random Forest)\\n',avg_random_forest)\n",
    "print (' AUC (Multi Layer Perceptron)\\n',avg_multi_layer_perceptron)\n",
    "print (' AUC (Gradient Boosting - XGBoost)\\n',avg_gradient_boosting)"
   ]
  },
  {
   "cell_type": "code",
   "execution_count": 27,
   "metadata": {
    "collapsed": false
   },
   "outputs": [],
   "source": [
    "#Training the stacking model(XGBoost-Gradient Boosting)\n",
    "model_stack=train_models(stack_X,stack_Y,'stack')\n",
    "\n",
    "#Converting the above list of predictions and raw features (Concatenate) into a dataframe, which will be used to train the blending model.\n",
    "blend_X=pd.concat([raw_features_X, stack_X], axis=1,ignore_index=True)\n",
    "\n",
    "#Training the blending model(XGBoost-Gradient Boosting)\n",
    "model_blend=train_models(blend_X,stack_Y,'blend')"
   ]
  },
  {
   "cell_type": "code",
   "execution_count": 28,
   "metadata": {
    "collapsed": false
   },
   "outputs": [],
   "source": [
    "#Initialzing the variables that will be used to calculate the area under the curve. (Test Data)\n",
    "metric_logistic_regression_L2=list()\n",
    "metric_logistic_regression_L1=list()\n",
    "metric_decision_tree=list()\n",
    "metric_random_forest=list()\n",
    "metric_multi_layer_perceptron=list()\n",
    "metric_gradient_boosting=list()\n",
    "metric_stack=list()\n",
    "metric_blend=list()\n",
    "blend_X = pd.DataFrame()\n",
    "raw_features_X = pd.DataFrame()"
   ]
  },
  {
   "cell_type": "code",
   "execution_count": 29,
   "metadata": {
    "collapsed": false
   },
   "outputs": [],
   "source": [
    "#Calculating AUC for all the models (Base Models & Stack Model) on the test data.\n",
    "\n",
    "#Selecting the test data\n",
    "test_Y=test['y']\n",
    "test_X=test.drop(['y'],axis=1)\n",
    "    \n",
    "#Gradient Boosting (XGBoost)\n",
    "#The AUC error (Test Data)\n",
    "[auc,predict_XGB]=cross_validation('Gradient Boosting',model['XGBoost'],xgb.DMatrix(test_X,label=test_Y),test_Y)\n",
    "metric_gradient_boosting=(auc)\n",
    "\n",
    "    \n",
    "#Multi Layer Perceptron\n",
    "#The AUC (Test Data)\n",
    "predict_mlp=list()\n",
    "[auc,predict_multi_layer_perceptron]=cross_validation('Multi Layer Perceptron',model['Multi Layer Perceptron'],test_X,test_Y)\n",
    "metric_multi_layer_perceptron=(auc)\n",
    "#predict_multi_layer_perceptron returns a list of lists containing the predictions, this cannot be converted to a dataframe.\n",
    "#This inner lists are converted to floats and then used to convert it to a dataframe.\n",
    "for i in predict_multi_layer_perceptron:\n",
    "        predict_mlp.append(float(i))\n",
    "\n",
    "\n",
    "#Decision Tree)\n",
    "#The AUC (Test Data)\n",
    "[auc,predict_decision_tree]=cross_validation('Decision Tree',model['Decision Tree'],test_X,test_Y)\n",
    "metric_decision_tree=(auc)\n",
    "    \n",
    "    \n",
    "#Random Forest (Deafult=10 Trees)\n",
    "#The AUC (Test Data)\n",
    "[auc,predict_random_forest]=cross_validation('Random Forest',model['Random Forest'],test_X,test_Y)\n",
    "metric_random_forest=(auc)\n",
    "    \n",
    "test_X=preprocessing.StandardScaler().fit_transform(test_X)\n",
    "#Linear Regression\n",
    "#The AUC (Test Data)\n",
    "[auc,predict_linear_regression]=cross_validation('Linear Regression',model['Linear Regression'],test_X,test_Y)\n",
    "metric_linear_regression=(auc)\n",
    "    \n",
    "#Logistic Regression (Default=l2)\n",
    "#The AUC (Test Data)\n",
    "[auc,predict_logistic_regression_L2]=cross_validation('L2',model['L2'],test_X,test_Y)\n",
    "metric_logistic_regression_L2=(auc)\n",
    "\n",
    "#Logistic Regression-L1\n",
    "#The AUC (Test Data)\n",
    "[auc,predict_logistic_regression_L1]=cross_validation('L1',model['L1'],test_X,test_Y)\n",
    "metric_logistic_regression_L1=(auc)\n",
    "\n",
    "#Building a list that contains all the predictions of the base models.\n",
    "predict_list=[predict_XGB,predict_decision_tree,predict_random_forest, \n",
    "                               predict_linear_regression,predict_logistic_regression_L2,\n",
    "                               predict_logistic_regression_L1,predict_mlp]\n",
    "    \n",
    "#Stacking (XGBoost - Gradient Boosting)\n",
    "dstack_X=build_data_frame(predict_list) #Converting the list of predictions into a dataframe.\n",
    "[auc,predict_stack]=cross_validation('Gradient Boosting',model_stack['Stack'],xgb.DMatrix(dstack_X,label=test_Y),test_Y)\n",
    "metric_stack=(auc)    \n",
    "\n",
    "#Blending (XGBoost - Gradient Boosting)\n",
    "raw_features_X=raw_features_X.append(test_X.tolist())\n",
    "blend_X=pd.concat([raw_features_X, dstack_X], axis=1,ignore_index=True)#Converting the above list of predictions and raw features (Concatenate) into a dataframe\n",
    "[auc,predict_blend]=cross_validation('Gradient Boosting',model_blend['Blend'],xgb.DMatrix(blend_X,label=test_Y),test_Y)\n",
    "metric_blend=(auc) "
   ]
  },
  {
   "cell_type": "code",
   "execution_count": 30,
   "metadata": {
    "collapsed": false,
    "scrolled": true
   },
   "outputs": [
    {
     "name": "stdout",
     "output_type": "stream",
     "text": [
      " AUC (Linear Regression)\n",
      " 0.933935379707\n",
      " AUC (Logistic Regression - L2)\n",
      " 0.935807656396\n",
      " AUC (Logistic Regression - L1)\n",
      " 0.93584169779\n",
      " AUC (Decision Tree)\n",
      " 0.915993133364\n",
      " AUC (Random Forest)\n",
      " 0.928094849051\n",
      " AUC (Multi Layer Perceptron)\n",
      " 0.856318569094\n",
      " AUC (Gradient Boosting - XGBoost)\n",
      " 0.939785636477\n",
      " AUC (Stacking)\n",
      " 0.945872967242\n",
      " AUC (Blending)\n",
      " 0.944417697635\n"
     ]
    }
   ],
   "source": [
    "print (' AUC (Linear Regression)\\n',metric_linear_regression)\n",
    "print (' AUC (Logistic Regression - L2)\\n',metric_logistic_regression_L2)\n",
    "print (' AUC (Logistic Regression - L1)\\n',metric_logistic_regression_L1)\n",
    "print (' AUC (Decision Tree)\\n',metric_decision_tree)\n",
    "print (' AUC (Random Forest)\\n',metric_random_forest)\n",
    "print (' AUC (Multi Layer Perceptron)\\n',metric_multi_layer_perceptron)\n",
    "print (' AUC (Gradient Boosting - XGBoost)\\n',metric_gradient_boosting)\n",
    "print (' AUC (Stacking)\\n',metric_stack)\n",
    "print (' AUC (Blending)\\n',metric_blend)"
   ]
  },
  {
   "cell_type": "code",
   "execution_count": null,
   "metadata": {
    "collapsed": true
   },
   "outputs": [],
   "source": []
  }
 ],
 "metadata": {
  "kernelspec": {
   "display_name": "Python 3",
   "language": "python",
   "name": "python3"
  },
  "language_info": {
   "codemirror_mode": {
    "name": "ipython",
    "version": 3
   },
   "file_extension": ".py",
   "mimetype": "text/x-python",
   "name": "python",
   "nbconvert_exporter": "python",
   "pygments_lexer": "ipython3",
   "version": "3.5.1"
  }
 },
 "nbformat": 4,
 "nbformat_minor": 0
}
