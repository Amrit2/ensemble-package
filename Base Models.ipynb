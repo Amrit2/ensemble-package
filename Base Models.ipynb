{
 "cells": [
  {
   "cell_type": "code",
   "execution_count": 211,
   "metadata": {
    "collapsed": true
   },
   "outputs": [],
   "source": [
    "import pandas as pd\n",
    "import numpy as np\n",
    "import matplotlib.pyplot as plt\n",
    "from sklearn import datasets, linear_model, preprocessing\n",
    "from sklearn.preprocessing import Imputer, PolynomialFeatures\n",
    "from sklearn.tree import DecisionTreeClassifier\n",
    "from sklearn.cross_validation import KFold"
   ]
  },
  {
   "cell_type": "code",
   "execution_count": 212,
   "metadata": {
    "collapsed": false
   },
   "outputs": [],
   "source": [
    "encode = preprocessing.LabelEncoder()\n",
    "Data = pd.read_csv('/home/prajwal/Desktop/bank-additional/bank-additional-full.csv',delimiter=';',header=0)\n",
    "#print (Data)\n",
    "Data.job = encode.fit_transform(Data.job)\n",
    "Data.marital = encode.fit_transform(Data.marital)\n",
    "Data.education = encode.fit_transform(Data.education)\n",
    "Data.default = encode.fit_transform(Data.default)\n",
    "Data.housing = encode.fit_transform(Data.housing)\n",
    "Data.loan = encode.fit_transform(Data.loan)\n",
    "Data.contact = encode.fit_transform(Data.contact)\n",
    "Data.month = encode.fit_transform(Data.month)\n",
    "Data.day_of_week = encode.fit_transform(Data.day_of_week)\n",
    "Data.poutcome = encode.fit_transform(Data.poutcome)\n",
    "Data.y = encode.fit_transform(Data.y)"
   ]
  },
  {
   "cell_type": "code",
   "execution_count": 213,
   "metadata": {
    "collapsed": false
   },
   "outputs": [],
   "source": [
    "mean_LinearRegression=list()\n",
    "avg_LinearRegeression=0\n",
    "mean_L2=list()\n",
    "avg_L2=0\n",
    "mean_L1=list()\n",
    "avg_L1=0"
   ]
  },
  {
   "cell_type": "code",
   "execution_count": 214,
   "metadata": {
    "collapsed": true
   },
   "outputs": [],
   "source": [
    "variance_L2=list()\n",
    "variance_L1=list()"
   ]
  },
  {
   "cell_type": "code",
   "execution_count": 215,
   "metadata": {
    "collapsed": true
   },
   "outputs": [],
   "source": [
    "kf = KFold(Data.shape[0], n_folds=5,shuffle=True)"
   ]
  },
  {
   "cell_type": "code",
   "execution_count": 216,
   "metadata": {
    "collapsed": false
   },
   "outputs": [],
   "source": [
    "for train_index, cross_val_index in kf:\n",
    "    train, cross_val = Data.iloc[train_index], Data.iloc[cross_val_index]\n",
    "    train_Y=train['y']\n",
    "    train_X=train.drop(['y'],axis=1)\n",
    "    cross_val_Y=cross_val['y']\n",
    "    cross_val_X=cross_val.drop(['y'],axis=1)\n",
    "    predict=list()\n",
    "    train_X=preprocessing.StandardScaler().fit_transform(train_X)\n",
    "    cross_val_X=preprocessing.StandardScaler().fit_transform(cross_val_X)\n",
    "    \n",
    "    #Linear Regression\n",
    "    regr = linear_model.LinearRegression()\n",
    "    regr.fit(train_X,train_Y)\n",
    "    predict=regr.predict(cross_val_X)\n",
    "    predict[(predict>=0.5)]=1\n",
    "    predict[(predict<0.5)]=0\n",
    "    mean_LinearRegression.append((np.mean((predict - cross_val_Y) ** 2)))\n",
    "    \n",
    "    #Logistic Regression (Default=L2)\n",
    "    regr = linear_model.LogisticRegression(penalty='l2')\n",
    "    regr.fit(train_X,train_Y)\n",
    "    mean_L2.append((np.mean((regr.predict(cross_val_X) - cross_val_Y) ** 2)))\n",
    "    #Explained variance score: 1 is perfect prediction\n",
    "    variance_L2.append(regr.score(cross_val_X, cross_val_Y))\n",
    "    \n",
    "    #Logistic Regression-L1\n",
    "    regr = linear_model.LogisticRegression(penalty='l1')\n",
    "    regr.fit(train_X,train_Y)\n",
    "    mean_L1.append(np.mean((regr.predict(cross_val_X) - cross_val_Y) ** 2))\n",
    "    #Explained variance score: 1 is perfect prediction\n",
    "    variance_L1.append(regr.score(cross_val_X, cross_val_Y))\n",
    "    "
   ]
  },
  {
   "cell_type": "code",
   "execution_count": 217,
   "metadata": {
    "collapsed": false
   },
   "outputs": [],
   "source": [
    "avg_LinearRegression=np.mean(mean_LinearRegression)\n",
    "avg_L2=np.mean(mean_L2)\n",
    "avg_L1=np.mean(mean_L1)"
   ]
  },
  {
   "cell_type": "code",
   "execution_count": 218,
   "metadata": {
    "collapsed": false
   },
   "outputs": [
    {
     "name": "stdout",
     "output_type": "stream",
     "text": [
      " Mean (Linear Regression)\n",
      " 0.0933037331803\n"
     ]
    }
   ],
   "source": [
    "print (' Mean Error (Linear Regression)\\n',avg_LinearRegression)"
   ]
  },
  {
   "cell_type": "code",
   "execution_count": 219,
   "metadata": {
    "collapsed": false
   },
   "outputs": [
    {
     "name": "stdout",
     "output_type": "stream",
     "text": [
      " Mean (Logistic Regression - L2)\n",
      " 0.0899047792186\n"
     ]
    }
   ],
   "source": [
    "print (' Mean Error (Logistic Regression - L2)\\n',avg_L2)"
   ]
  },
  {
   "cell_type": "code",
   "execution_count": 221,
   "metadata": {
    "collapsed": false
   },
   "outputs": [
    {
     "name": "stdout",
     "output_type": "stream",
     "text": [
      " Mean Error (Logistic Regression - L1)\n",
      " 0.089977615378\n"
     ]
    }
   ],
   "source": [
    "print (' Mean Error (Logistic Regression - L1)\\n',avg_L1)"
   ]
  },
  {
   "cell_type": "code",
   "execution_count": null,
   "metadata": {
    "collapsed": true
   },
   "outputs": [],
   "source": []
  }
 ],
 "metadata": {
  "kernelspec": {
   "display_name": "Python 3",
   "language": "python",
   "name": "python3"
  },
  "language_info": {
   "codemirror_mode": {
    "name": "ipython",
    "version": 3
   },
   "file_extension": ".py",
   "mimetype": "text/x-python",
   "name": "python",
   "nbconvert_exporter": "python",
   "pygments_lexer": "ipython3",
   "version": "3.5.1"
  }
 },
 "nbformat": 4,
 "nbformat_minor": 0
}
