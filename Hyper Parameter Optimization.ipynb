{
 "cells": [
  {
   "cell_type": "code",
   "execution_count": 1,
   "metadata": {
    "collapsed": false
   },
   "outputs": [
    {
     "name": "stderr",
     "output_type": "stream",
     "text": [
      "Using Theano backend.\n"
     ]
    }
   ],
   "source": [
    "import pandas as pd\n",
    "import numpy as np\n",
    "import matplotlib.pyplot as plt\n",
    "from sklearn import datasets, linear_model, preprocessing, grid_search\n",
    "from sklearn.preprocessing import Imputer, PolynomialFeatures, StandardScaler\n",
    "from sklearn.tree import DecisionTreeClassifier\n",
    "from sklearn.cross_validation import KFold\n",
    "from sklearn.ensemble import RandomForestClassifier\n",
    "from sklearn.cross_validation import StratifiedKFold, KFold\n",
    "from sklearn.preprocessing import OneHotEncoder\n",
    "from sklearn.decomposition import PCA\n",
    "from keras.layers import Dense, Activation\n",
    "from keras.models import Sequential\n",
    "from keras.regularizers import l2, activity_l2\n",
    "import xgboost as xgb\n",
    "from sklearn.metrics import roc_auc_score\n",
    "from sklearn.cross_validation import train_test_split\n",
    "from joblib import Parallel, delayed\n",
    "from sklearn.pipeline import Pipeline\n",
    "from hyperopt import hp, fmin, tpe, STATUS_OK, Trials \n",
    "from hyperas import optim\n",
    "from hyperas.distributions import choice, uniform, conditional\n",
    "import category_encoders as ce\n",
    "import unittest"
   ]
  },
  {
   "cell_type": "code",
   "execution_count": 2,
   "metadata": {
    "collapsed": false,
    "scrolled": true
   },
   "outputs": [],
   "source": [
    "def Data_import():\n",
    "    \n",
    "    global Data\n",
    "    #Reading the data, into a Data Frame.\n",
    "    Data = pd.read_csv('/home/prajwal/Desktop/bank-additional/bank-additional-full.csv',delimiter=';',header=0)\n",
    "\n",
    "    #Selcting the columns of string data type\n",
    "    names = Data.select_dtypes(include = ['object'])\n",
    "    \n",
    "    #Converting string categorical variables to integer categorical variables.\n",
    "    label_encode(names.columns.tolist())\n",
    "    \n",
    "    global columns\n",
    "    columns = names.drop(['y'],axis=1).columns.tolist()"
   ]
  },
  {
   "cell_type": "markdown",
   "metadata": {},
   "source": [
    "# Label Encoding"
   ]
  },
  {
   "cell_type": "code",
   "execution_count": 3,
   "metadata": {
    "collapsed": true
   },
   "outputs": [],
   "source": [
    "#Function that encodes the string values to numerical values.\n",
    "def label_encode(column_names):\n",
    "    \n",
    "    global Data\n",
    "    #Encoding the data, encoding the string values into numerical values.\n",
    "    encoder = ce.OrdinalEncoder(verbose=1, cols=column_names)\n",
    "    Data = encoder.fit_transform(Data)"
   ]
  },
  {
   "cell_type": "markdown",
   "metadata": {},
   "source": [
    "# One Hot Encoding"
   ]
  },
  {
   "cell_type": "code",
   "execution_count": 4,
   "metadata": {
    "collapsed": true
   },
   "outputs": [],
   "source": [
    "#Encoding the data, encoding the string values into numerical values, using one hot encoding method.\n",
    "def perform_one_hot_encoding():\n",
    "    \n",
    "    global Data\n",
    "    #Finding the one hot encoding for all columns excpet the target label column.\n",
    "    for column in columns:\n",
    "    \n",
    "        #Converting the data frame column to an array\n",
    "        column_list = np.array(Data[column].tolist())\n",
    "        #Converting the array to a nested list for the one hot encode transformation\n",
    "        column_list_of_list = np.reshape(column_list,(-1,1))\n",
    "    \n",
    "        #Storing the one hot encode data frame\n",
    "        data_frame_one_hot = one_hot_encode(column_list_of_list,column)\n",
    "        \n",
    "        #Dropping the original column and then replacing it with the one hot encoded data frame.\n",
    "        Data = Data.drop([column],axis=1)\n",
    "        Data = pd.concat([Data, data_frame_one_hot], axis = 1)"
   ]
  },
  {
   "cell_type": "code",
   "execution_count": 5,
   "metadata": {
    "collapsed": true
   },
   "outputs": [],
   "source": [
    "def one_hot_encode(X,column_name):\n",
    "    \n",
    "    enc = OneHotEncoder()\n",
    "    X = enc.fit_transform(X).toarray()\n",
    "    #Converting X to a dataframe.\n",
    "    X = pd.DataFrame(X)\n",
    "    #Assigning column names to the one hot encoded columns.\n",
    "    X = X.rename(columns=lambda x: column_name + str(x))\n",
    "    return X"
   ]
  },
  {
   "cell_type": "code",
   "execution_count": 6,
   "metadata": {
    "collapsed": false
   },
   "outputs": [],
   "source": [
    "#def one_hot_encode(column_names):\n",
    "    \n",
    "    #global Data\n",
    "    #Encoding the data, encoding the string values into numerical values, using one-hot method\n",
    "    #encoder = ce.OneHotEncoder(cols=column_names)\n",
    "    #Data = encoder.fit_transform(Data)"
   ]
  },
  {
   "cell_type": "markdown",
   "metadata": {},
   "source": [
    "# Binary Encoding"
   ]
  },
  {
   "cell_type": "code",
   "execution_count": 7,
   "metadata": {
    "collapsed": false
   },
   "outputs": [],
   "source": [
    "def binary_encode(column_names):\n",
    "    \n",
    "    global Data\n",
    "    #Encoding the data, encoding the string values into numerical values, using binary method.\n",
    "    encoder = ce.BinaryEncoder(cols=column_names,verbose=1)\n",
    "    Data = encoder.fit_transform(Data)"
   ]
  },
  {
   "cell_type": "markdown",
   "metadata": {},
   "source": [
    "# Hashing Encoding"
   ]
  },
  {
   "cell_type": "code",
   "execution_count": 8,
   "metadata": {
    "collapsed": true
   },
   "outputs": [],
   "source": [
    "def hashing_encode(column_names):\n",
    "    \n",
    "    global Data\n",
    "    #Encoding the data, encoding the string values into numerical values, using hashing method.\n",
    "    encoder = ce.HashingEncoder(verbose=1, n_components=128, cols=column_names)\n",
    "    Data = encoder.fit_transform(Data)"
   ]
  },
  {
   "cell_type": "markdown",
   "metadata": {},
   "source": [
    "# Backward Difference Encoder"
   ]
  },
  {
   "cell_type": "code",
   "execution_count": 9,
   "metadata": {
    "collapsed": true
   },
   "outputs": [],
   "source": [
    "def backward_difference_encode(column_names):\n",
    "    \n",
    "    global Data\n",
    "    #Encoding the data, encoding the string values into numerical values, using backward difference method.\n",
    "    encoder = ce.BackwardDifferenceEncoder(verbose=1, cols=column_names)\n",
    "    Data = encoder.fit_transform(Data)"
   ]
  },
  {
   "cell_type": "markdown",
   "metadata": {},
   "source": [
    "# Helmert Encoding"
   ]
  },
  {
   "cell_type": "code",
   "execution_count": 10,
   "metadata": {
    "collapsed": true
   },
   "outputs": [],
   "source": [
    "def helmert_encode(column_names):\n",
    "    \n",
    "    global Data\n",
    "    #Encoding the data, encoding the string values into numerical values, using helmert method.\n",
    "    encoder = ce.HelmertEncoder(verbose=1, cols=column_names)\n",
    "    Data = encoder.fit_transform(Data)"
   ]
  },
  {
   "cell_type": "markdown",
   "metadata": {},
   "source": [
    "# Sample Generation"
   ]
  },
  {
   "cell_type": "code",
   "execution_count": 11,
   "metadata": {
    "collapsed": false
   },
   "outputs": [],
   "source": [
    "#Performing training, cross validation and testing on different stratified splits of the data.\n",
    "def sample_generation_one_hot_encode(n):\n",
    "    \n",
    "    for i in range(n):\n",
    "        Data_import()\n",
    "        perform_one_hot_encoding()\n",
    "        data_initialize()\n",
    "        data_split()\n",
    "        metric_initialize()\n",
    "        train_cross_val_base_models()\n",
    "        print_metric_cross_val(i)\n",
    "        train_second_level_models()\n",
    "        metric_initialize()\n",
    "        test_data()\n",
    "        print_metric_test(i)"
   ]
  },
  {
   "cell_type": "code",
   "execution_count": 12,
   "metadata": {
    "collapsed": true
   },
   "outputs": [],
   "source": [
    "#Performing training, cross validation and testing on different stratified splits of the data.\n",
    "def sample_generation_label_encode(n):\n",
    "    \n",
    "    for i in range(n):\n",
    "        Data_import()\n",
    "        data_initialize()\n",
    "        data_split()\n",
    "        metric_initialize()\n",
    "        train_cross_val_base_models()\n",
    "        print_metric_cross_val(i)\n",
    "        train_second_level_models()\n",
    "        metric_initialize()\n",
    "        test_data()\n",
    "        print_metric_test(i)"
   ]
  },
  {
   "cell_type": "code",
   "execution_count": 13,
   "metadata": {
    "collapsed": true
   },
   "outputs": [],
   "source": [
    "#Performing training, cross validation and testing on different stratified splits of the data.\n",
    "def sample_generation_hashing_encode(n):\n",
    "    \n",
    "    for i in range(n):\n",
    "        Data_import()\n",
    "        hashing_encode(columns)\n",
    "        data_initialize()\n",
    "        data_split()\n",
    "        metric_initialize()\n",
    "        train_cross_val_base_models()\n",
    "        print_metric_cross_val(i)\n",
    "        train_second_level_models()\n",
    "        metric_initialize()\n",
    "        test_data()\n",
    "        print_metric_test(i)"
   ]
  },
  {
   "cell_type": "code",
   "execution_count": 14,
   "metadata": {
    "collapsed": true
   },
   "outputs": [],
   "source": [
    "#Performing training, cross validation and testing on different stratified splits of the data.\n",
    "def sample_generation_backward_difference_encode(n):\n",
    "    \n",
    "    for i in range(n):\n",
    "        Data_import()\n",
    "        backward_difference_encode(columns)\n",
    "        data_initialize()\n",
    "        data_split()\n",
    "        metric_initialize()\n",
    "        train_cross_val_base_models()\n",
    "        print_metric_cross_val(i)\n",
    "        train_second_level_models()\n",
    "        metric_initialize()\n",
    "        test_data()\n",
    "        print_metric_test(i)"
   ]
  },
  {
   "cell_type": "code",
   "execution_count": 15,
   "metadata": {
    "collapsed": true
   },
   "outputs": [],
   "source": [
    "#Performing training, cross validation and testing on different stratified splits of the data.\n",
    "def sample_generation_helmert_encode(n):\n",
    "    \n",
    "    for i in range(n):\n",
    "        Data_import()\n",
    "        helmert_encode(columns)\n",
    "        data_initialize()\n",
    "        data_split()\n",
    "        metric_initialize()\n",
    "        train_cross_val_base_models()\n",
    "        print_metric_cross_val(i)\n",
    "        train_second_level_models()\n",
    "        metric_initialize()\n",
    "        test_data()\n",
    "        print_metric_test(i)"
   ]
  },
  {
   "cell_type": "code",
   "execution_count": 16,
   "metadata": {
    "collapsed": true
   },
   "outputs": [],
   "source": [
    "#Performing training, cross validation and testing on different stratified splits of the data.\n",
    "def sample_generation_binary_encode(n):\n",
    "    \n",
    "    for i in range(n):\n",
    "        Data_import()\n",
    "        binary_encode(columns)\n",
    "        data_initialize()\n",
    "        data_split()\n",
    "        metric_initialize()\n",
    "        train_cross_val_base_models()\n",
    "        print_metric_cross_val(i)\n",
    "        train_second_level_models()\n",
    "        metric_initialize()\n",
    "        test_data()\n",
    "        print_metric_test(i)"
   ]
  },
  {
   "cell_type": "code",
   "execution_count": 17,
   "metadata": {
    "collapsed": false
   },
   "outputs": [],
   "source": [
    "#Splitting the data into training and testing datasets (Stratified Split)\n",
    "def data_split():\n",
    "    \n",
    "    global Data\n",
    "    global test\n",
    "    Data, test = train_test_split(Data, test_size = 0.1, stratify = Data['y'])"
   ]
  },
  {
   "cell_type": "code",
   "execution_count": 18,
   "metadata": {
    "collapsed": true
   },
   "outputs": [],
   "source": [
    "#This function is used to convert the predictions of the base models into a DataFrame.\n",
    "def build_data_frame(data):\n",
    "    \n",
    "    data_frame = pd.DataFrame(data).T\n",
    "    return data_frame"
   ]
  },
  {
   "cell_type": "code",
   "execution_count": 19,
   "metadata": {
    "collapsed": true
   },
   "outputs": [],
   "source": [
    "def data_initialize():\n",
    "    \n",
    "    #Initializing the test dataset.\n",
    "    test = pd.DataFrame()\n",
    "    \n",
    "    global stack_X\n",
    "    global stack_Y\n",
    "    \n",
    "    #Initializing two data frames that will be used as training data for the stacked model.\n",
    "    #The data frame will contain the predictions of the base models.\n",
    "    stack_X = pd.DataFrame() \n",
    "    #The data frame will contain the calss labels of the base models.\n",
    "    stack_Y = pd.DataFrame() \n",
    "    \n",
    "    global blend_X\n",
    "    global raw_features_X\n",
    "    \n",
    "    #Initializing two data frames that will be used as training data for the blending model.\n",
    "    #The data frames will contain the predictions and raw features  of the base models.\n",
    "    blend_X = pd.DataFrame() \n",
    "    #The data frames will contain the raw features  of the data, which will be concatenated with the predictions.\n",
    "    raw_features_X = pd.DataFrame() \n",
    "    \n",
    "    global test_blend_X\n",
    "    global test_raw_features_X\n",
    "    global test_stack_X \n",
    "    global test_stack_Y\n",
    "    \n",
    "    #Initializing the dataframes that will be used for testing the stacking and blending models.\n",
    "    test_blend_X = pd.DataFrame()\n",
    "    test_raw_features_X = pd.DataFrame()\n",
    "    test_stack_X = pd.DataFrame()\n",
    "    test_stack_Y = pd.DataFrame() "
   ]
  },
  {
   "cell_type": "markdown",
   "metadata": {},
   "source": [
    "# Gradient Boosting (XGBoost)"
   ]
  },
  {
   "cell_type": "code",
   "execution_count": 20,
   "metadata": {
    "collapsed": true
   },
   "outputs": [],
   "source": [
    "#Defining the parameters for the XGBoost (Gradient Boosting) Algorithm.\n",
    "def param_set_XGBoost():\n",
    "    \n",
    "    #Gradient Boosting (XGBoost)\n",
    "    param = {}\n",
    "    #Setting Parameters for the Booster which will be optimized later using hyperopt.\n",
    "    param['booster'] = ['gbtree','gblinear']\n",
    "    param['objective'] = ['binary:logistic']\n",
    "    param[\"eval_metric\"] = [\"auc\"]\n",
    "    param['eta'] = [0.1,0.3,0.5,0.7,0.9,1]\n",
    "    param['gamma'] = [0,1,5,10]\n",
    "    param['max_depth'] = [6,9,12,15,18,21,30]\n",
    "    param['min_child_weight'] = [1,5,10]\n",
    "    param['max_delta_step'] = [0,1,10]\n",
    "    param['subsample'] = [0.5,1]\n",
    "    param['colsample_bytree'] = [0.5,1]\n",
    "    param['silent'] = [1]\n",
    "    param['seed'] = [0]\n",
    "    param['base_score'] = [0.5]\n",
    "    param['lambda_bias'] = [1,5,10]\n",
    "    param['lambda'] = [0,0.1,0.5,1,10]\n",
    "    \n",
    "    return param"
   ]
  },
  {
   "cell_type": "code",
   "execution_count": 21,
   "metadata": {
    "collapsed": false
   },
   "outputs": [],
   "source": [
    "#Assigning the values of the XGBoost parameters that need to be checked, for minimizing the objective (loss).\n",
    "#The values that give the most optimum results will be picked to train the model.\n",
    "def assign_space_gradient_boosting():\n",
    "    \n",
    "    parameter_gradient_boosting = param_set_XGBoost()\n",
    "    space_gradient_boosting ={\n",
    "        \n",
    "        'booster': hp.choice('booster', parameter_gradient_boosting['booster']),\n",
    "        \n",
    "        'eta': hp.choice('eta', parameter_gradient_boosting['eta']),\n",
    "        \n",
    "        'gamma': hp.choice('gamma', parameter_gradient_boosting['gamma']),\n",
    "        \n",
    "        'max_depth': hp.choice('max_depth', parameter_gradient_boosting['max_depth']),\n",
    "        \n",
    "        'min_child_weight': hp.choice('min_child_weight', parameter_gradient_boosting['min_child_weight']),\n",
    "        \n",
    "        'max_delta_step': hp.choice('max_delta_step', parameter_gradient_boosting['max_delta_step']),\n",
    "        \n",
    "        'subsample': hp.choice('subsample', parameter_gradient_boosting['subsample']),\n",
    "        \n",
    "        'colsample_bytree': hp.choice('colsample_bytree', parameter_gradient_boosting['colsample_bytree']),\n",
    "        \n",
    "        'silent': hp.choice('silent', parameter_gradient_boosting['silent']),\n",
    "        \n",
    "        'seed': hp.choice('seed', parameter_gradient_boosting['seed']),\n",
    "        \n",
    "        'base_score': hp.choice('base_score', parameter_gradient_boosting['base_score']),\n",
    "        \n",
    "        'lambda_bias': hp.choice('lambda_bias', parameter_gradient_boosting['lambda_bias']),\n",
    "        \n",
    "        'lambda': hp.choice('lambda', parameter_gradient_boosting['lambda'])\n",
    "        \n",
    "    }\n",
    "    \n",
    "    return space_gradient_boosting"
   ]
  },
  {
   "cell_type": "code",
   "execution_count": 22,
   "metadata": {
    "collapsed": true
   },
   "outputs": [],
   "source": [
    "#This function calculates the loss for different parameter values and is used to determine the most optimum \n",
    "#parameter values\n",
    "def objective_gradient_boosting(space_gradient_boosting):\n",
    "    \n",
    "    #Gradient Boosting (XGBoost)\n",
    "    param = {}\n",
    "    #Setting Parameters for the Booster\n",
    "    param['booster'] = space_gradient_boosting['booster']\n",
    "    param['objective'] = 'binary:logistic'\n",
    "    param[\"eval_metric\"] = \"auc\"\n",
    "    param['eta'] = space_gradient_boosting['eta']\n",
    "    param['gamma'] = space_gradient_boosting['gamma']\n",
    "    param['max_depth'] = space_gradient_boosting['max_depth']\n",
    "    param['min_child_weight'] = space_gradient_boosting['min_child_weight']\n",
    "    param['max_delta_step'] = space_gradient_boosting['max_delta_step']\n",
    "    param['subsample'] = space_gradient_boosting['subsample']\n",
    "    param['colsample_bytree'] = space_gradient_boosting['colsample_bytree']\n",
    "    param['silent'] = space_gradient_boosting['silent']\n",
    "    param['seed'] = space_gradient_boosting['seed']\n",
    "    param['base_score'] = space_gradient_boosting['base_score']\n",
    "    param['lambda_bias'] = space_gradient_boosting['lambda_bias']\n",
    "    param['lambda'] = space_gradient_boosting['lambda']\n",
    "    \n",
    "    model = xgb.Booster()\n",
    "    auc_list = list()\n",
    "    \n",
    "    #Declared train_X as a global variable, unable to pass it as a parameter\n",
    "    #Performing cross validation.\n",
    "    skf=StratifiedKFold(train_Y, n_folds=3)\n",
    "    for train_index, cross_val_index in skf:\n",
    "        \n",
    "        xgb_train_X, xgb_cross_val_X = train_X.iloc[train_index],train_X.iloc[cross_val_index]\n",
    "        xgb_train_Y, xgb_cross_val_Y = train_Y.iloc[train_index],train_Y.iloc[cross_val_index]\n",
    "        \n",
    "        dtrain = xgb.DMatrix(xgb_train_X, label = xgb_train_Y)\n",
    "        model = xgb.train(param, dtrain)\n",
    "        \n",
    "        predict = model.predict(xgb.DMatrix(xgb_cross_val_X, label = xgb_cross_val_Y))\n",
    "        auc_list.append(roc_auc_score(xgb_cross_val_Y,predict))\n",
    "    \n",
    "    #Calculating the AUC and returning the loss, which will be minimised by selecting the optimum parameters.\n",
    "    auc = np.mean(auc_list)\n",
    "    return{'loss':1-auc, 'status': STATUS_OK }"
   ]
  },
  {
   "cell_type": "code",
   "execution_count": 23,
   "metadata": {
    "collapsed": true
   },
   "outputs": [],
   "source": [
    "#Using the loss values, this function picks the optimum parameter values. These values will be used \n",
    "#for training the model\n",
    "def gradient_boosting_parameters(train_X,train_Y,obj):\n",
    "    \n",
    "    space_gradient_boosting = assign_space_gradient_boosting()\n",
    "    trials = Trials()\n",
    "    \n",
    "    best = fmin(fn = obj,\n",
    "    space = space_gradient_boosting,\n",
    "    algo = tpe.suggest,\n",
    "    max_evals = 100,\n",
    "    trials = trials)\n",
    "    \n",
    "    parameter_gradient_boosting = param_set_XGBoost()\n",
    "    optimal_param={}\n",
    "    #Best is a dictionary that contains the indices of the optimal parameter values.\n",
    "    #The following for loop uses these indices to obtain the parameter values, these values are stored in a\n",
    "    #dictionary - optimal_param\n",
    "    for key in best:\n",
    "        optimal_param[key] = parameter_gradient_boosting[key][best[key]]\n",
    "        \n",
    "    #optimal_param['booster'] = 'gbtree'\n",
    "    optimal_param['objective'] = 'binary:logistic'\n",
    "    optimal_param[\"eval_metric\"] = \"auc\"\n",
    "    \n",
    "    #Training the model with the optimal parameter values\n",
    "    dtrain = xgb.DMatrix(train_X, label = train_Y)\n",
    "    model = xgb.train(optimal_param, dtrain)\n",
    "    return model"
   ]
  },
  {
   "cell_type": "code",
   "execution_count": 24,
   "metadata": {
    "collapsed": false
   },
   "outputs": [],
   "source": [
    "#Trains the Gradient Boosting model.\n",
    "def train_gradient_boosting(train_X,train_Y):\n",
    "    \n",
    "    model = gradient_boosting_parameters(train_X,train_Y,objective_gradient_boosting)\n",
    "    return model\n",
    "    "
   ]
  },
  {
   "cell_type": "code",
   "execution_count": 25,
   "metadata": {
    "collapsed": false
   },
   "outputs": [],
   "source": [
    "def cross_val_gradient_boosting(cross_val_X,cross_val_Y):\n",
    "    \n",
    "    predict = gradient_boosting.predict(xgb.DMatrix(cross_val_X, label = cross_val_Y))\n",
    "    auc = roc_auc_score(cross_val_Y,predict)\n",
    "    return [auc,predict]"
   ]
  },
  {
   "cell_type": "markdown",
   "metadata": {},
   "source": [
    "# Multi Layer Perceptron"
   ]
  },
  {
   "cell_type": "code",
   "execution_count": 26,
   "metadata": {
    "collapsed": true
   },
   "outputs": [],
   "source": [
    "#Trains the Multi Layer Perceptron model.\n",
    "def train_multi_layer_perceptron(train_X,train_Y):\n",
    "    \n",
    "    model = multi_layer_perceptron_parameters(train_X,train_Y,objective_multi_layer_perceptron)\n",
    "    return model"
   ]
  },
  {
   "cell_type": "code",
   "execution_count": 27,
   "metadata": {
    "collapsed": true
   },
   "outputs": [],
   "source": [
    "def cross_val_multi_layer_perceptron(cross_val_X,cross_val_Y):\n",
    "    \n",
    "    global multi_layer_perceptron\n",
    "    predict = multi_layer_perceptron.predict_on_batch(cross_val_X)\n",
    "    auc = roc_auc_score(cross_val_Y,predict)\n",
    "    return [auc,predict]"
   ]
  },
  {
   "cell_type": "code",
   "execution_count": 28,
   "metadata": {
    "collapsed": true
   },
   "outputs": [],
   "source": [
    "#Defining the parameters for the XGBoost (Gradient Boosting) Algorithm.\n",
    "def param_set_multi_layer_perceptron():\n",
    "    \n",
    "    param={}\n",
    "    param['dim_layer'] = [32,64]\n",
    "    param['activation_layer_1'] = ['sigmoid','linear']\n",
    "    param['init_layer_1'] = ['normal','uniform']\n",
    "    param['activation_layer_2'] = ['sigmoid','linear']\n",
    "    param['optimizer'] = ['rmsprop']\n",
    "    \n",
    "    return param\n",
    "    "
   ]
  },
  {
   "cell_type": "code",
   "execution_count": 29,
   "metadata": {
    "collapsed": true
   },
   "outputs": [],
   "source": [
    "#Assigning the values of the multi layer perceptron parameters that need to be checked, \n",
    "#for minimizing the objective (loss). \n",
    "#The values that give the most optimum results will be picked to train the model.\n",
    "def assign_space_multi_layer_perceptron():\n",
    "    \n",
    "    parameter_multi_layer_perceptron = param_set_multi_layer_perceptron()\n",
    "    space_multi_layer_perceptron ={\n",
    "        \n",
    "        'dim_layer': hp.choice('dim_layer', parameter_multi_layer_perceptron['dim_layer']),\n",
    "        \n",
    "        'activation_layer_1': hp.choice('activation_layer_1', parameter_multi_layer_perceptron['activation_layer_1']),\n",
    "        \n",
    "        'init_layer_1': hp.choice('init_layer_1', parameter_multi_layer_perceptron['init_layer_1']),\n",
    "        \n",
    "        'activation_layer_2': hp.choice('activation_layer_2', parameter_multi_layer_perceptron['activation_layer_2']),\n",
    "        \n",
    "        'optimizer': hp.choice('optimizer', parameter_multi_layer_perceptron['optimizer']),\n",
    "        \n",
    "        \n",
    "    }\n",
    "    \n",
    "    return space_multi_layer_perceptron"
   ]
  },
  {
   "cell_type": "code",
   "execution_count": 30,
   "metadata": {
    "collapsed": false
   },
   "outputs": [],
   "source": [
    "#This function calculates the loss for different parameter values and is used to determine the most optimum \n",
    "#parameter values\n",
    "def objective_multi_layer_perceptron(space_multi_layer_perceptron):\n",
    "    \n",
    "    #Setting Parameters for the MLP model.\n",
    "    dim_layer = space_multi_layer_perceptron['dim_layer']\n",
    "    activation_layer_1 = space_multi_layer_perceptron['activation_layer_1']\n",
    "    init_layer_1 = space_multi_layer_perceptron['init_layer_1']\n",
    "    activation_layer_2 = space_multi_layer_perceptron['activation_layer_2']\n",
    "    optimizer = space_multi_layer_perceptron['optimizer']\n",
    "\n",
    "    \n",
    "    auc_list = list()\n",
    "    \n",
    "    #Declared train_X as a global variable, unable to pass it as a parameter\n",
    "    #Performing cross validation.\n",
    "    skf=StratifiedKFold(train_Y, n_folds = 3)\n",
    "    for train_index, cross_val_index in skf:\n",
    "        \n",
    "        mlp_train_X, mlp_cross_val_X = train_X.iloc[train_index],train_X.iloc[cross_val_index]\n",
    "        mlp_train_Y, mlp_cross_val_Y = train_Y.iloc[train_index],train_Y.iloc[cross_val_index]\n",
    "        mlp_train_X = mlp_train_X.as_matrix()\n",
    "        mlp_train_Y = mlp_train_Y.as_matrix()\n",
    "        \n",
    "        model = Sequential()\n",
    "        model.add(Dense(output_dim = dim_layer, input_dim = train_X.shape[1], init = init_layer_1\n",
    "                        , activation = activation_layer_1))\n",
    "        model.add(Dense(output_dim = 1, input_dim = dim_layer,activation = activation_layer_2))\n",
    "        model.compile(optimizer = optimizer,loss = 'binary_crossentropy',metrics = ['accuracy'])\n",
    "        model.fit(mlp_train_X, mlp_train_Y, nb_epoch = 1, batch_size = 256)\n",
    "        \n",
    "        predict = model.predict_on_batch(mlp_cross_val_X)\n",
    "        auc_list.append(roc_auc_score(mlp_cross_val_Y,predict))\n",
    "    \n",
    "    #Calculating the AUC and returning the loss, which will be minimised by selecting the optimum parameters.\n",
    "    auc = np.mean(auc_list)\n",
    "    return{'loss':1-auc, 'status': STATUS_OK }"
   ]
  },
  {
   "cell_type": "code",
   "execution_count": 31,
   "metadata": {
    "collapsed": false
   },
   "outputs": [],
   "source": [
    "#Using the loss values, this function picks the optimum parameter values. These values will be used \n",
    "#for training the model\n",
    "def multi_layer_perceptron_parameters(train_X,train_Y,obj):\n",
    "    \n",
    "    space_multi_layer_perceptron = assign_space_multi_layer_perceptron()\n",
    "    trials = Trials()\n",
    "    \n",
    "    best = fmin(fn = obj,\n",
    "    space = space_multi_layer_perceptron,\n",
    "    algo = tpe.suggest,\n",
    "    max_evals = 5,\n",
    "    trials = trials)\n",
    "    \n",
    "    parameter_multi_layer_perceptron = param_set_multi_layer_perceptron()\n",
    "    optimal_param={}\n",
    "    \n",
    "    #Best is a dictionary that contains the indices of the optimal parameter values.\n",
    "    #The following for loop uses these indices to obtain the parameter values, these values are stored in a\n",
    "    #dictionary - optimal_param\n",
    "    for key in best:\n",
    "        optimal_param[key] = parameter_multi_layer_perceptron[key][best[key]]\n",
    "    \n",
    "    #Training the model with the optimal parameter values\n",
    "    model = Sequential()\n",
    "    model.add(Dense(output_dim = optimal_param['dim_layer'] , \n",
    "                    input_dim = train_X.shape[1], init = optimal_param['init_layer_1'], \n",
    "                    activation = optimal_param['activation_layer_1']))\n",
    "    model.add(Dense(output_dim = 1, input_dim = optimal_param['dim_layer'],\n",
    "                    activation = optimal_param['activation_layer_2']))\n",
    "    model.compile(optimizer = optimal_param['optimizer'],loss = 'binary_crossentropy',metrics = ['accuracy'])\n",
    "    model.fit(train_X.as_matrix(), train_Y.as_matrix(), nb_epoch = 5, batch_size = 128)\n",
    "    \n",
    "    return model"
   ]
  },
  {
   "cell_type": "markdown",
   "metadata": {},
   "source": [
    "# Decision Tree"
   ]
  },
  {
   "cell_type": "code",
   "execution_count": 32,
   "metadata": {
    "collapsed": true
   },
   "outputs": [],
   "source": [
    "#Trains the Decision Tree model. Performing a grid search to select the optimal parameter values\n",
    "def train_decision_tree(train_X,train_Y):\n",
    "    \n",
    "    pipeline_model = Pipeline([('dtc', DecisionTreeClassifier())])\n",
    "    param = {'dtc__max_depth':[6,9,12,15,20],'dtc__criterion':['gini','entropy'],}       \n",
    "    model_gs = grid_search.GridSearchCV(pipeline_model, param,scoring='roc_auc')\n",
    "    model_gs.fit(train_X,train_Y)\n",
    "    return model_gs"
   ]
  },
  {
   "cell_type": "code",
   "execution_count": 33,
   "metadata": {
    "collapsed": true
   },
   "outputs": [],
   "source": [
    "def cross_val_decision_tree(cross_val_X,cross_val_Y):\n",
    "    \n",
    "    global decision_tree\n",
    "    predict = decision_tree.predict_proba(cross_val_X)[:,1]\n",
    "    auc = roc_auc_score(cross_val_Y,predict)\n",
    "    return [auc,predict]"
   ]
  },
  {
   "cell_type": "code",
   "execution_count": 34,
   "metadata": {
    "collapsed": true
   },
   "outputs": [],
   "source": [
    "#def decision_tree_parameters(parameters_decision_tree={}):\n",
    "    \n",
    "    #param = parameters_decision_tree\n",
    "    #return param"
   ]
  },
  {
   "cell_type": "markdown",
   "metadata": {},
   "source": [
    "# Random Forest"
   ]
  },
  {
   "cell_type": "code",
   "execution_count": 35,
   "metadata": {
    "collapsed": false
   },
   "outputs": [],
   "source": [
    "#Trains the Random Forest model. Performing a grid search to select the optimal parameter values\n",
    "def train_random_forest(train_X,train_Y):\n",
    "    \n",
    "    pipeline_model = Pipeline([('rfc', RandomForestClassifier())]) \n",
    "    param = {'rfc__max_depth':[6,9,12,15,20],'rfc__n_estimators':[5,10,15,20]}\n",
    "    model_gs = grid_search.GridSearchCV(pipeline_model, param, scoring='roc_auc')\n",
    "    model_gs.fit(train_X,train_Y)\n",
    "    return model_gs"
   ]
  },
  {
   "cell_type": "code",
   "execution_count": 36,
   "metadata": {
    "collapsed": true
   },
   "outputs": [],
   "source": [
    "def cross_val_random_forest(cross_val_X,cross_val_Y):\n",
    "    \n",
    "    global random_forest\n",
    "    predict = random_forest.predict_proba(cross_val_X)[:,1]\n",
    "    auc = roc_auc_score(cross_val_Y,predict)\n",
    "    return [auc,predict]"
   ]
  },
  {
   "cell_type": "code",
   "execution_count": 37,
   "metadata": {
    "collapsed": true
   },
   "outputs": [],
   "source": [
    "#def random_forest_parameters(parameters_random_forest={}):\n",
    "    \n",
    "    #param = parameters_random_forest\n",
    "    #return param"
   ]
  },
  {
   "cell_type": "markdown",
   "metadata": {},
   "source": [
    "# Linear Regression"
   ]
  },
  {
   "cell_type": "code",
   "execution_count": 38,
   "metadata": {
    "collapsed": false
   },
   "outputs": [],
   "source": [
    "#Trains the Linear Regression model. Performing a grid search to select the optimal parameter values\n",
    "def train_linear_regression(train_X,train_Y):\n",
    "    \n",
    "    pipeline_model = Pipeline([('scl', StandardScaler()),('lr', linear_model.LinearRegression())]) \n",
    "    param = {'lr__normalize':[False]}\n",
    "    #train_X=StandardScaler().fit_transform(train_X)\n",
    "    model_gs = grid_search.GridSearchCV(pipeline_model, param, scoring='roc_auc')\n",
    "    model_gs.fit(train_X,train_Y) \n",
    "    return model_gs"
   ]
  },
  {
   "cell_type": "code",
   "execution_count": 39,
   "metadata": {
    "collapsed": true
   },
   "outputs": [],
   "source": [
    "def cross_val_linear_regression(cross_val_X,cross_val_Y):\n",
    "    \n",
    "    #cross_val_X = StandardScaler().fit_transform(cross_val_X)\n",
    "    predict = linear_regression.predict(cross_val_X)\n",
    "    auc = roc_auc_score(cross_val_Y,predict)\n",
    "    return [auc,predict]"
   ]
  },
  {
   "cell_type": "code",
   "execution_count": 40,
   "metadata": {
    "collapsed": true
   },
   "outputs": [],
   "source": [
    "#def linear_regression_parameters(parameters_linear_regression={}):\n",
    "    \n",
    "    #param = parameters_linear_regression\n",
    "    #return param"
   ]
  },
  {
   "cell_type": "markdown",
   "metadata": {},
   "source": [
    "# Losgistic Regression (L1)"
   ]
  },
  {
   "cell_type": "code",
   "execution_count": 41,
   "metadata": {
    "collapsed": false
   },
   "outputs": [],
   "source": [
    "#Trains the Logistic Regression (L2) model. Performing a grid search to select the optimal parameter values\n",
    "def train_logistic_regression_L1(train_X,train_Y):\n",
    "\n",
    "    pipeline_model = Pipeline([('scl', StandardScaler()),('l1', linear_model.LogisticRegression())]) \n",
    "    param = {'l1__penalty':['l1'],'l1__C':[0.0001,0.001,0.01,0.1,1,10,100,100]}\n",
    "    train_X=StandardScaler().fit_transform(train_X)\n",
    "    model_gs = grid_search.GridSearchCV(pipeline_model, param, scoring='roc_auc')\n",
    "    model_gs.fit(train_X,train_Y)\n",
    "    return model_gs"
   ]
  },
  {
   "cell_type": "code",
   "execution_count": 42,
   "metadata": {
    "collapsed": true
   },
   "outputs": [],
   "source": [
    "def cross_val_logistic_regression_L1(cross_val_X,cross_val_Y):\n",
    "    \n",
    "    cross_val_X = preprocessing.StandardScaler().fit_transform(cross_val_X)\n",
    "    predict = logistic_regression_L1.predict_proba(cross_val_X)[:,1]\n",
    "    auc = roc_auc_score(cross_val_Y,predict)\n",
    "    return [auc,predict]"
   ]
  },
  {
   "cell_type": "code",
   "execution_count": 43,
   "metadata": {
    "collapsed": true
   },
   "outputs": [],
   "source": [
    "#def logistic_regression_L1_parameters(parameters_logistic_regression_L1={}):\n",
    "    \n",
    "    #param = parameters_logistic_regression_L1\n",
    "    #return param"
   ]
  },
  {
   "cell_type": "markdown",
   "metadata": {},
   "source": [
    "# Logistic Regression (L2)"
   ]
  },
  {
   "cell_type": "code",
   "execution_count": 44,
   "metadata": {
    "collapsed": true
   },
   "outputs": [],
   "source": [
    "#Trains the Logistic Regression (L2) model. Performing a grid search to select the optimal parameter values\n",
    "def train_logistic_regression_L2(train_X,train_Y):\n",
    "    \n",
    "    pipeline_model = Pipeline([('scl', StandardScaler()),('l2', linear_model.LogisticRegression())]) \n",
    "    param = {'l2__penalty':['l2'],'l2__C':[0.0001,0.001,0.01,0.1,1,10,100,100]}\n",
    "    train_X=StandardScaler().fit_transform(train_X)\n",
    "    model_gs = grid_search.GridSearchCV(pipeline_model, param, scoring='roc_auc')\n",
    "    model_gs.fit(train_X,train_Y)\n",
    "    return model_gs"
   ]
  },
  {
   "cell_type": "code",
   "execution_count": 45,
   "metadata": {
    "collapsed": true
   },
   "outputs": [],
   "source": [
    "def cross_val_logistic_regression_L2(cross_val_X,cross_val_Y):\n",
    "    \n",
    "    cross_val_X = preprocessing.StandardScaler().fit_transform(cross_val_X)\n",
    "    predict = logistic_regression_L2.predict_proba(cross_val_X)[:,1]\n",
    "    auc = roc_auc_score(cross_val_Y,predict)\n",
    "    return [auc,predict]"
   ]
  },
  {
   "cell_type": "code",
   "execution_count": 46,
   "metadata": {
    "collapsed": true
   },
   "outputs": [],
   "source": [
    "#def logistic_regression_L2_parameters(parameters_logistic_regression_L2={}):\n",
    "    \n",
    "    #param = parameters_logistic_regression_L2\n",
    "    #return param"
   ]
  },
  {
   "cell_type": "markdown",
   "metadata": {},
   "source": [
    "# Weighted Average"
   ]
  },
  {
   "cell_type": "code",
   "execution_count": 47,
   "metadata": {
    "collapsed": true
   },
   "outputs": [],
   "source": [
    "#Perfroms weighted average of the predictions of the base models.\n",
    "def weighted_average(data_frame_predictions, cross_val_Y):\n",
    "    \n",
    "    weighted_avg_predictions=np.average(data_frame_predictions,axis=1,weights=weight)\n",
    "    auc = roc_auc_score(cross_val_Y,weighted_avg_predictions)\n",
    "    return [auc,weighted_avg_predictions]  "
   ]
  },
  {
   "cell_type": "code",
   "execution_count": 48,
   "metadata": {
    "collapsed": true
   },
   "outputs": [],
   "source": [
    "#Defining the objective. Appropriate weights need to be calculated to minimize the loss.\n",
    "def objective_weighted_average(space):\n",
    "    \n",
    "    global stack_X\n",
    "    weighted_avg_predictions=np.average(stack_X,axis=1,weights=[space['w1'],space['w2'],space['w3']\n",
    "                                                                              ,space['w4'],space['w5'],\n",
    "                                                                              space['w6'],space['w7']])\n",
    "    \n",
    "    \n",
    "    global stack_Y\n",
    "    auc = roc_auc_score(stack_Y,weighted_avg_predictions)\n",
    "    return{'loss':1-auc, 'status': STATUS_OK }"
   ]
  },
  {
   "cell_type": "code",
   "execution_count": 49,
   "metadata": {
    "collapsed": true
   },
   "outputs": [],
   "source": [
    "#Assigning the weights that need to be checked, for minimizing the objective (Loss)\n",
    "def assign_space_weighted_average():\n",
    "    \n",
    "    space ={\n",
    "        'w1': hp.choice(\"x_w1\", range(10)),\n",
    "        'w2': hp.choice('x_w2', range(10)),\n",
    "        'w3': hp.choice('x_w3', range(10)),\n",
    "        'w4': hp.choice('x_w4', range(10)),\n",
    "        'w5': hp.choice('x_w5', range(10)),\n",
    "        'w6': hp.choice('x_w6', range(10)),\n",
    "        'w7': hp.choice('x_w7', range(10))\n",
    "    }\n",
    "    \n",
    "    return space"
   ]
  },
  {
   "cell_type": "code",
   "execution_count": 50,
   "metadata": {
    "collapsed": true
   },
   "outputs": [],
   "source": [
    "#Function that finds the best possible combination of weights for performing the weighted predictions.\n",
    "def get_weights():\n",
    "    \n",
    "    space = assign_space_weighted_average()\n",
    "    trials = Trials()\n",
    "    \n",
    "    best = fmin(fn = objective_weighted_average,\n",
    "    space = space,\n",
    "    algo = tpe.suggest,\n",
    "    max_evals = 100,\n",
    "    trials = trials)\n",
    "    best_weights = list()\n",
    "    \n",
    "    #Arranging the weights in order of the respective models, and then returning the list of weights.\n",
    "    for key in sorted(best):\n",
    "        best_weights.append(best[key])\n",
    "    \n",
    "    return best_weights"
   ]
  },
  {
   "cell_type": "markdown",
   "metadata": {},
   "source": [
    "# Stacking"
   ]
  },
  {
   "cell_type": "code",
   "execution_count": 51,
   "metadata": {
    "collapsed": true
   },
   "outputs": [],
   "source": [
    "#Trains the Stacking model (Gradient Boosting - XGBoost)\n",
    "def train_stack_model(train_X,train_Y):\n",
    "    \n",
    "    model = gradient_boosting_parameters(train_X,train_Y,objective_stack)\n",
    "    return model"
   ]
  },
  {
   "cell_type": "code",
   "execution_count": 52,
   "metadata": {
    "collapsed": true
   },
   "outputs": [],
   "source": [
    "def cross_val_stack(cross_val_X,cross_val_Y):\n",
    "\n",
    "    predict = stack.predict(xgb.DMatrix(cross_val_X,label = cross_val_Y))\n",
    "    auc = roc_auc_score(cross_val_Y,predict)\n",
    "    return [auc,predict]"
   ]
  },
  {
   "cell_type": "code",
   "execution_count": 53,
   "metadata": {
    "collapsed": true
   },
   "outputs": [],
   "source": [
    "#This function calculates the loss for different parameter values and is used to determine the most optimum \n",
    "#parameter values\n",
    "def objective_stack(space_gradient_boosting):\n",
    "    \n",
    "    #Gradient Boosting (XGBoost)\n",
    "    param = {}\n",
    "    #Setting Parameters for the Booster\n",
    "    param['booster'] = space_gradient_boosting['booster']\n",
    "    param['objective'] = 'binary:logistic'\n",
    "    param[\"eval_metric\"] = \"auc\"\n",
    "    param['eta'] = space_gradient_boosting['eta']\n",
    "    param['gamma'] = space_gradient_boosting['gamma']\n",
    "    param['max_depth'] = space_gradient_boosting['max_depth']\n",
    "    param['min_child_weight'] = space_gradient_boosting['min_child_weight']\n",
    "    param['max_delta_step'] = space_gradient_boosting['max_delta_step']\n",
    "    param['subsample'] = space_gradient_boosting['subsample']\n",
    "    param['colsample_bytree'] = space_gradient_boosting['colsample_bytree']\n",
    "    param['silent'] = space_gradient_boosting['silent']\n",
    "    param['seed'] = space_gradient_boosting['seed']\n",
    "    param['base_score'] = space_gradient_boosting['base_score']\n",
    "    param['lambda_bias'] = space_gradient_boosting['lambda_bias']\n",
    "    param['lambda'] = space_gradient_boosting['lambda']\n",
    "    \n",
    "    model = xgb.Booster()\n",
    "    auc_list = list()\n",
    "    \n",
    "    #Declared train_X as a global variable, unable to pass it as a parameter\n",
    "    #Performing cross validation.\n",
    "    skf=StratifiedKFold(stack_Y, n_folds=3)\n",
    "    for train_index, cross_val_index in skf:\n",
    "        \n",
    "        xgb_train_X, xgb_cross_val_X = stack_X.iloc[train_index],stack_X.iloc[cross_val_index]\n",
    "        xgb_train_Y, xgb_cross_val_Y = stack_Y.iloc[train_index],stack_Y.iloc[cross_val_index]\n",
    "        \n",
    "        dtrain = xgb.DMatrix(xgb_train_X, label = xgb_train_Y)\n",
    "        model = xgb.train(param, dtrain)\n",
    "        \n",
    "        predict = model.predict(xgb.DMatrix(xgb_cross_val_X, label = xgb_cross_val_Y))\n",
    "        auc_list.append(roc_auc_score(xgb_cross_val_Y,predict))\n",
    "    \n",
    "    #Calculating the AUC and returning the loss, which will be minimised by selecting the optimum parameters.\n",
    "    auc = np.mean(auc_list)\n",
    "    return{'loss':1-auc, 'status': STATUS_OK }"
   ]
  },
  {
   "cell_type": "markdown",
   "metadata": {},
   "source": [
    "# Blending"
   ]
  },
  {
   "cell_type": "code",
   "execution_count": 54,
   "metadata": {
    "collapsed": true
   },
   "outputs": [],
   "source": [
    "#Trains the blending model (Gradient Boosting - XGBoost)\n",
    "def train_blend_model(train_X,train_Y): \n",
    "    \n",
    "    model = gradient_boosting_parameters(train_X,train_Y,objective_blend)\n",
    "    return model"
   ]
  },
  {
   "cell_type": "code",
   "execution_count": 55,
   "metadata": {
    "collapsed": true
   },
   "outputs": [],
   "source": [
    "def cross_val_blend(cross_val_X,cross_val_Y):\n",
    "\n",
    "    predict = blend.predict(xgb.DMatrix(cross_val_X,label = cross_val_Y))\n",
    "    auc = roc_auc_score(cross_val_Y,predict)\n",
    "    return [auc,predict]"
   ]
  },
  {
   "cell_type": "code",
   "execution_count": 56,
   "metadata": {
    "collapsed": true
   },
   "outputs": [],
   "source": [
    "#This function calculates the loss for different parameter values and is used to determine the most optimum \n",
    "#parameter values\n",
    "def objective_blend(space_gradient_boosting):\n",
    "    \n",
    "    #Gradient Boosting (XGBoost)\n",
    "    param = {}\n",
    "    #Setting Parameters for the Booster\n",
    "    param['booster'] = space_gradient_boosting['booster']\n",
    "    param['objective'] = 'binary:logistic'\n",
    "    param[\"eval_metric\"] = \"auc\"\n",
    "    param['eta'] = space_gradient_boosting['eta']\n",
    "    param['gamma'] = space_gradient_boosting['gamma']\n",
    "    param['max_depth'] = space_gradient_boosting['max_depth']\n",
    "    param['min_child_weight'] = space_gradient_boosting['min_child_weight']\n",
    "    param['max_delta_step'] = space_gradient_boosting['max_delta_step']\n",
    "    param['subsample'] = space_gradient_boosting['subsample']\n",
    "    param['colsample_bytree'] = space_gradient_boosting['colsample_bytree']\n",
    "    param['silent'] = space_gradient_boosting['silent']\n",
    "    param['seed'] = space_gradient_boosting['seed']\n",
    "    param['base_score'] = space_gradient_boosting['base_score']\n",
    "    param['lambda_bias'] = space_gradient_boosting['lambda_bias']\n",
    "    param['lambda'] = space_gradient_boosting['lambda']\n",
    "    \n",
    "    model = xgb.Booster()\n",
    "    auc_list = list()\n",
    "    \n",
    "    #Declared train_X as a global variable, unable to pass it as a parameter\n",
    "    #Performing cross validation.\n",
    "    skf=StratifiedKFold(stack_Y, n_folds=3)\n",
    "    for train_index, cross_val_index in skf:\n",
    "        \n",
    "        xgb_train_X, xgb_cross_val_X = blend_X.iloc[train_index],blend_X.iloc[cross_val_index]\n",
    "        xgb_train_Y, xgb_cross_val_Y = stack_Y.iloc[train_index],stack_Y.iloc[cross_val_index]\n",
    "        \n",
    "        dtrain = xgb.DMatrix(xgb_train_X, label = xgb_train_Y)\n",
    "        model = xgb.train(param, dtrain)\n",
    "        \n",
    "        predict = model.predict(xgb.DMatrix(xgb_cross_val_X, label = xgb_cross_val_Y))\n",
    "        auc_list.append(roc_auc_score(xgb_cross_val_Y,predict))\n",
    "    \n",
    "    #Calculating the AUC and returning the loss, which will be minimised by selecting the optimum parameters.\n",
    "    auc = np.mean(auc_list)\n",
    "    return{'loss':1-auc, 'status': STATUS_OK }"
   ]
  },
  {
   "cell_type": "code",
   "execution_count": 57,
   "metadata": {
    "collapsed": true
   },
   "outputs": [],
   "source": [
    "def metric_initialize():\n",
    "    \n",
    "    global metric_linear_regression\n",
    "    global metric_logistic_regression_L2\n",
    "    global metric_logistic_regression_L1\n",
    "    global metric_decision_tree\n",
    "    global metric_random_forest\n",
    "    global metric_gradient_boosting\n",
    "    global metric_multi_layer_perceptron\n",
    "    global metric_stacking\n",
    "    global metric_blending\n",
    "    global metric_weighted_average\n",
    "    \n",
    "    #Initialzing the variables that will be used to calculate the area under the curve on the given data.\n",
    "    metric_linear_regression = list()\n",
    "    metric_logistic_regression_L2 = list()\n",
    "    metric_logistic_regression_L1 = list()\n",
    "    metric_decision_tree = list()\n",
    "    metric_random_forest = list()\n",
    "    metric_multi_layer_perceptron = list()\n",
    "    metric_gradient_boosting = list()\n",
    "    metric_weighted_average = list()\n",
    "    metric_stacking = list()\n",
    "    metric_blending = list()"
   ]
  },
  {
   "cell_type": "code",
   "execution_count": 58,
   "metadata": {
    "collapsed": false
   },
   "outputs": [],
   "source": [
    "#The list of base model functions (Training).\n",
    "train_base_model_list = [train_gradient_boosting,train_multi_layer_perceptron,train_decision_tree,train_random_forest,\n",
    "                 train_linear_regression,train_logistic_regression_L1,train_logistic_regression_L2]\n",
    "\n",
    "#The list of base model functions (Cross Validation).\n",
    "cross_val_base_model_list = [cross_val_gradient_boosting,cross_val_multi_layer_perceptron,cross_val_decision_tree\n",
    "                           ,cross_val_random_forest,cross_val_linear_regression,cross_val_logistic_regression_L1\n",
    "                           ,cross_val_logistic_regression_L2]\n",
    "\n",
    "#The list of second level model functions.\n",
    "cross_val_second_level_model = [cross_val_stack,cross_val_blend,weighted_average]"
   ]
  },
  {
   "cell_type": "markdown",
   "metadata": {},
   "source": [
    "# Base Model Predictions"
   ]
  },
  {
   "cell_type": "code",
   "execution_count": 59,
   "metadata": {
    "collapsed": false
   },
   "outputs": [],
   "source": [
    "def train_cross_val_base_models():\n",
    "    \n",
    "    #Cross Validation using Stratified K Fold\n",
    "    train, cross_val = train_test_split(Data, test_size = 0.5, stratify = Data['y'])\n",
    "    \n",
    "    #Training the base models, and calculating AUC on the cross validation data.\n",
    "    #Selecting the data (Traing Data & Cross Validation Data)\n",
    "    global train_X\n",
    "    global train_Y\n",
    "    train_Y = train['y']\n",
    "    train_X = train.drop(['y'],axis=1)\n",
    "    \n",
    "    global cross_val_X\n",
    "    global cross_val_Y\n",
    "    cross_val_Y = cross_val['y']\n",
    "    cross_val_X = cross_val.drop(['y'],axis=1)\n",
    "    \n",
    "\n",
    "    \n",
    "    global gradient_boosting\n",
    "    global multi_layer_perceptron\n",
    "    global decision_tree\n",
    "    global random_forest\n",
    "    global linear_regression\n",
    "    global logistic_regression_L1\n",
    "    global logistic_regression_L2\n",
    "\n",
    "    #Training the base models parallely, the resulting models are stored which will be used for cross validation.\n",
    "    [gradient_boosting,multi_layer_perceptron,decision_tree,random_forest,linear_regression,logistic_regression_L1\n",
    "     ,logistic_regression_L2] = (Parallel(n_jobs = -1)(delayed(function)(train_X, train_Y)\\\n",
    "                                                   for function in train_base_model_list))\n",
    "    \n",
    "    #Computing the AUC and Predictions of all the base models on the cross validation data parallely.\n",
    "    auc_predict_cross_val = (Parallel(n_jobs = -1)(delayed(function)(cross_val_X,cross_val_Y)\\\n",
    "                                               for function in cross_val_base_model_list))\n",
    "    \n",
    "    #Gradient Boosting (XGBoost)\n",
    "    #The AUC error (Cross Validation Data)\n",
    "    auc,predict_gradient_boosting = auc_predict_cross_val[0][0],auc_predict_cross_val[0][1]\n",
    "    metric_gradient_boosting.append(auc)\n",
    "    \n",
    "    #Multi Layer Perceptron\n",
    "    #The AUC (Cross Validation Data)\n",
    "    predict_mlp=list()\n",
    "    auc,predict_multi_layer_perceptron = auc_predict_cross_val[1][0],auc_predict_cross_val[1][1]\n",
    "    metric_multi_layer_perceptron.append(auc)\n",
    "    \n",
    "    #predict_multi_layer_perceptron returns a list of lists containing the predictions,\n",
    "    #this cannot be converted to a dataframe.\n",
    "    #This inner lists are converted to floats and then used to convert it to a dataframe.\n",
    "    for i in predict_multi_layer_perceptron:\n",
    "        predict_mlp.append(float(i))\n",
    "    \n",
    "    #Decision Tree)\n",
    "    #The AUC (Cross Validation Data)\n",
    "    auc,predict_decision_tree = auc_predict_cross_val[2][0],auc_predict_cross_val[2][1]\n",
    "    metric_decision_tree.append(auc)\n",
    "    \n",
    "    #Random Forest (Deafult=10 Trees)\n",
    "    #The AUC (Cross Validation Data)\n",
    "    auc,predict_random_forest = auc_predict_cross_val[3][0],auc_predict_cross_val[3][1]\n",
    "    metric_random_forest.append(auc)\n",
    "    \n",
    "    #Linear Regression\n",
    "    #The AUC (Cross Validation Data)\n",
    "    auc,predict_linear_regression = auc_predict_cross_val[4][0],auc_predict_cross_val[4][1]\n",
    "    metric_linear_regression.append(auc)\n",
    "    \n",
    "    #Logistic Regression (Default=l2)\n",
    "    #The AUC (Cross Validation Data)\n",
    "    auc,predict_logistic_regression_L1 = auc_predict_cross_val[5][0],auc_predict_cross_val[5][1]\n",
    "    metric_logistic_regression_L1.append(auc)\n",
    "    \n",
    "    #Logistic Regression-L2\n",
    "    #The AUC (Cross Validation Data)\n",
    "    auc,predict_logistic_regression_L2 = auc_predict_cross_val[6][0],auc_predict_cross_val[6][1]\n",
    "    metric_logistic_regression_L2.append(auc)\n",
    "    \n",
    "    #Building a list that contains all the predictions of the base models.\n",
    "    predict_list = [predict_gradient_boosting,predict_decision_tree,predict_random_forest, \n",
    "                               predict_linear_regression,predict_logistic_regression_L2,\n",
    "                               predict_logistic_regression_L1,predict_mlp]\n",
    "    \n",
    "    #Converting the above list of predictions into a dataframe, which will be used to train the stacking model.\n",
    "    global stack_X\n",
    "    stack_X = stack_X.append(build_data_frame(predict_list))\n",
    "    \n",
    "    #Building a list that contains all the raw features, used as cross validation data for the base models.\n",
    "    global raw_features_X\n",
    "    raw_features_X = raw_features_X.append(cross_val_X,ignore_index=True)\n",
    "    \n",
    "    #Storing the cross validation dataset labels in the variable stack_Y, \n",
    "    #which will be used later to train the stacking and blending models.\n",
    "    global stack_Y\n",
    "    stack_Y = cross_val_Y  "
   ]
  },
  {
   "cell_type": "code",
   "execution_count": 60,
   "metadata": {
    "collapsed": true
   },
   "outputs": [],
   "source": [
    "def print_metric_cross_val(n):\n",
    "    \n",
    "    #Calculating the average AUC across all the AUC computed on the cross validation folds.\n",
    "    avg_linear_regression = np.mean(metric_linear_regression)\n",
    "    avg_logistic_regression_L2 = np.mean(metric_logistic_regression_L2)\n",
    "    avg_logistic_regression_L1 = np.mean(metric_logistic_regression_L1)\n",
    "    avg_decision_tree = np.mean(metric_decision_tree)\n",
    "    avg_random_forest = np.mean(metric_random_forest)\n",
    "    avg_multi_layer_perceptron = np.mean(metric_multi_layer_perceptron)\n",
    "    avg_gradient_boosting = np.mean(metric_gradient_boosting)\n",
    "    \n",
    "    #Printing the AUC for the base models.\n",
    "    print('\\nStart Cross Validation Sample',n,'\\n')\n",
    "    print (' AUC (Linear Regression)\\n',avg_linear_regression)\n",
    "    print (' AUC (Logistic Regression - L2)\\n',avg_logistic_regression_L2)\n",
    "    print (' AUC (Logistic Regression - L1)\\n',avg_logistic_regression_L1)\n",
    "    print (' AUC (Decision Tree)\\n',avg_decision_tree)\n",
    "    print (' AUC (Random Forest)\\n',avg_random_forest)\n",
    "    print (' AUC (Multi Layer Perceptron)\\n',avg_multi_layer_perceptron)\n",
    "    print (' AUC (Gradient Boosting - XGBoost)\\n',avg_gradient_boosting)\n",
    "    print('\\nEnd Cross Validation Sample',n,'\\n') "
   ]
  },
  {
   "cell_type": "code",
   "execution_count": 61,
   "metadata": {
    "collapsed": false
   },
   "outputs": [],
   "source": [
    "#Running the second level models parallely\n",
    "def train_second_level_models():\n",
    "    \n",
    "    #Performing a weighted average of all the base models and calculating the resulting AUC.\n",
    "    global weight\n",
    "    weight = get_weights()\n",
    "    \n",
    "    #Converting the above list of predictions and raw features (Concatenate) into a dataframe, \n",
    "    #which will be used to train the blending model.\n",
    "    global blend_X\n",
    "    blend_X = pd.concat([raw_features_X, stack_X], axis = 1,ignore_index = True)\n",
    "    \n",
    "    #Training the Stacking and Blending models parallely using the \n",
    "    #predictions of base models on the cross validation data.\n",
    "    global stack\n",
    "    global blend\n",
    "    function_param = [(train_stack_model,stack_X,stack_Y),(train_blend_model,blend_X,stack_Y),\n",
    "                      (weighted_average,stack_X,stack_Y)]\n",
    "    [stack,blend,[auc,predict_weighted_average]] = Parallel(n_jobs = -1)(delayed(model_function)(train_X,train_Y)\\\n",
    "                                        for model_function,train_X,train_Y in function_param)\n",
    "    \n",
    "    #Calculating and printing the AUC for the weighted average models.\n",
    "    metric_weighted_average.append(auc)\n",
    "    print (' AUC (Weighted Average)\\n',metric_weighted_average)"
   ]
  },
  {
   "cell_type": "code",
   "execution_count": 62,
   "metadata": {
    "collapsed": false
   },
   "outputs": [],
   "source": [
    "def print_metric_test(n):\n",
    "    \n",
    "    print('\\nStart Test Sample',n,'\\n')\n",
    "    #Printing the AUC for all the models. (Test Data)\n",
    "    print (' AUC (Linear Regression)\\n',metric_linear_regression)\n",
    "    print (' AUC (Logistic Regression - L2)\\n',metric_logistic_regression_L2)\n",
    "    print (' AUC (Logistic Regression - L1)\\n',metric_logistic_regression_L1)\n",
    "    print (' AUC (Decision Tree)\\n',metric_decision_tree)\n",
    "    print (' AUC (Random Forest)\\n',metric_random_forest)\n",
    "    print (' AUC (Multi Layer Perceptron)\\n',metric_multi_layer_perceptron)\n",
    "    print (' AUC (Weighted Average)\\n',metric_weighted_average)\n",
    "    print (' AUC (Gradient Boosting - XGBoost)\\n',metric_gradient_boosting)\n",
    "    print (' AUC (Stacking)\\n',metric_stacking)\n",
    "    print (' AUC (Blending)\\n',metric_blending)\n",
    "    print('\\nEnd Test Sample',n,'\\n')"
   ]
  },
  {
   "cell_type": "markdown",
   "metadata": {},
   "source": [
    "# Testing the Base and Second Level Models on the Test Dataset"
   ]
  },
  {
   "cell_type": "code",
   "execution_count": 63,
   "metadata": {
    "collapsed": false
   },
   "outputs": [],
   "source": [
    "def test_data():\n",
    "    \n",
    "    #Training the base models, and calculating AUC on the test data.\n",
    "    #Selecting the data (Test Data)\n",
    "    test_Y = test['y']\n",
    "    test_X = test.drop(['y'],axis=1)\n",
    "    \n",
    "    #Computing the AUC and Predictions of all the base models on the test data parallely.\n",
    "    auc_predict_test = (Parallel(n_jobs = -1)(delayed(function)(test_X,test_Y)\\\n",
    "                                          for function in cross_val_base_model_list))\n",
    "    \n",
    "    #Gradient Boosting (XGBoost)\n",
    "    #The AUC error (Test Data)\n",
    "    auc,predict_gradient_boosting = auc_predict_test[0][0],auc_predict_test[0][1]\n",
    "    metric_gradient_boosting.append(auc)\n",
    "    \n",
    "    #Multi Layer Perceptron\n",
    "    #The AUC (Test Data)\n",
    "    predict_mlp=list()\n",
    "    auc,predict_multi_layer_perceptron = auc_predict_test[1][0],auc_predict_test[1][1]\n",
    "    metric_multi_layer_perceptron.append(auc)\n",
    "    \n",
    "    #predict_multi_layer_perceptron returns a list of lists containing the predictions, \n",
    "    #this cannot be converted to a dataframe.\n",
    "    #This inner lists are converted to floats and then used to convert it to a dataframe.\n",
    "    for i in predict_multi_layer_perceptron:\n",
    "        predict_mlp.append(float(i))\n",
    "    \n",
    "    #Decision Tree)\n",
    "    #The AUC (Test Data)\n",
    "    auc,predict_decision_tree = auc_predict_test[2][0],auc_predict_test[2][1]\n",
    "    metric_decision_tree.append(auc)\n",
    "    \n",
    "    #Random Forest (Deafult=10 Trees)\n",
    "    #The AUC (Test Data)\n",
    "    auc,predict_random_forest = auc_predict_test[3][0],auc_predict_test[3][1]\n",
    "    metric_random_forest.append(auc)\n",
    "    \n",
    "    #Linear Regression\n",
    "    #The AUC (Test Data)\n",
    "    auc,predict_linear_regression = auc_predict_test[4][0],auc_predict_test[4][1]\n",
    "    metric_linear_regression.append(auc)\n",
    "    \n",
    "    #Logistic Regression (Default=l2)\n",
    "    #The AUC (Test Data)\n",
    "    auc,predict_logistic_regression_L1 = auc_predict_test[5][0],auc_predict_test[5][1]\n",
    "    metric_logistic_regression_L1.append(auc)\n",
    "    \n",
    "    #Logistic Regression-L2\n",
    "    #The AUC (Test Data)\n",
    "    auc,predict_logistic_regression_L2 = auc_predict_test[6][0],auc_predict_test[6][1]\n",
    "    metric_logistic_regression_L2.append(auc)\n",
    "    \n",
    "    #Building a list that contains all the predictions of the base models.\n",
    "    predict_list = [predict_gradient_boosting,predict_decision_tree,predict_random_forest, \n",
    "                               predict_linear_regression,predict_logistic_regression_L2,\n",
    "                               predict_logistic_regression_L1,predict_mlp]\n",
    "    global test_stack_X\n",
    "    global test_raw_features_X\n",
    "    global test_blend_X\n",
    "    \n",
    "    test_stack_X = build_data_frame(predict_list)\n",
    "    #Converting the list of predictions into a dataframe.\n",
    "    test_raw_features_X = test_raw_features_X.append(test_X,ignore_index = True)\n",
    "    #Converting the above list of predictions and raw features (Concatenate) into a dataframe\n",
    "    test_blend_X = pd.concat([test_raw_features_X, test_stack_X], axis = 1,ignore_index = True)\n",
    "\n",
    "        \n",
    "    #Computing the AUC and Predictions of the Stacking and Blending models on the test data parallely.\n",
    "    auc_predict_test_second_level = Parallel(n_jobs = -1)(delayed(function)(test_X, test_Y) \\\n",
    "                                                      for function,test_X in \\\n",
    "                                                      ((cross_val_second_level_model[0],test_stack_X),\\\n",
    "                                                       (cross_val_second_level_model[1],test_blend_X),\\\n",
    "                                                       (cross_val_second_level_model[2],test_stack_X)))\n",
    "\n",
    "    #Stacking (XGBoost - Gradient Boosting)\n",
    "    auc,predict_stack = auc_predict_test_second_level[0][0],auc_predict_test_second_level[0][1]\n",
    "    metric_stacking.append(auc)    \n",
    "\n",
    "    #Blending (XGBoost - Gradient Boosting)\n",
    "    auc,predict_blend = auc_predict_test_second_level[1][0],auc_predict_test_second_level[1][1]\n",
    "    metric_blending.append(auc)\n",
    "    \n",
    "    #Performing a weighted average of all the base models and calculating the resulting AUC.\n",
    "    auc,predict_weighted_average = auc_predict_test_second_level[2][0],auc_predict_test_second_level[2][1]\n",
    "    metric_weighted_average.append(auc)\n",
    "    "
   ]
  },
  {
   "cell_type": "code",
   "execution_count": 64,
   "metadata": {
    "collapsed": false
   },
   "outputs": [
    {
     "name": "stdout",
     "output_type": "stream",
     "text": [
      "ONE HOT ENCODING\n",
      "\n",
      "Epoch 1/1\n",
      "12356/12356 [==============================] - 0s - loss: 13.8857 - acc: 0.1290     \n",
      "Epoch 1/1\n",
      "12356/12356 [==============================] - 0s - loss: 2.0575 - acc: 0.8714     \n",
      "Epoch 1/1\n",
      "12356/12356 [==============================] - 0s - loss: 1.8158 - acc: 0.8873     \n",
      "Epoch 1/1\n",
      "12356/12356 [==============================] - 0s - loss: 14.1464 - acc: 0.1127     \n",
      "Epoch 1/1\n",
      "12356/12356 [==============================] - 0s - loss: 13.1571 - acc: 0.1748     \n",
      "Epoch 1/1\n",
      "12356/12356 [==============================] - 0s - loss: 14.1464 - acc: 0.1127     \n",
      "Epoch 1/1\n",
      "12356/12356 [==============================] - 0s - loss: 13.6271 - acc: 0.1452     \n",
      "Epoch 1/1\n",
      "12356/12356 [==============================] - 0s - loss: 14.1464 - acc: 0.1127     \n",
      "Epoch 1/1\n",
      "12356/12356 [==============================] - 0s - loss: 14.1464 - acc: 0.1127     \n",
      "Epoch 1/1\n",
      "12356/12356 [==============================] - 0s - loss: 1.0106 - acc: 0.1127     \n",
      "Epoch 1/1\n",
      "12356/12356 [==============================] - 0s - loss: 0.4459 - acc: 0.8877     \n",
      "Epoch 1/1\n",
      "12356/12356 [==============================] - 0s - loss: 0.8761 - acc: 0.1120     \n",
      "Epoch 1/1\n",
      "12356/12356 [==============================] - 0s - loss: 1.8158 - acc: 0.8873     \n",
      "Epoch 1/1\n",
      "12356/12356 [==============================] - 0s - loss: 14.1464 - acc: 0.1127     \n",
      "Epoch 1/1\n",
      "12356/12356 [==============================] - 0s - loss: 1.8158 - acc: 0.8873     \n",
      "Epoch 1/5\n",
      "18534/18534 [==============================] - 1s - loss: 0.3873 - acc: 0.8855     \n",
      "Epoch 2/5\n",
      "18534/18534 [==============================] - 1s - loss: 0.3219 - acc: 0.8873     \n",
      "Epoch 3/5\n",
      "18534/18534 [==============================] - 1s - loss: 0.3083 - acc: 0.8873     \n",
      "Epoch 4/5\n",
      "18534/18534 [==============================] - 1s - loss: 0.2993 - acc: 0.8873     \n",
      "Epoch 5/5\n",
      "18534/18534 [==============================] - 1s - loss: 0.2912 - acc: 0.8873     \n",
      "\n",
      "Start Cross Validation Sample 0 \n",
      "\n",
      " AUC (Linear Regression)\n",
      " 0.934796334074\n",
      " AUC (Logistic Regression - L2)\n",
      " 0.93205194463\n",
      " AUC (Logistic Regression - L1)\n",
      " 0.932036147342\n",
      " AUC (Decision Tree)\n",
      " 0.93378153663\n",
      " AUC (Random Forest)\n",
      " 0.932144122174\n",
      " AUC (Multi Layer Perceptron)\n",
      " 0.867527343724\n",
      " AUC (Gradient Boosting - XGBoost)\n",
      " 0.944933345051\n",
      "\n",
      "End Cross Validation Sample 0 \n",
      "\n",
      " AUC (Weighted Average)\n",
      " [0.94712765397362531]\n",
      "\n",
      "Start Test Sample 0 \n",
      "\n",
      " AUC (Linear Regression)\n",
      " [0.9378490730694844]\n",
      " AUC (Logistic Regression - L2)\n",
      " [0.93572220387754124]\n",
      " AUC (Logistic Regression - L1)\n",
      " [0.93619982074626151]\n",
      " AUC (Decision Tree)\n",
      " [0.93045957356479092]\n",
      " AUC (Random Forest)\n",
      " [0.93330670078777311]\n",
      " AUC (Multi Layer Perceptron)\n",
      " [0.85414229444785128]\n",
      " AUC (Weighted Average)\n",
      " [0.94649040049058919]\n",
      " AUC (Gradient Boosting - XGBoost)\n",
      " [0.94596089438181052]\n",
      " AUC (Stacking)\n",
      " [0.94724220482098209]\n",
      " AUC (Blending)\n",
      " [0.94380542714278981]\n",
      "\n",
      "End Test Sample 0 \n",
      "\n",
      "\n",
      "END\n",
      "\n"
     ]
    }
   ],
   "source": [
    "print('ONE HOT ENCODING\\n')\n",
    "sample_generation_one_hot_encode(1)\n",
    "print('\\nEND\\n')"
   ]
  },
  {
   "cell_type": "code",
   "execution_count": 65,
   "metadata": {
    "collapsed": false
   },
   "outputs": [
    {
     "name": "stdout",
     "output_type": "stream",
     "text": [
      "LABEL ENCODING\n",
      "\n",
      "Epoch 1/1\n",
      "12356/12356 [==============================] - 0s - loss: 14.2988 - acc: 0.0296     \n",
      "Epoch 1/1\n",
      "12356/12356 [==============================] - 0s - loss: 14.3023 - acc: 0.0000e+00     \n",
      "Epoch 1/1\n",
      "12356/12356 [==============================] - 0s - loss: 1.7960 - acc: 0.0000e+00     \n",
      "Epoch 1/1\n",
      "12356/12356 [==============================] - 0s - loss: 14.3023 - acc: 0.0000e+00     \n",
      "Epoch 1/1\n",
      "12356/12356 [==============================] - 0s - loss: 1.7986 - acc: 0.0000e+00     \n",
      "Epoch 1/1\n",
      "12356/12356 [==============================] - 0s - loss: 1.7960 - acc: 0.0000e+00     \n",
      "Epoch 1/1\n",
      "12356/12356 [==============================] - 0s - loss: 0.3428 - acc: 0.8873     \n",
      "Epoch 1/1\n",
      "12356/12356 [==============================] - 0s - loss: 0.4843 - acc: 0.8262     \n",
      "Epoch 1/1\n",
      "12356/12356 [==============================] - 0s - loss: 0.6117 - acc: 0.7307     \n",
      "Epoch 1/1\n",
      "12356/12356 [==============================] - 0s - loss: 1.7960 - acc: 0.0000e+00     \n",
      "Epoch 1/1\n",
      "12288/12356 [============================>.] - ETA: 0s - loss: 2.2912 - acc: 0.0000e+00\n",
      "12356/12356 [==============================] - 0s - loss: 2.2967 - acc: 0.0000e+00     Epoch 1/1\n",
      "12356/12356 [==============================] - 0s - loss: 14.3023 - acc: 0.0000e+00     \n",
      "Epoch 1/1\n",
      "12356/12356 [==============================] - 0s - loss: 14.3023 - acc: 0.1127     \n",
      "Epoch 1/1\n",
      "12356/12356 [==============================] - 0s - loss: 14.0433 - acc: 0.1286     \n",
      "Epoch 1/1\n",
      "12356/12356 [==============================] - 0s - loss: 1.7960 - acc: 0.8873     \n",
      "Epoch 1/5\n",
      "18534/18534 [==============================] - 0s - loss: 0.3050 - acc: 0.8873     \n",
      "Epoch 2/5\n",
      "18534/18534 [==============================] - 1s - loss: 0.2797 - acc: 0.8876     \n",
      "Epoch 3/5\n",
      "18534/18534 [==============================] - 0s - loss: 0.2699 - acc: 0.8909     \n",
      "Epoch 4/5\n",
      "18534/18534 [==============================] - 1s - loss: 0.2597 - acc: 0.8999     \n",
      "Epoch 5/5\n",
      "18534/18534 [==============================] - 0s - loss: 0.2572 - acc: 0.9009     \n",
      "\n",
      "Start Cross Validation Sample 0 \n",
      "\n",
      " AUC (Linear Regression)\n",
      " 0.930727156334\n",
      " AUC (Logistic Regression - L2)\n",
      " 0.931278328834\n",
      " AUC (Logistic Regression - L1)\n",
      " 0.93108009834\n",
      " AUC (Decision Tree)\n",
      " 0.937464401501\n",
      " AUC (Random Forest)\n",
      " 0.941218419691\n",
      " AUC (Multi Layer Perceptron)\n",
      " 0.880262331669\n",
      " AUC (Gradient Boosting - XGBoost)\n",
      " 0.948483163264\n",
      "\n",
      "End Cross Validation Sample 0 \n",
      "\n",
      " AUC (Weighted Average)\n",
      " [0.94903059391748767]\n",
      "\n",
      "Start Test Sample 0 \n",
      "\n",
      " AUC (Linear Regression)\n",
      " [0.91499304212462851]\n",
      " AUC (Logistic Regression - L2)\n",
      " [0.91667590452379821]\n",
      " AUC (Logistic Regression - L1)\n",
      " [0.91742829850464647]\n",
      " AUC (Decision Tree)\n",
      " [0.93497629605170052]\n",
      " AUC (Random Forest)\n",
      " [0.93206224350205202]\n",
      " AUC (Multi Layer Perceptron)\n",
      " [0.86547124864380387]\n",
      " AUC (Weighted Average)\n",
      " [0.94208512193971417]\n",
      " AUC (Gradient Boosting - XGBoost)\n",
      " [0.94257305769140043]\n",
      " AUC (Stacking)\n",
      " [0.94041169394782786]\n",
      " AUC (Blending)\n",
      " [0.94210723383178452]\n",
      "\n",
      "End Test Sample 0 \n",
      "\n",
      "\n",
      "END\n",
      "\n"
     ]
    }
   ],
   "source": [
    "print('LABEL ENCODING\\n')\n",
    "sample_generation_label_encode(1)\n",
    "print('\\nEND\\n')"
   ]
  },
  {
   "cell_type": "code",
   "execution_count": 66,
   "metadata": {
    "collapsed": false
   },
   "outputs": [
    {
     "name": "stdout",
     "output_type": "stream",
     "text": [
      "BINARY ENCODING\n",
      "\n",
      "Epoch 1/1\n",
      "12356/12356 [==============================] - 1s - loss: 1.7960 - acc: 0.0000e+00     \n",
      "Epoch 1/1\n",
      "12356/12356 [==============================] - 0s - loss: 14.3023 - acc: 0.0000e+00     \n",
      "Epoch 1/1\n",
      "12356/12356 [==============================] - 0s - loss: 14.4353 - acc: 1.6186e-04     \n",
      "Epoch 1/1\n",
      "12356/12356 [==============================] - 0s - loss: 3.6228 - acc: 0.7738     \n",
      "Epoch 1/1\n",
      "12356/12356 [==============================] - 0s - loss: 1.7960 - acc: 0.8873     \n",
      "Epoch 1/1\n",
      "12356/12356 [==============================] - 0s - loss: 14.3013 - acc: 0.1127     \n",
      "Epoch 1/1\n",
      "12356/12356 [==============================] - 0s - loss: 0.3438 - acc: 0.8747     \n",
      "Epoch 1/1\n",
      "12356/12356 [==============================] - 0s - loss: 0.3884 - acc: 0.8873     \n",
      "Epoch 1/1\n",
      "12356/12356 [==============================] - 0s - loss: 0.3241 - acc: 0.8873     \n",
      "Epoch 1/1\n",
      "12356/12356 [==============================] - 0s - loss: 1.7960 - acc: 0.8866     \n",
      "Epoch 1/1\n",
      "12356/12356 [==============================] - 0s - loss: 1.0105 - acc: 0.7267     \n",
      "Epoch 1/1\n",
      "12356/12356 [==============================] - 0s - loss: 0.3360 - acc: 0.8949     \n",
      "Epoch 1/1\n",
      "12356/12356 [==============================] - 0s - loss: 14.3023 - acc: 0.0000e+00     \n",
      "Epoch 1/1\n",
      "12356/12356 [==============================] - 0s - loss: 14.3023 - acc: 5.6653e-04     \n",
      "Epoch 1/1\n",
      "12356/12356 [==============================] - 0s - loss: 0.3479 - acc: 0.8924     \n",
      "Epoch 1/5\n",
      "18534/18534 [==============================] - 1s - loss: 0.3411 - acc: 0.8855     \n",
      "Epoch 2/5\n",
      "18534/18534 [==============================] - 1s - loss: 0.2859 - acc: 0.8873     \n",
      "Epoch 3/5\n",
      "18534/18534 [==============================] - 1s - loss: 0.2721 - acc: 0.8873     \n",
      "Epoch 4/5\n",
      "18534/18534 [==============================] - 1s - loss: 0.2659 - acc: 0.8874     \n",
      "Epoch 5/5\n",
      "18534/18534 [==============================] - 1s - loss: 0.2599 - acc: 0.8910     \n",
      "\n",
      "Start Cross Validation Sample 0 \n",
      "\n",
      " AUC (Linear Regression)\n",
      " 0.930298853254\n",
      " AUC (Logistic Regression - L2)\n",
      " 0.931878057977\n",
      " AUC (Logistic Regression - L1)\n",
      " 0.93186873976\n",
      " AUC (Decision Tree)\n",
      " 0.933663821349\n",
      " AUC (Random Forest)\n",
      " 0.934890972209\n",
      " AUC (Multi Layer Perceptron)\n",
      " 0.877556671063\n",
      " AUC (Gradient Boosting - XGBoost)\n",
      " 0.944982789837\n",
      "\n",
      "End Cross Validation Sample 0 \n",
      "\n",
      " AUC (Weighted Average)\n",
      " [0.94560927973215725]\n",
      "\n",
      "Start Test Sample 0 \n",
      "\n",
      " AUC (Linear Regression)\n",
      " [0.92856679560356614]\n",
      " AUC (Logistic Regression - L2)\n",
      " [0.930973748761734]\n",
      " AUC (Logistic Regression - L1)\n",
      " [0.93089414595028064]\n",
      " AUC (Decision Tree)\n",
      " [0.93184200905703096]\n",
      " AUC (Random Forest)\n",
      " [0.92818381763290714]\n",
      " AUC (Multi Layer Perceptron)\n",
      " [0.86716590405207805]\n",
      " AUC (Weighted Average)\n",
      " [0.94075722911458093]\n",
      " AUC (Gradient Boosting - XGBoost)\n",
      " [0.94055527383367155]\n",
      " AUC (Stacking)\n",
      " [0.94101077881032125]\n",
      " AUC (Blending)\n",
      " [0.94005230199537715]\n",
      "\n",
      "End Test Sample 0 \n",
      "\n",
      "\n",
      "END\n",
      "\n"
     ]
    }
   ],
   "source": [
    "print('BINARY ENCODING\\n')\n",
    "sample_generation_binary_encode(1)\n",
    "print('\\nEND\\n')"
   ]
  },
  {
   "cell_type": "code",
   "execution_count": 67,
   "metadata": {
    "collapsed": false
   },
   "outputs": [
    {
     "name": "stdout",
     "output_type": "stream",
     "text": [
      "HASHING ENCODING\n",
      "\n",
      "Epoch 1/1\n",
      "12356/12356 [==============================] - 0s - loss: 1.7960 - acc: 0.8873     \n",
      "Epoch 1/1\n",
      "12356/12356 [==============================] - 0s - loss: 14.3023 - acc: 0.1127     \n",
      "Epoch 1/1\n",
      "12356/12356 [==============================] - 0s - loss: 1.7960 - acc: 0.8873     \n",
      "Epoch 1/1\n",
      "12356/12356 [==============================] - 0s - loss: 14.3023 - acc: 0.0000e+00     \n",
      "Epoch 1/1\n",
      "12356/12356 [==============================] - 0s - loss: 9.1210 - acc: 8.0932e-05     \n",
      "Epoch 1/1\n",
      "12356/12356 [==============================] - 0s - loss: 1.7960 - acc: 0.0000e+00     \n",
      "Epoch 1/1\n",
      "12356/12356 [==============================] - 0s - loss: 1.1109 - acc: 0.1485     \n",
      "Epoch 1/1\n",
      "12356/12356 [==============================] - 0s - loss: 0.3542 - acc: 0.8882     \n",
      "Epoch 1/1\n",
      "12356/12356 [==============================] - 0s - loss: 0.4502 - acc: 0.8555     \n",
      "Epoch 1/1\n",
      "12356/12356 [==============================] - 0s - loss: 14.3023 - acc: 0.0000e+00     \n",
      "Epoch 1/1\n",
      "12356/12356 [==============================] - 0s - loss: 14.3176 - acc: 0.0000e+00     \n",
      "Epoch 1/1\n",
      "12356/12356 [==============================] - 0s - loss: 14.3023 - acc: 0.0000e+00     \n",
      "Epoch 1/1\n",
      "12356/12356 [==============================] - 0s - loss: 1.7960 - acc: 0.0000e+00     \n",
      "Epoch 1/1\n",
      "12356/12356 [==============================] - 0s - loss: 3.0587 - acc: 4.0466e-04     \n",
      "Epoch 1/1\n",
      "12356/12356 [==============================] - 0s - loss: 7.4973 - acc: 0.0000e+00     \n",
      "Epoch 1/5\n",
      "18534/18534 [==============================] - 1s - loss: 0.5898 - acc: 0.6715     \n",
      "Epoch 2/5\n",
      "18534/18534 [==============================] - 1s - loss: 0.3246 - acc: 0.8873     \n",
      "Epoch 3/5\n",
      "18534/18534 [==============================] - 1s - loss: 0.3069 - acc: 0.8873     \n",
      "Epoch 4/5\n",
      "18534/18534 [==============================] - 1s - loss: 0.2949 - acc: 0.8873     \n",
      "Epoch 5/5\n",
      "18534/18534 [==============================] - 1s - loss: 0.2861 - acc: 0.8873     \n",
      "\n",
      "Start Cross Validation Sample 0 \n",
      "\n",
      " AUC (Linear Regression)\n",
      " 0.923170869066\n",
      " AUC (Logistic Regression - L2)\n",
      " 0.925227457662\n",
      " AUC (Logistic Regression - L1)\n",
      " 0.925219085827\n",
      " AUC (Decision Tree)\n",
      " 0.932025198437\n",
      " AUC (Random Forest)\n",
      " 0.928380552813\n",
      " AUC (Multi Layer Perceptron)\n",
      " 0.869806186341\n",
      " AUC (Gradient Boosting - XGBoost)\n",
      " 0.943450307233\n",
      "\n",
      "End Cross Validation Sample 0 \n",
      "\n",
      " AUC (Weighted Average)\n",
      " [0.94560569804273198]\n",
      "\n",
      "Start Test Sample 0 \n",
      "\n",
      " AUC (Linear Regression)\n",
      " [0.9304690079720741]\n",
      " AUC (Logistic Regression - L2)\n",
      " [0.93228866927685261]\n",
      " AUC (Logistic Regression - L1)\n",
      " [0.93228247794707297]\n",
      " AUC (Decision Tree)\n",
      " [0.92950139157507417]\n",
      " AUC (Random Forest)\n",
      " [0.93072314731826977]\n",
      " AUC (Multi Layer Perceptron)\n",
      " [0.88553322090664643]\n",
      " AUC (Weighted Average)\n",
      " [0.94883190244822868]\n",
      " AUC (Gradient Boosting - XGBoost)\n",
      " [0.94517695410160862]\n",
      " AUC (Stacking)\n",
      " [0.9464874522383131]\n",
      " AUC (Blending)\n",
      " [0.94941919430161792]\n",
      "\n",
      "End Test Sample 0 \n",
      "\n",
      "\n",
      "END\n",
      "\n"
     ]
    }
   ],
   "source": [
    "print('HASHING ENCODING\\n')\n",
    "sample_generation_hashing_encode(1)\n",
    "print('\\nEND\\n')"
   ]
  },
  {
   "cell_type": "code",
   "execution_count": 68,
   "metadata": {
    "collapsed": false
   },
   "outputs": [
    {
     "name": "stdout",
     "output_type": "stream",
     "text": [
      "BACKWARD DIFFERENCE ENCODING\n",
      "\n",
      "Epoch 1/1\n",
      "12356/12356 [==============================] - 0s - loss: 14.1464 - acc: 0.0000e+00     \n",
      "Epoch 1/1\n",
      "12356/12356 [==============================] - 0s - loss: 14.1464 - acc: 0.0000e+00     \n",
      "Epoch 1/1\n",
      "12356/12356 [==============================] - 0s - loss: 14.1464 - acc: 0.0000e+00     \n",
      "Epoch 1/1\n",
      "12356/12356 [==============================] - 0s - loss: 14.1464 - acc: 0.0000e+00     \n",
      "Epoch 1/1\n",
      "12356/12356 [==============================] - 0s - loss: 14.1464 - acc: 0.0000e+00     \n",
      "Epoch 1/1\n",
      "12356/12356 [==============================] - 0s - loss: 14.1464 - acc: 0.0000e+00     \n",
      "Epoch 1/1\n",
      "12356/12356 [==============================] - 0s - loss: 0.7572 - acc: 0.4274     \n",
      "Epoch 1/1\n",
      "12356/12356 [==============================] - 0s - loss: 0.4717 - acc: 0.8730     \n",
      "Epoch 1/1\n",
      "12356/12356 [==============================] - 0s - loss: 0.5249 - acc: 0.8873     \n",
      "Epoch 1/1\n",
      "12356/12356 [==============================] - 0s - loss: 1.8158 - acc: 0.8844     \n",
      "Epoch 1/1\n",
      "12356/12356 [==============================] - 0s - loss: 1.8158 - acc: 0.8869     \n",
      "Epoch 1/1\n",
      "12356/12356 [==============================] - 0s - loss: 0.4015 - acc: 0.8860     \n",
      "Epoch 1/1\n",
      "12356/12356 [==============================] - 0s - loss: 0.3136 - acc: 0.9002     \n",
      "Epoch 1/1\n",
      "12356/12356 [==============================] - 0s - loss: 0.5252 - acc: 0.8928     \n",
      "Epoch 1/1\n",
      "12356/12356 [==============================] - 0s - loss: 0.4494 - acc: 0.8929     \n",
      "Epoch 1/5\n",
      "18534/18534 [==============================] - 1s - loss: 1.8158 - acc: 0.7533     \n",
      "Epoch 2/5\n",
      "18534/18534 [==============================] - 1s - loss: 1.8158 - acc: 0.7533     \n",
      "Epoch 3/5\n",
      "18534/18534 [==============================] - 1s - loss: 1.8158 - acc: 0.7533     \n",
      "Epoch 4/5\n",
      "18534/18534 [==============================] - 1s - loss: 1.8158 - acc: 0.7533     \n",
      "Epoch 5/5\n",
      "18534/18534 [==============================] - 1s - loss: 1.8158 - acc: 0.7533     \n",
      "\n",
      "Start Cross Validation Sample 0 \n",
      "\n",
      " AUC (Linear Regression)\n",
      " 0.934875873787\n",
      " AUC (Logistic Regression - L2)\n",
      " 0.933408385742\n",
      " AUC (Logistic Regression - L1)\n",
      " 0.933491026674\n",
      " AUC (Decision Tree)\n",
      " 0.925450774542\n",
      " AUC (Random Forest)\n",
      " 0.937310243259\n",
      " AUC (Multi Layer Perceptron)\n",
      " 0.280671506199\n",
      " AUC (Gradient Boosting - XGBoost)\n",
      " 0.943720914061\n",
      "\n",
      "End Cross Validation Sample 0 \n",
      "\n",
      " AUC (Weighted Average)\n",
      " [0.94638924356350029]\n",
      "\n",
      "Start Test Sample 0 \n",
      "\n",
      " AUC (Linear Regression)\n",
      " [0.93589674041228343]\n",
      " AUC (Logistic Regression - L2)\n",
      " [0.93297914995990383]\n",
      " AUC (Logistic Regression - L1)\n",
      " [0.93300332562856747]\n",
      " AUC (Decision Tree)\n",
      " [0.93501963536015842]\n",
      " AUC (Random Forest)\n",
      " [0.94018821642530304]\n",
      " AUC (Multi Layer Perceptron)\n",
      " [0.2735945681400066]\n",
      " AUC (Weighted Average)\n",
      " [0.94875229963677532]\n",
      " AUC (Gradient Boosting - XGBoost)\n",
      " [0.94814554931836403]\n",
      " AUC (Stacking)\n",
      " [0.94509587716401722]\n",
      " AUC (Blending)\n",
      " [0.94704113401575551]\n",
      "\n",
      "End Test Sample 0 \n",
      "\n",
      "\n",
      "END\n",
      "\n"
     ]
    }
   ],
   "source": [
    "print('BACKWARD DIFFERENCE ENCODING\\n')\n",
    "sample_generation_backward_difference_encode(1)\n",
    "print('\\nEND\\n')"
   ]
  },
  {
   "cell_type": "code",
   "execution_count": 69,
   "metadata": {
    "collapsed": false
   },
   "outputs": [
    {
     "name": "stdout",
     "output_type": "stream",
     "text": [
      "HELMERT ENCODING\n",
      "\n",
      "Epoch 1/1\n",
      "12356/12356 [==============================] - 0s - loss: 14.3023 - acc: 0.0000e+00     \n",
      "Epoch 1/1\n",
      "12356/12356 [==============================] - 0s - loss: 14.3035 - acc: 4.0466e-04     \n",
      "Epoch 1/1\n",
      "12356/12356 [==============================] - 0s - loss: 1.7960 - acc: 0.0000e+00     \n",
      "Epoch 1/1\n",
      "12356/12356 [==============================] - 0s - loss: 1.7960 - acc: 0.0000e+00     \n",
      "Epoch 1/1\n",
      "12356/12356 [==============================] - 0s - loss: 14.3023 - acc: 0.0000e+00     \n",
      "Epoch 1/1\n",
      "12356/12356 [==============================] - 0s - loss: 1.7960 - acc: 0.0000e+00     \n",
      "Epoch 1/1\n",
      "12356/12356 [==============================] - 0s - loss: 2.5768 - acc: 0.8387     \n",
      "Epoch 1/1\n",
      "12356/12356 [==============================] - 0s - loss: 14.3023 - acc: 0.1127     \n",
      "Epoch 1/1\n",
      "12356/12356 [==============================] - 0s - loss: 14.3023 - acc: 0.1127     \n",
      "Epoch 1/1\n",
      "12356/12356 [==============================] - 0s - loss: 1.7960 - acc: 0.8873     \n",
      "Epoch 1/1\n",
      "12356/12356 [==============================] - 0s - loss: 1.7960 - acc: 0.8873     \n",
      "Epoch 1/1\n",
      "12356/12356 [==============================] - 0s - loss: 14.3023 - acc: 0.1127     \n",
      "Epoch 1/1\n",
      "12356/12356 [==============================] - 0s - loss: 13.5198 - acc: 0.0000e+00     \n",
      "Epoch 1/1\n",
      "12356/12356 [==============================] - 0s - loss: 1.7960 - acc: 0.0000e+00     \n",
      "Epoch 1/1\n",
      "12356/12356 [==============================] - 0s - loss: 1.7960 - acc: 0.0000e+00     \n",
      "Epoch 1/5\n",
      "18534/18534 [==============================] - 1s - loss: 14.3014 - acc: 5.3955e-05     \n",
      "Epoch 2/5\n",
      "18534/18534 [==============================] - 1s - loss: 14.3023 - acc: 0.0000e+00     \n",
      "Epoch 3/5\n",
      "18534/18534 [==============================] - 1s - loss: 14.3023 - acc: 0.0000e+00     \n",
      "Epoch 4/5\n",
      "18534/18534 [==============================] - 1s - loss: 14.3023 - acc: 0.0000e+00     \n",
      "Epoch 5/5\n",
      "18534/18534 [==============================] - 1s - loss: 14.3023 - acc: 0.0000e+00     \n",
      "\n",
      "Start Cross Validation Sample 0 \n",
      "\n",
      " AUC (Linear Regression)\n",
      " 0.933304312913\n",
      " AUC (Logistic Regression - L2)\n",
      " 0.934780726061\n",
      " AUC (Logistic Regression - L1)\n",
      " 0.934817067105\n",
      " AUC (Decision Tree)\n",
      " 0.927200852058\n",
      " AUC (Random Forest)\n",
      " 0.928416238669\n",
      " AUC (Multi Layer Perceptron)\n",
      " 0.0796509198128\n",
      " AUC (Gradient Boosting - XGBoost)\n",
      " 0.946335081431\n",
      "\n",
      "End Cross Validation Sample 0 \n",
      "\n",
      " AUC (Weighted Average)\n",
      " [0.94542668637003513]\n",
      "\n",
      "Start Test Sample 0 \n",
      "\n",
      " AUC (Linear Regression)\n",
      " [0.92985046464455867]\n",
      " AUC (Logistic Regression - L2)\n",
      " [0.93219373555356388]\n",
      " AUC (Logistic Regression - L1)\n",
      " [0.93178156988537186]\n",
      " AUC (Decision Tree)\n",
      " [0.93136321288740032]\n",
      " AUC (Random Forest)\n",
      " [0.9282135949808954]\n",
      " AUC (Multi Layer Perceptron)\n",
      " [0.086405608755129967]\n",
      " AUC (Weighted Average)\n",
      " [0.94690374545969147]\n",
      " AUC (Gradient Boosting - XGBoost)\n",
      " [0.94905007311665646]\n",
      " AUC (Stacking)\n",
      " [0.92496874852587374]\n",
      " AUC (Blending)\n",
      " [0.94642435963960569]\n",
      "\n",
      "End Test Sample 0 \n",
      "\n",
      "\n",
      "END\n",
      "\n"
     ]
    }
   ],
   "source": [
    "print('HELMERT ENCODING\\n')\n",
    "sample_generation_helmert_encode(1)\n",
    "print('\\nEND\\n')"
   ]
  },
  {
   "cell_type": "code",
   "execution_count": 70,
   "metadata": {
    "collapsed": false
   },
   "outputs": [],
   "source": [
    "#(Parallel(n_jobs=-1)(delayed(sample_generation)(n) for n in range(4)))"
   ]
  },
  {
   "cell_type": "code",
   "execution_count": null,
   "metadata": {
    "collapsed": true
   },
   "outputs": [],
   "source": []
  }
 ],
 "metadata": {
  "kernelspec": {
   "display_name": "Python 3",
   "language": "python",
   "name": "python3"
  },
  "language_info": {
   "codemirror_mode": {
    "name": "ipython",
    "version": 3
   },
   "file_extension": ".py",
   "mimetype": "text/x-python",
   "name": "python",
   "nbconvert_exporter": "python",
   "pygments_lexer": "ipython3",
   "version": "3.5.1"
  }
 },
 "nbformat": 4,
 "nbformat_minor": 0
}
