{
 "cells": [
  {
   "cell_type": "code",
   "execution_count": 1,
   "metadata": {
    "collapsed": false
   },
   "outputs": [
    {
     "name": "stderr",
     "output_type": "stream",
     "text": [
      "/home/prajwal/anaconda3/lib/python3.5/site-packages/sklearn/cross_validation.py:44: DeprecationWarning: This module was deprecated in version 0.18 in favor of the model_selection module into which all the refactored classes and functions are moved. Also note that the interface of the new CV iterators are different from that of this module. This module will be removed in 0.20.\n",
      "  \"This module will be removed in 0.20.\", DeprecationWarning)\n",
      "/home/prajwal/anaconda3/lib/python3.5/site-packages/sklearn/grid_search.py:43: DeprecationWarning: This module was deprecated in version 0.18 in favor of the model_selection module into which all the refactored classes and functions are moved. This module will be removed in 0.20.\n",
      "  DeprecationWarning)\n",
      "Using Theano backend.\n"
     ]
    }
   ],
   "source": [
    "import ensembles as en\n",
    "import pandas as pd\n",
    "import numpy as np\n",
    "import xgboost as xgb\n",
    "import category_encoders as ce\n",
    "from sklearn import datasets, linear_model, preprocessing, grid_search\n",
    "from sklearn.preprocessing import Imputer, PolynomialFeatures, StandardScaler\n",
    "from sklearn.tree import DecisionTreeClassifier\n",
    "from sklearn.cross_validation import KFold\n",
    "from sklearn.ensemble import RandomForestClassifier\n",
    "from sklearn.cross_validation import StratifiedKFold, KFold\n",
    "from sklearn.preprocessing import OneHotEncoder\n",
    "from sklearn.externals import joblib\n",
    "from keras.layers import Dense, Activation, Dropout\n",
    "from keras.models import Sequential\n",
    "from keras.regularizers import l2, activity_l2\n",
    "from sklearn.metrics import roc_auc_score, average_precision_score, f1_score, log_loss, accuracy_score, \\\n",
    "mean_absolute_error, mean_squared_error, r2_score\n",
    "from sklearn.cross_validation import train_test_split\n",
    "from joblib import Parallel, delayed\n",
    "from sklearn.pipeline import Pipeline\n",
    "from hyperopt import hp, fmin, tpe, STATUS_OK, Trials \n",
    "from hyperas import optim\n",
    "from hyperas.distributions import choice, uniform, conditional\n",
    "from functools import partial\n",
    "np.random.seed(1338)"
   ]
  },
  {
   "cell_type": "code",
   "execution_count": 2,
   "metadata": {
    "collapsed": true
   },
   "outputs": [],
   "source": [
    "#Setting the parameters for the Decision Tree Model (Number Of Layers = 3)"
   ]
  },
  {
   "cell_type": "markdown",
   "metadata": {},
   "source": [
    "# Example 1"
   ]
  },
  {
   "cell_type": "code",
   "execution_count": 3,
   "metadata": {
    "collapsed": false
   },
   "outputs": [
    {
     "name": "stdout",
     "output_type": "stream",
     "text": [
      "{'max_features': [None], 'min_samples_leaf': [1], 'min_samples_split': [2], 'max_depth': [None], 'presort': [False], 'criterion': ['gini'], 'class_weight': [None], 'random_state': [None], 'splitter': ['best'], 'min_weight_fraction_leaf': [0.0], 'max_leaf_nodes': [None]}\n"
     ]
    }
   ],
   "source": [
    "#Default Values\n",
    "param_dt = en.parameter_set_decision_tree()\n",
    "print(param_dt)"
   ]
  },
  {
   "cell_type": "markdown",
   "metadata": {},
   "source": [
    "# Example 2"
   ]
  },
  {
   "cell_type": "code",
   "execution_count": 4,
   "metadata": {
    "collapsed": false
   },
   "outputs": [
    {
     "name": "stdout",
     "output_type": "stream",
     "text": [
      "{'max_features': [None], 'min_samples_leaf': [1], 'min_samples_split': [2], 'max_depth': [6], 'presort': [False], 'criterion': ['gini'], 'class_weight': [None], 'random_state': [None], 'splitter': ['best'], 'min_weight_fraction_leaf': [0.0], 'max_leaf_nodes': [None]}\n"
     ]
    }
   ],
   "source": [
    "#Setting max_depth, rest are default values\n",
    "param_dt = en.parameter_set_decision_tree(max_depth = [6])\n",
    "print(param_dt)"
   ]
  },
  {
   "cell_type": "markdown",
   "metadata": {},
   "source": [
    "# Example 3"
   ]
  },
  {
   "cell_type": "code",
   "execution_count": 5,
   "metadata": {
    "collapsed": false
   },
   "outputs": [
    {
     "name": "stdout",
     "output_type": "stream",
     "text": [
      "{'max_features': [None], 'min_samples_leaf': [1], 'min_samples_split': [2], 'max_depth': [6, 10, 12], 'presort': [False], 'criterion': ['entropy'], 'class_weight': [None], 'random_state': [None], 'splitter': ['best'], 'min_weight_fraction_leaf': [0.0], 'max_leaf_nodes': [None]}\n"
     ]
    }
   ],
   "source": [
    "#Setting max_depth, criterion, rest are default values\n",
    "#Hyper parameter optimisation - max_depth\n",
    "param_dt = en.parameter_set_decision_tree(max_depth = [6, 10, 12], criterion = ['entropy'])\n",
    "print(param_dt)"
   ]
  },
  {
   "cell_type": "markdown",
   "metadata": {},
   "source": [
    "# Example 4"
   ]
  },
  {
   "cell_type": "code",
   "execution_count": 6,
   "metadata": {
    "collapsed": false
   },
   "outputs": [
    {
     "name": "stdout",
     "output_type": "stream",
     "text": [
      "{'max_features': [None], 'min_samples_leaf': [1], 'min_samples_split': [2], 'max_depth': [6, 10, 12], 'presort': [False], 'criterion': ['gini'], 'class_weight': [None], 'random_state': [None], 'splitter': ['best', 'random'], 'min_weight_fraction_leaf': [0.0], 'max_leaf_nodes': [None]}\n"
     ]
    }
   ],
   "source": [
    "#Setting max_depth, splitter, rest are default values\n",
    "#Hyper parameter optimisation - max_depth\n",
    "#Hyper parameter optimisation - splitter\n",
    "param_dt = en.parameter_set_decision_tree(max_depth = [6, 10, 12], splitter = ['best', 'random'])\n",
    "print(param_dt)"
   ]
  },
  {
   "cell_type": "markdown",
   "metadata": {},
   "source": [
    "# Example 5"
   ]
  },
  {
   "cell_type": "code",
   "execution_count": 7,
   "metadata": {
    "collapsed": false
   },
   "outputs": [
    {
     "name": "stdout",
     "output_type": "stream",
     "text": [
      "{'max_features': [None], 'min_samples_leaf': [1], 'min_samples_split': [2], 'max_depth': [6, 10, 12, 15], 'presort': [True], 'criterion': ['gini'], 'class_weight': [None], 'random_state': [None], 'splitter': ['best', 'random'], 'min_weight_fraction_leaf': [0.0], 'max_leaf_nodes': [None]}\n"
     ]
    }
   ],
   "source": [
    "#Setting max_depth, splitter, presort rest are default values\n",
    "#Hyper parameter optimisation - max_depth\n",
    "#Hyper parameter optimisation - splitter\n",
    "param_dt = en.parameter_set_decision_tree(max_depth = [6, 10, 12, 15], splitter = ['best', 'random'], \\\n",
    "                                          presort = [True])\n",
    "print(param_dt)"
   ]
  }
 ],
 "metadata": {
  "kernelspec": {
   "display_name": "Python 3",
   "language": "python",
   "name": "python3"
  },
  "language_info": {
   "codemirror_mode": {
    "name": "ipython",
    "version": 3
   },
   "file_extension": ".py",
   "mimetype": "text/x-python",
   "name": "python",
   "nbconvert_exporter": "python",
   "pygments_lexer": "ipython3",
   "version": "3.5.2"
  }
 },
 "nbformat": 4,
 "nbformat_minor": 0
}
