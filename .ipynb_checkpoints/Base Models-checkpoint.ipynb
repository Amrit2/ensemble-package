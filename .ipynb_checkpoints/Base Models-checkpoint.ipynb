{
 "cells": [
  {
   "cell_type": "code",
   "execution_count": 562,
   "metadata": {
    "collapsed": false
   },
   "outputs": [],
   "source": [
    "import pandas as pd\n",
    "import numpy as np\n",
    "import matplotlib.pyplot as plt\n",
    "from sklearn import datasets, linear_model, preprocessing\n",
    "from sklearn.preprocessing import Imputer, PolynomialFeatures\n",
    "from sklearn.tree import DecisionTreeClassifier\n",
    "from sklearn.cross_validation import KFold\n",
    "from sklearn.ensemble import RandomForestClassifier\n",
    "from sklearn.cross_validation import StratifiedKFold, KFold\n",
    "from keras.layers import Dense, Activation, LSTM\n",
    "from keras.models import Sequential\n",
    "from keras.regularizers import l2, activity_l2\n",
    "from sklearn.ensemble import GradientBoostingClassifier\n",
    "import xgboost as xgb\n",
    "from sklearn.metrics import roc_auc_score"
   ]
  },
  {
   "cell_type": "code",
   "execution_count": 563,
   "metadata": {
    "collapsed": false
   },
   "outputs": [],
   "source": [
    "#Reading the data\n",
    "Data = pd.read_csv('/home/prajwal/Desktop/bank-additional/bank-additional-full.csv',delimiter=';',header=0)\n",
    "\n",
    "#Encoding the data, encoding the string values into numerical values\n",
    "encode = preprocessing.LabelEncoder()\n",
    "\n",
    "#Selcting the columns of string data type\n",
    "names=Data.select_dtypes(include=['object'])\n",
    "\n",
    "#Function that encodes the string values to numerical values\n",
    "def enc(data,column):\n",
    "    data[column] = encode.fit_transform(data[column])\n",
    "    return data\n",
    "for column in names:\n",
    "        Data=enc(Data,column)\n",
    "        \n",
    "#Data.job = encode.fit_transform(Data.job)\n",
    "#Data.marital = encode.fit_transform(Data.marital)\n",
    "#Data.education = encode.fit_transform(Data.education)\n",
    "#Data.default = encode.fit_transform(Data.default)\n",
    "#Data.housing = encode.fit_transform(Data.housing)\n",
    "#Data.loan = encode.fit_transform(Data.loan)\n",
    "#Data.contact = encode.fit_transform(Data.contact)\n",
    "#Data.month = encode.fit_transform(Data.month)\n",
    "#Data.day_of_week = encode.fit_transform(Data.day_of_week)\n",
    "#Data.poutcome = encode.fit_transform(Data.poutcome)\n",
    "#Data.y = encode.fit_transform(Data.y)"
   ]
  },
  {
   "cell_type": "code",
   "execution_count": 564,
   "metadata": {
    "collapsed": true
   },
   "outputs": [],
   "source": [
    "def gradient_boosting(train_X,train_Y,cross_val_X,cross_val_Y):\n",
    "    #Gradient Boosting (XGBoost)\n",
    "    param = {}\n",
    "    #Setting Parameters for the Booster\n",
    "    param['booster'] = 'gbtree'\n",
    "    param['objective'] = 'binary:logistic'\n",
    "    param[\"eval_metric\"] = \"auc\"\n",
    "    param['eta'] = 0.3\n",
    "    param['gamma'] = 0\n",
    "    param['max_depth'] = 6\n",
    "    param['min_child_weight']=1\n",
    "    param['max_delta_step'] = 0\n",
    "    param['subsample']= 1\n",
    "    param['colsample_bytree']=1\n",
    "    param['silent'] = 1\n",
    "    param['seed'] = 0\n",
    "    param['base_score'] = 0.5\n",
    "    param['lambda_bias']=1\n",
    "    dtrain = xgb.DMatrix(train_X,label=train_Y)\n",
    "    dcross_val = xgb.DMatrix(cross_val_X,label=cross_val_Y)\n",
    "    gradient_boosting = xgb.train(param, dtrain)\n",
    "    #redict=XGB.predict(dcross_val)\n",
    "    #predict[(predict>=0.5)]=1\n",
    "    #predict[(predict<0.5)]=0\n",
    "    predict=gradient_boosting.predict(dcross_val)\n",
    "    #The AUC error (Cross Validation Data)\n",
    "    auc=roc_auc_score(cross_val_Y,predict)\n",
    "    return [auc, predict]"
   ]
  },
  {
   "cell_type": "code",
   "execution_count": 565,
   "metadata": {
    "collapsed": true
   },
   "outputs": [],
   "source": [
    "def multi_layer_perceptron(train_X,train_Y,cross_val_X,cross_val_Y):\n",
    "    #Multi Layer Perceptron\n",
    "    multi_layer_perceptron = Sequential()\n",
    "    multi_layer_perceptron.add(Dense(output_dim=64, input_dim=20, init='uniform', activation='sigmoid'))\n",
    "    multi_layer_perceptron.add(Dense(output_dim=1, input_dim=64,activation='sigmoid',))\n",
    "    multi_layer_perceptron.compile(optimizer='rmsprop',loss='binary_crossentropy',metrics=['accuracy'])\n",
    "    multi_layer_perceptron.fit(train_X.as_matrix(), train_Y.as_matrix(), nb_epoch=5, batch_size=128)\n",
    "    predict=multi_layer_perceptron.predict_on_batch(cross_val_X)\n",
    "    #The AUC (Cross Validation Data)\n",
    "    auc=roc_auc_score(cross_val_Y,predict)\n",
    "    return [auc, predict]"
   ]
  },
  {
   "cell_type": "code",
   "execution_count": 566,
   "metadata": {
    "collapsed": true
   },
   "outputs": [],
   "source": [
    "def decision_tree(train_X,train_Y,cross_val_X,cross_val_Y):\n",
    "    #Decision Tree\n",
    "    decision_tree = DecisionTreeClassifier(max_depth=6)\n",
    "    decision_tree.fit(train_X,train_Y)\n",
    "    #The AUC (Cross Validation Data)\n",
    "    predict=decision_tree.predict_proba(cross_val_X)[:,1]\n",
    "    auc=roc_auc_score(cross_val_Y,predict)\n",
    "    return [auc, predict]"
   ]
  },
  {
   "cell_type": "code",
   "execution_count": 567,
   "metadata": {
    "collapsed": true
   },
   "outputs": [],
   "source": [
    "def random_forest(train_X,train_Y,cross_val_X,cross_val_Y):\n",
    "    #Random Forest (Deafult=10 Trees)\n",
    "    random_forest = RandomForestClassifier()\n",
    "    random_forest.fit(train_X,train_Y)\n",
    "    #The AUC (Cross Validation Data)\n",
    "    predict=random_forest.predict_proba(cross_val_X)[:,1]\n",
    "    auc=roc_auc_score(cross_val_Y,predict)\n",
    "    return [auc, predict]"
   ]
  },
  {
   "cell_type": "code",
   "execution_count": 568,
   "metadata": {
    "collapsed": true
   },
   "outputs": [],
   "source": [
    "def linear_regression(train_X,train_Y,cross_val_X,cross_val_Y):\n",
    "    #Linear Regression\n",
    "    predict=list()\n",
    "    linear_regression = linear_model.LinearRegression()\n",
    "    linear_regression.fit(train_X,train_Y)\n",
    "    predict=linear_regression.predict(cross_val_X)\n",
    "    #predict[(predict>=0.5)]=1\n",
    "    #predict[(predict<0.5)]=0\n",
    "    #The AUC (Cross Validation Data)\n",
    "    auc=roc_auc_score(cross_val_Y,predict)\n",
    "    return [auc, predict]"
   ]
  },
  {
   "cell_type": "code",
   "execution_count": 569,
   "metadata": {
    "collapsed": true
   },
   "outputs": [],
   "source": [
    "def logistic_regression(train_X,train_Y,cross_val_X,cross_val_Y,penalty):\n",
    "    #Logistic Regression (Default=l2)\n",
    "    logistic_regression = linear_model.LogisticRegression(penalty=penalty)\n",
    "    logistic_regression.fit(train_X,train_Y)\n",
    "    if(penalty=='l2'):\n",
    "        predict=logistic_regression.predict_proba(cross_val_X)[:,1]\n",
    "        #The AUC (Cross Validation Data)\n",
    "        auc=roc_auc_score(cross_val_Y,predict)\n",
    "    else:\n",
    "        predict=logistic_regression.predict_proba(cross_val_X)[:,1]\n",
    "        #The AUC (Cross Validation Data)\n",
    "        auc=roc_auc_score(cross_val_Y,predict)\n",
    "        \n",
    "    return [auc, predict]"
   ]
  },
  {
   "cell_type": "code",
   "execution_count": 570,
   "metadata": {
    "collapsed": false
   },
   "outputs": [],
   "source": [
    "metric_linear_regression=list()\n",
    "avg_linear_regeression=0\n",
    "metric_logistic_regression_L2=list()\n",
    "avg_logistic_regression_L2=0\n",
    "metric_logistic_regression_L1=list()\n",
    "avg_logistic_regression_L1=0\n",
    "metric_decision_tree=list()\n",
    "avg_decision_tree=0\n",
    "metric_random_forest=list()\n",
    "avg_random_forest=0\n",
    "metric_multi_layer_perceptron=list()\n",
    "avg_multi_layer_perceptron=0\n",
    "metric_gradient_boosting=list()\n",
    "avg_gradient_boosting=0\n",
    "metric_XGB=list()\n",
    "avg_XGB=0\n",
    "metric_a=list()\n",
    "avg_a=0"
   ]
  },
  {
   "cell_type": "code",
   "execution_count": 571,
   "metadata": {
    "collapsed": false
   },
   "outputs": [],
   "source": [
    "#Cross Validation using Stratified K Fold\n",
    "kf = StratifiedKFold(Data['y'], n_folds=5, shuffle=True)"
   ]
  },
  {
   "cell_type": "code",
   "execution_count": 572,
   "metadata": {
    "collapsed": false
   },
   "outputs": [
    {
     "name": "stdout",
     "output_type": "stream",
     "text": [
      "Epoch 1/5\n",
      "32950/32950 [==============================] - 0s - loss: 0.3353 - acc: 0.8873     \n",
      "Epoch 2/5\n",
      "32950/32950 [==============================] - 0s - loss: 0.3070 - acc: 0.8873     \n",
      "Epoch 3/5\n",
      "32950/32950 [==============================] - 0s - loss: 0.2851 - acc: 0.8873     \n",
      "Epoch 4/5\n",
      "32950/32950 [==============================] - 0s - loss: 0.2757 - acc: 0.8872     \n",
      "Epoch 5/5\n",
      "32950/32950 [==============================] - 0s - loss: 0.2649 - acc: 0.8897     \n",
      "Epoch 1/5\n",
      "32950/32950 [==============================] - 0s - loss: 0.3933 - acc: 0.8293     \n",
      "Epoch 2/5\n",
      "32950/32950 [==============================] - 0s - loss: 0.2750 - acc: 0.8894     \n",
      "Epoch 3/5\n",
      "32950/32950 [==============================] - 0s - loss: 0.2594 - acc: 0.8951     \n",
      "Epoch 4/5\n",
      "32950/32950 [==============================] - 0s - loss: 0.2531 - acc: 0.9021     \n",
      "Epoch 5/5\n",
      "32950/32950 [==============================] - 0s - loss: 0.2517 - acc: 0.9026     \n",
      "Epoch 1/5\n",
      "32950/32950 [==============================] - 0s - loss: 0.3074 - acc: 0.8851     \n",
      "Epoch 2/5\n",
      "32950/32950 [==============================] - 0s - loss: 0.2629 - acc: 0.8946     \n",
      "Epoch 3/5\n",
      "32950/32950 [==============================] - 0s - loss: 0.2538 - acc: 0.9004     \n",
      "Epoch 4/5\n",
      "32950/32950 [==============================] - 0s - loss: 0.2503 - acc: 0.9021     \n",
      "Epoch 5/5\n",
      "32950/32950 [==============================] - 0s - loss: 0.2480 - acc: 0.9032     \n",
      "Epoch 1/5\n",
      "32951/32951 [==============================] - 0s - loss: 0.3414 - acc: 0.8795     \n",
      "Epoch 2/5\n",
      "32951/32951 [==============================] - 0s - loss: 0.2827 - acc: 0.8873     \n",
      "Epoch 3/5\n",
      "32951/32951 [==============================] - 0s - loss: 0.2658 - acc: 0.8889     \n",
      "Epoch 4/5\n",
      "32951/32951 [==============================] - 0s - loss: 0.2575 - acc: 0.8944     \n",
      "Epoch 5/5\n",
      "32951/32951 [==============================] - 0s - loss: 0.2547 - acc: 0.8998     \n",
      "Epoch 1/5\n",
      "32951/32951 [==============================] - 0s - loss: 0.3091 - acc: 0.8819     \n",
      "Epoch 2/5\n",
      "32951/32951 [==============================] - 0s - loss: 0.2676 - acc: 0.8894     \n",
      "Epoch 3/5\n",
      "32951/32951 [==============================] - 0s - loss: 0.2581 - acc: 0.8954     \n",
      "Epoch 4/5\n",
      "32951/32951 [==============================] - 0s - loss: 0.2541 - acc: 0.9017     \n",
      "Epoch 5/5\n",
      "32951/32951 [==============================] - 0s - loss: 0.2507 - acc: 0.9024     \n"
     ]
    }
   ],
   "source": [
    "-"
   ]
  },
  {
   "cell_type": "code",
   "execution_count": 573,
   "metadata": {
    "collapsed": false
   },
   "outputs": [
    {
     "name": "stderr",
     "output_type": "stream",
     "text": [
      "/home/prajwal/anaconda3/lib/python3.5/site-packages/numpy/core/_methods.py:59: RuntimeWarning: Mean of empty slice.\n",
      "  warnings.warn(\"Mean of empty slice.\", RuntimeWarning)\n"
     ]
    }
   ],
   "source": [
    "avg_linear_regression=np.mean(metric_linear_regression)\n",
    "avg_logistic_regression_L2=np.mean(metric_logistic_regression_L2)\n",
    "avg_logistic_regression_L1=np.mean(metric_logistic_regression_L1)\n",
    "avg_decision_tree=np.mean(metric_decision_tree)\n",
    "avg_random_forest=np.mean(metric_random_forest)\n",
    "avg_multi_layer_perceptron=np.mean(metric_multi_layer_perceptron)\n",
    "avg_XGB=np.mean(metric_XGB)"
   ]
  },
  {
   "cell_type": "code",
   "execution_count": 574,
   "metadata": {
    "collapsed": false
   },
   "outputs": [
    {
     "name": "stdout",
     "output_type": "stream",
     "text": [
      " AUC (Linear Regression)\n",
      " 0.927978811853\n",
      " AUC (Logistic Regression - L2)\n",
      " 0.929414587412\n",
      " AUC (Logistic Regression - L1)\n",
      " 0.929424361895\n",
      " AUC (Decision Tree)\n",
      " 0.92725395017\n",
      " AUC (Random Forest)\n",
      " 0.918437556232\n",
      " AUC (Multi Layer Perceptron)\n",
      " 0.876425237679\n",
      " AUC (Gradient Boosting - XGBoost)\n",
      " 0.947940951616\n"
     ]
    }
   ],
   "source": [
    "print (' AUC (Linear Regression)\\n',avg_linear_regression)\n",
    "print (' AUC (Logistic Regression - L2)\\n',avg_logistic_regression_L2)\n",
    "print (' AUC (Logistic Regression - L1)\\n',avg_logistic_regression_L1)\n",
    "print (' AUC (Decision Tree)\\n',avg_decision_tree)\n",
    "print (' AUC (Random Forest)\\n',avg_random_forest)\n",
    "print (' AUC (Multi Layer Perceptron)\\n',avg_multi_layer_perceptron)\n",
    "print (' AUC (Gradient Boosting - XGBoost)\\n',avg_XGB)"
   ]
  },
  {
   "cell_type": "code",
   "execution_count": null,
   "metadata": {
    "collapsed": false
   },
   "outputs": [],
   "source": []
  },
  {
   "cell_type": "code",
   "execution_count": null,
   "metadata": {
    "collapsed": true
   },
   "outputs": [],
   "source": []
  }
 ],
 "metadata": {
  "kernelspec": {
   "display_name": "Python 3",
   "language": "python",
   "name": "python3"
  },
  "language_info": {
   "codemirror_mode": {
    "name": "ipython",
    "version": 3
   },
   "file_extension": ".py",
   "mimetype": "text/x-python",
   "name": "python",
   "nbconvert_exporter": "python",
   "pygments_lexer": "ipython3",
   "version": "3.5.1"
  }
 },
 "nbformat": 4,
 "nbformat_minor": 0
}
