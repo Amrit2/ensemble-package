{
 "cells": [
  {
   "cell_type": "code",
   "execution_count": 1,
   "metadata": {
    "collapsed": false
   },
   "outputs": [
    {
     "name": "stderr",
     "output_type": "stream",
     "text": [
      "Using Theano backend.\n"
     ]
    }
   ],
   "source": [
    "import pandas as pd\n",
    "import numpy as np\n",
    "import matplotlib.pyplot as plt\n",
    "from sklearn import datasets, linear_model, preprocessing, grid_search\n",
    "from sklearn.preprocessing import Imputer, PolynomialFeatures, StandardScaler\n",
    "from sklearn.tree import DecisionTreeClassifier\n",
    "from sklearn.cross_validation import KFold\n",
    "from sklearn.ensemble import RandomForestClassifier\n",
    "from sklearn.cross_validation import StratifiedKFold, KFold\n",
    "from sklearn.preprocessing import OneHotEncoder\n",
    "from sklearn.decomposition import PCA\n",
    "from keras.layers import Dense, Activation\n",
    "from keras.models import Sequential\n",
    "from keras.regularizers import l2, activity_l2\n",
    "import xgboost as xgb\n",
    "from sklearn.metrics import roc_auc_score\n",
    "from sklearn.cross_validation import train_test_split\n",
    "from joblib import Parallel, delayed\n",
    "from sklearn.pipeline import Pipeline\n",
    "from hyperopt import hp, fmin, tpe, STATUS_OK, Trials \n",
    "from hyperas import optim\n",
    "from hyperas.distributions import choice, uniform, conditional\n",
    "import category_encoders as ce\n",
    "import unittest"
   ]
  },
  {
   "cell_type": "code",
   "execution_count": 2,
   "metadata": {
    "collapsed": false,
    "scrolled": true
   },
   "outputs": [],
   "source": [
    "def Data_import():\n",
    "    \n",
    "    global Data\n",
    "    #Reading the data, into a Data Frame.\n",
    "    Data = pd.read_csv('/home/prajwal/Desktop/bank-additional/bank-additional-full.csv',delimiter=';',header=0)\n",
    "\n",
    "    #Selcting the columns of string data type\n",
    "    names = Data.select_dtypes(include = ['object'])\n",
    "    \n",
    "    #Converting string categorical variables to integer categorical variables.\n",
    "    label_encode(names.columns.tolist())\n",
    "    \n",
    "    global columns\n",
    "    columns = names.drop(['y'],axis=1).columns.tolist()"
   ]
  },
  {
   "cell_type": "markdown",
   "metadata": {},
   "source": [
    "# Label Encoding"
   ]
  },
  {
   "cell_type": "code",
   "execution_count": 3,
   "metadata": {
    "collapsed": true
   },
   "outputs": [],
   "source": [
    "#Function that encodes the string values to numerical values.\n",
    "def label_encode(column_names):\n",
    "    \n",
    "    global Data\n",
    "    #Encoding the data, encoding the string values into numerical values.\n",
    "    encoder = ce.OrdinalEncoder(verbose=1, cols=column_names)\n",
    "    Data = encoder.fit_transform(Data)"
   ]
  },
  {
   "cell_type": "markdown",
   "metadata": {},
   "source": [
    "# One Hot Encoding"
   ]
  },
  {
   "cell_type": "code",
   "execution_count": 4,
   "metadata": {
    "collapsed": true
   },
   "outputs": [],
   "source": [
    "#Encoding the data, encoding the string values into numerical values, using one hot encoding method.\n",
    "def perform_one_hot_encoding():\n",
    "    \n",
    "    global Data\n",
    "    #Finding the one hot encoding for all columns excpet the target label column.\n",
    "    for column in columns:\n",
    "    \n",
    "        #Converting the data frame column to an array\n",
    "        column_list = np.array(Data[column].tolist())\n",
    "        #Converting the array to a nested list for the one hot encode transformation\n",
    "        column_list_of_list = np.reshape(column_list,(-1,1))\n",
    "    \n",
    "        #Storing the one hot encode data frame\n",
    "        data_frame_one_hot = one_hot_encode(column_list_of_list,column)\n",
    "        \n",
    "        #Dropping the original column and then replacing it with the one hot encoded data frame.\n",
    "        Data = Data.drop([column],axis=1)\n",
    "        Data = pd.concat([Data, data_frame_one_hot], axis = 1)"
   ]
  },
  {
   "cell_type": "code",
   "execution_count": 5,
   "metadata": {
    "collapsed": true
   },
   "outputs": [],
   "source": [
    "def one_hot_encode(X,column_name):\n",
    "    \n",
    "    enc = OneHotEncoder()\n",
    "    X = enc.fit_transform(X).toarray()\n",
    "    #Converting X to a dataframe.\n",
    "    X = pd.DataFrame(X)\n",
    "    #Assigning column names to the one hot encoded columns.\n",
    "    X = X.rename(columns=lambda x: column_name + str(x))\n",
    "    return X"
   ]
  },
  {
   "cell_type": "code",
   "execution_count": 6,
   "metadata": {
    "collapsed": false
   },
   "outputs": [],
   "source": [
    "#def one_hot_encode(column_names):\n",
    "    \n",
    "    #global Data\n",
    "    #Encoding the data, encoding the string values into numerical values, using one-hot method\n",
    "    #encoder = ce.OneHotEncoder(cols=column_names)\n",
    "    #Data = encoder.fit_transform(Data)"
   ]
  },
  {
   "cell_type": "markdown",
   "metadata": {},
   "source": [
    "# Binary Encoding"
   ]
  },
  {
   "cell_type": "code",
   "execution_count": 7,
   "metadata": {
    "collapsed": false
   },
   "outputs": [],
   "source": [
    "def binary_encode(column_names):\n",
    "    \n",
    "    global Data\n",
    "    #Encoding the data, encoding the string values into numerical values, using binary method.\n",
    "    encoder = ce.BinaryEncoder(cols=column_names,verbose=1)\n",
    "    Data = encoder.fit_transform(Data)"
   ]
  },
  {
   "cell_type": "markdown",
   "metadata": {},
   "source": [
    "# Hashing Encoding"
   ]
  },
  {
   "cell_type": "code",
   "execution_count": 8,
   "metadata": {
    "collapsed": true
   },
   "outputs": [],
   "source": [
    "def hashing_encode(column_names):\n",
    "    \n",
    "    global Data\n",
    "    #Encoding the data, encoding the string values into numerical values, using hashing method.\n",
    "    encoder = ce.HashingEncoder(verbose=1, n_components=128, cols=column_names)\n",
    "    Data = encoder.fit_transform(Data)"
   ]
  },
  {
   "cell_type": "markdown",
   "metadata": {},
   "source": [
    "# Backward Difference Encoder"
   ]
  },
  {
   "cell_type": "code",
   "execution_count": 9,
   "metadata": {
    "collapsed": true
   },
   "outputs": [],
   "source": [
    "def backward_difference_encode(column_names):\n",
    "    \n",
    "    global Data\n",
    "    #Encoding the data, encoding the string values into numerical values, using backward difference method.\n",
    "    encoder = ce.BackwardDifferenceEncoder(verbose=1, cols=column_names)\n",
    "    Data = encoder.fit_transform(Data)"
   ]
  },
  {
   "cell_type": "markdown",
   "metadata": {},
   "source": [
    "# Helmert Encoding"
   ]
  },
  {
   "cell_type": "code",
   "execution_count": 10,
   "metadata": {
    "collapsed": true
   },
   "outputs": [],
   "source": [
    "def helmert_encode(column_names):\n",
    "    \n",
    "    global Data\n",
    "    #Encoding the data, encoding the string values into numerical values, using helmert method.\n",
    "    encoder = ce.HelmertEncoder(verbose=1, cols=column_names)\n",
    "    Data = encoder.fit_transform(Data)"
   ]
  },
  {
   "cell_type": "markdown",
   "metadata": {},
   "source": [
    "# Sum Encoding"
   ]
  },
  {
   "cell_type": "code",
   "execution_count": 11,
   "metadata": {
    "collapsed": true
   },
   "outputs": [],
   "source": [
    "def sum_encode(column_names):\n",
    "    \n",
    "    global Data\n",
    "    #Encoding the data, encoding the string values into numerical values, using sum method.\n",
    "    encoder = ce.SumEncoder(verbose=1, cols=column_names)\n",
    "    Data = encoder.fit_transform(Data)  "
   ]
  },
  {
   "cell_type": "markdown",
   "metadata": {},
   "source": [
    "# Polynomial Encode"
   ]
  },
  {
   "cell_type": "code",
   "execution_count": 12,
   "metadata": {
    "collapsed": true
   },
   "outputs": [],
   "source": [
    "def polynomial_encode(column_names):\n",
    "    \n",
    "    global Data\n",
    "    #Encoding the data, encoding the string values into numerical values, using polynomial method.\n",
    "    encoder = ce.PolynomialEncoder(verbose=1, cols=column_names)\n",
    "    Data = encoder.fit_transform(Data)"
   ]
  },
  {
   "cell_type": "markdown",
   "metadata": {},
   "source": [
    "# Sample Generation"
   ]
  },
  {
   "cell_type": "code",
   "execution_count": 13,
   "metadata": {
    "collapsed": false
   },
   "outputs": [],
   "source": [
    "#Performing training, cross validation and testing on different stratified splits of the data.\n",
    "def sample_generation_one_hot_encode(n):\n",
    "    \n",
    "    for i in range(n):\n",
    "        Data_import()\n",
    "        perform_one_hot_encoding()\n",
    "        data_initialize()\n",
    "        data_split()\n",
    "        metric_initialize()\n",
    "        train_cross_val_base_models()\n",
    "        print_metric_cross_val(i)\n",
    "        train_second_level_models()\n",
    "        metric_initialize()\n",
    "        test_data()\n",
    "        print_metric_test(i)"
   ]
  },
  {
   "cell_type": "code",
   "execution_count": 14,
   "metadata": {
    "collapsed": true
   },
   "outputs": [],
   "source": [
    "#Performing training, cross validation and testing on different stratified splits of the data.\n",
    "def sample_generation_label_encode(n):\n",
    "    \n",
    "    for i in range(n):\n",
    "        Data_import()\n",
    "        data_initialize()\n",
    "        data_split()\n",
    "        metric_initialize()\n",
    "        train_cross_val_base_models()\n",
    "        print_metric_cross_val(i)\n",
    "        train_second_level_models()\n",
    "        metric_initialize()\n",
    "        test_data()\n",
    "        print_metric_test(i)"
   ]
  },
  {
   "cell_type": "code",
   "execution_count": 15,
   "metadata": {
    "collapsed": true
   },
   "outputs": [],
   "source": [
    "#Performing training, cross validation and testing on different stratified splits of the data.\n",
    "def sample_generation_hashing_encode(n):\n",
    "    \n",
    "    for i in range(n):\n",
    "        Data_import()\n",
    "        hashing_encode(columns)\n",
    "        data_initialize()\n",
    "        data_split()\n",
    "        metric_initialize()\n",
    "        train_cross_val_base_models()\n",
    "        print_metric_cross_val(i)\n",
    "        train_second_level_models()\n",
    "        metric_initialize()\n",
    "        test_data()\n",
    "        print_metric_test(i)"
   ]
  },
  {
   "cell_type": "code",
   "execution_count": 16,
   "metadata": {
    "collapsed": true
   },
   "outputs": [],
   "source": [
    "#Performing training, cross validation and testing on different stratified splits of the data.\n",
    "def sample_generation_backward_difference_encode(n):\n",
    "    \n",
    "    for i in range(n):\n",
    "        Data_import()\n",
    "        backward_difference_encode(columns)\n",
    "        data_initialize()\n",
    "        data_split()\n",
    "        metric_initialize()\n",
    "        train_cross_val_base_models()\n",
    "        print_metric_cross_val(i)\n",
    "        train_second_level_models()\n",
    "        metric_initialize()\n",
    "        test_data()\n",
    "        print_metric_test(i)"
   ]
  },
  {
   "cell_type": "code",
   "execution_count": 17,
   "metadata": {
    "collapsed": true
   },
   "outputs": [],
   "source": [
    "#Performing training, cross validation and testing on different stratified splits of the data.\n",
    "def sample_generation_helmert_encode(n):\n",
    "    \n",
    "    for i in range(n):\n",
    "        Data_import()\n",
    "        helmert_encode(columns)\n",
    "        data_initialize()\n",
    "        data_split()\n",
    "        metric_initialize()\n",
    "        train_cross_val_base_models()\n",
    "        print_metric_cross_val(i)\n",
    "        train_second_level_models()\n",
    "        metric_initialize()\n",
    "        test_data()\n",
    "        print_metric_test(i)"
   ]
  },
  {
   "cell_type": "code",
   "execution_count": 18,
   "metadata": {
    "collapsed": true
   },
   "outputs": [],
   "source": [
    "#Performing training, cross validation and testing on different stratified splits of the data.\n",
    "def sample_generation_binary_encode(n):\n",
    "    \n",
    "    for i in range(n):\n",
    "        Data_import()\n",
    "        binary_encode(columns)\n",
    "        data_initialize()\n",
    "        data_split()\n",
    "        metric_initialize()\n",
    "        train_cross_val_base_models()\n",
    "        print_metric_cross_val(i)\n",
    "        train_second_level_models()\n",
    "        metric_initialize()\n",
    "        test_data()\n",
    "        print_metric_test(i)"
   ]
  },
  {
   "cell_type": "code",
   "execution_count": 19,
   "metadata": {
    "collapsed": true
   },
   "outputs": [],
   "source": [
    "#Performing training, cross validation and testing on different stratified splits of the data.\n",
    "def sample_generation_sum_encode(n):\n",
    "    \n",
    "    for i in range(n):\n",
    "        Data_import()\n",
    "        sum_encode(columns)\n",
    "        data_initialize()\n",
    "        data_split()\n",
    "        metric_initialize()\n",
    "        train_cross_val_base_models()\n",
    "        print_metric_cross_val(i)\n",
    "        train_second_level_models()\n",
    "        metric_initialize()\n",
    "        test_data()\n",
    "        print_metric_test(i)"
   ]
  },
  {
   "cell_type": "code",
   "execution_count": 20,
   "metadata": {
    "collapsed": true
   },
   "outputs": [],
   "source": [
    "#Performing training, cross validation and testing on different stratified splits of the data.\n",
    "def sample_generation_polynomial_encode(n):\n",
    "    \n",
    "    for i in range(n):\n",
    "        Data_import()\n",
    "        polynomial_encode(columns)\n",
    "        data_initialize()\n",
    "        data_split()\n",
    "        metric_initialize()\n",
    "        train_cross_val_base_models()\n",
    "        print_metric_cross_val(i)\n",
    "        train_second_level_models()\n",
    "        metric_initialize()\n",
    "        test_data()\n",
    "        print_metric_test(i)"
   ]
  },
  {
   "cell_type": "code",
   "execution_count": 21,
   "metadata": {
    "collapsed": false
   },
   "outputs": [],
   "source": [
    "#Splitting the data into training and testing datasets (Stratified Split)\n",
    "def data_split():\n",
    "    \n",
    "    global Data\n",
    "    global test\n",
    "    Data, test = train_test_split(Data, test_size = 0.1, stratify = Data['y'])"
   ]
  },
  {
   "cell_type": "code",
   "execution_count": 22,
   "metadata": {
    "collapsed": true
   },
   "outputs": [],
   "source": [
    "#This function is used to convert the predictions of the base models into a DataFrame.\n",
    "def build_data_frame(data):\n",
    "    \n",
    "    data_frame = pd.DataFrame(data).T\n",
    "    return data_frame"
   ]
  },
  {
   "cell_type": "code",
   "execution_count": 23,
   "metadata": {
    "collapsed": true
   },
   "outputs": [],
   "source": [
    "def data_initialize():\n",
    "    \n",
    "    #Initializing the test dataset.\n",
    "    test = pd.DataFrame()\n",
    "    \n",
    "    global stack_X\n",
    "    global stack_Y\n",
    "    \n",
    "    #Initializing two data frames that will be used as training data for the stacked model.\n",
    "    #The data frame will contain the predictions of the base models.\n",
    "    stack_X = pd.DataFrame() \n",
    "    #The data frame will contain the calss labels of the base models.\n",
    "    stack_Y = pd.DataFrame() \n",
    "    \n",
    "    global blend_X\n",
    "    global raw_features_X\n",
    "    \n",
    "    #Initializing two data frames that will be used as training data for the blending model.\n",
    "    #The data frames will contain the predictions and raw features  of the base models.\n",
    "    blend_X = pd.DataFrame() \n",
    "    #The data frames will contain the raw features  of the data, which will be concatenated with the predictions.\n",
    "    raw_features_X = pd.DataFrame() \n",
    "    \n",
    "    global test_blend_X\n",
    "    global test_raw_features_X\n",
    "    global test_stack_X \n",
    "    global test_stack_Y\n",
    "    \n",
    "    #Initializing the dataframes that will be used for testing the stacking and blending models.\n",
    "    test_blend_X = pd.DataFrame()\n",
    "    test_raw_features_X = pd.DataFrame()\n",
    "    test_stack_X = pd.DataFrame()\n",
    "    test_stack_Y = pd.DataFrame() "
   ]
  },
  {
   "cell_type": "markdown",
   "metadata": {},
   "source": [
    "# Gradient Boosting (XGBoost)"
   ]
  },
  {
   "cell_type": "code",
   "execution_count": 24,
   "metadata": {
    "collapsed": true
   },
   "outputs": [],
   "source": [
    "#Defining the parameters for the XGBoost (Gradient Boosting) Algorithm.\n",
    "def param_set_XGBoost():\n",
    "    \n",
    "    #Gradient Boosting (XGBoost)\n",
    "    param = {}\n",
    "    #Setting Parameters for the Booster which will be optimized later using hyperopt.\n",
    "    param['booster'] = ['gbtree','gblinear']\n",
    "    param['objective'] = ['binary:logistic']\n",
    "    param[\"eval_metric\"] = [\"auc\"]\n",
    "    param['eta'] = [0.1,0.3,0.5,0.7,0.9,1]\n",
    "    param['gamma'] = [0,1,5,10,15]\n",
    "    param['max_depth'] = [3,6,9,12,15,20]\n",
    "    param['min_child_weight'] = [1,5,10]\n",
    "    param['max_delta_step'] = [0,1,5,10]\n",
    "    param['subsample'] = [0.5,1]\n",
    "    param['colsample_bytree'] = [0.5,1]\n",
    "    param['silent'] = [1]\n",
    "    param['seed'] = [0]\n",
    "    param['base_score'] = [0.5]\n",
    "    param['lambda_bias'] = [1,5,10]\n",
    "    param['lambda'] = [0,0.1,0.5,1,10]\n",
    "    \n",
    "    return param"
   ]
  },
  {
   "cell_type": "code",
   "execution_count": 25,
   "metadata": {
    "collapsed": false
   },
   "outputs": [],
   "source": [
    "#Assigning the values of the XGBoost parameters that need to be checked, for minimizing the objective (loss).\n",
    "#The values that give the most optimum results will be picked to train the model.\n",
    "def assign_space_gradient_boosting():\n",
    "    \n",
    "    parameter_gradient_boosting = param_set_XGBoost()\n",
    "    space_gradient_boosting ={\n",
    "        \n",
    "        'booster': hp.choice('booster', parameter_gradient_boosting['booster']),\n",
    "        \n",
    "        'eta': hp.choice('eta', parameter_gradient_boosting['eta']),\n",
    "        \n",
    "        'gamma': hp.choice('gamma', parameter_gradient_boosting['gamma']),\n",
    "        \n",
    "        'max_depth': hp.choice('max_depth', parameter_gradient_boosting['max_depth']),\n",
    "        \n",
    "        'min_child_weight': hp.choice('min_child_weight', parameter_gradient_boosting['min_child_weight']),\n",
    "        \n",
    "        'max_delta_step': hp.choice('max_delta_step', parameter_gradient_boosting['max_delta_step']),\n",
    "        \n",
    "        'subsample': hp.choice('subsample', parameter_gradient_boosting['subsample']),\n",
    "        \n",
    "        'colsample_bytree': hp.choice('colsample_bytree', parameter_gradient_boosting['colsample_bytree']),\n",
    "        \n",
    "        'silent': hp.choice('silent', parameter_gradient_boosting['silent']),\n",
    "        \n",
    "        'seed': hp.choice('seed', parameter_gradient_boosting['seed']),\n",
    "        \n",
    "        'base_score': hp.choice('base_score', parameter_gradient_boosting['base_score']),\n",
    "        \n",
    "        'lambda_bias': hp.choice('lambda_bias', parameter_gradient_boosting['lambda_bias']),\n",
    "        \n",
    "        'lambda': hp.choice('lambda', parameter_gradient_boosting['lambda'])\n",
    "        \n",
    "    }\n",
    "    \n",
    "    return space_gradient_boosting"
   ]
  },
  {
   "cell_type": "code",
   "execution_count": 26,
   "metadata": {
    "collapsed": true
   },
   "outputs": [],
   "source": [
    "#This function calculates the loss for different parameter values and is used to determine the most optimum \n",
    "#parameter values\n",
    "def objective_gradient_boosting(space_gradient_boosting):\n",
    "    \n",
    "    #Gradient Boosting (XGBoost)\n",
    "    param = {}\n",
    "    #Setting Parameters for the Booster\n",
    "    param['booster'] = space_gradient_boosting['booster']\n",
    "    param['objective'] = 'binary:logistic'\n",
    "    param[\"eval_metric\"] = \"auc\"\n",
    "    param['eta'] = space_gradient_boosting['eta']\n",
    "    param['gamma'] = space_gradient_boosting['gamma']\n",
    "    param['max_depth'] = space_gradient_boosting['max_depth']\n",
    "    param['min_child_weight'] = space_gradient_boosting['min_child_weight']\n",
    "    param['max_delta_step'] = space_gradient_boosting['max_delta_step']\n",
    "    param['subsample'] = space_gradient_boosting['subsample']\n",
    "    param['colsample_bytree'] = space_gradient_boosting['colsample_bytree']\n",
    "    param['silent'] = space_gradient_boosting['silent']\n",
    "    param['seed'] = space_gradient_boosting['seed']\n",
    "    param['base_score'] = space_gradient_boosting['base_score']\n",
    "    param['lambda_bias'] = space_gradient_boosting['lambda_bias']\n",
    "    param['lambda'] = space_gradient_boosting['lambda']\n",
    "    \n",
    "    model = xgb.Booster()\n",
    "    auc_list = list()\n",
    "    \n",
    "    #Declared train_X as a global variable, unable to pass it as a parameter\n",
    "    #Performing cross validation.\n",
    "    skf=StratifiedKFold(train_Y, n_folds=3)\n",
    "    for train_index, cross_val_index in skf:\n",
    "        \n",
    "        xgb_train_X, xgb_cross_val_X = train_X.iloc[train_index],train_X.iloc[cross_val_index]\n",
    "        xgb_train_Y, xgb_cross_val_Y = train_Y.iloc[train_index],train_Y.iloc[cross_val_index]\n",
    "        \n",
    "        dtrain = xgb.DMatrix(xgb_train_X, label = xgb_train_Y)\n",
    "        model = xgb.train(param, dtrain)\n",
    "        \n",
    "        predict = model.predict(xgb.DMatrix(xgb_cross_val_X, label = xgb_cross_val_Y))\n",
    "        auc_list.append(roc_auc_score(xgb_cross_val_Y,predict))\n",
    "    \n",
    "    #Calculating the AUC and returning the loss, which will be minimised by selecting the optimum parameters.\n",
    "    auc = np.mean(auc_list)\n",
    "    return{'loss':1-auc, 'status': STATUS_OK }"
   ]
  },
  {
   "cell_type": "code",
   "execution_count": 27,
   "metadata": {
    "collapsed": true
   },
   "outputs": [],
   "source": [
    "#Using the loss values, this function picks the optimum parameter values. These values will be used \n",
    "#for training the model\n",
    "def gradient_boosting_parameters(train_X,train_Y,obj):\n",
    "    \n",
    "    space_gradient_boosting = assign_space_gradient_boosting()\n",
    "    trials = Trials()\n",
    "    \n",
    "    best = fmin(fn = obj,\n",
    "    space = space_gradient_boosting,\n",
    "    algo = tpe.suggest,\n",
    "    max_evals = 100,\n",
    "    trials = trials)\n",
    "    \n",
    "    parameter_gradient_boosting = param_set_XGBoost()\n",
    "    optimal_param={}\n",
    "    #Best is a dictionary that contains the indices of the optimal parameter values.\n",
    "    #The following for loop uses these indices to obtain the parameter values, these values are stored in a\n",
    "    #dictionary - optimal_param\n",
    "    for key in best:\n",
    "        optimal_param[key] = parameter_gradient_boosting[key][best[key]]\n",
    "        \n",
    "    #optimal_param['booster'] = 'gbtree'\n",
    "    optimal_param['objective'] = 'binary:logistic'\n",
    "    optimal_param[\"eval_metric\"] = \"auc\"\n",
    "    \n",
    "    #Training the model with the optimal parameter values\n",
    "    dtrain = xgb.DMatrix(train_X, label = train_Y)\n",
    "    model = xgb.train(optimal_param, dtrain)\n",
    "    return model"
   ]
  },
  {
   "cell_type": "code",
   "execution_count": 28,
   "metadata": {
    "collapsed": false
   },
   "outputs": [],
   "source": [
    "#Trains the Gradient Boosting model.\n",
    "def train_gradient_boosting(train_X,train_Y):\n",
    "    \n",
    "    model = gradient_boosting_parameters(train_X,train_Y,objective_gradient_boosting)\n",
    "    return model\n",
    "    "
   ]
  },
  {
   "cell_type": "code",
   "execution_count": 29,
   "metadata": {
    "collapsed": false
   },
   "outputs": [],
   "source": [
    "def cross_val_gradient_boosting(cross_val_X,cross_val_Y):\n",
    "    \n",
    "    predict = gradient_boosting.predict(xgb.DMatrix(cross_val_X, label = cross_val_Y))\n",
    "    auc = roc_auc_score(cross_val_Y,predict)\n",
    "    return [auc,predict]"
   ]
  },
  {
   "cell_type": "markdown",
   "metadata": {},
   "source": [
    "# Multi Layer Perceptron"
   ]
  },
  {
   "cell_type": "code",
   "execution_count": 30,
   "metadata": {
    "collapsed": true
   },
   "outputs": [],
   "source": [
    "#Trains the Multi Layer Perceptron model.\n",
    "def train_multi_layer_perceptron(train_X,train_Y):\n",
    "    \n",
    "    model = multi_layer_perceptron_parameters(train_X,train_Y,objective_multi_layer_perceptron)\n",
    "    return model"
   ]
  },
  {
   "cell_type": "code",
   "execution_count": 31,
   "metadata": {
    "collapsed": true
   },
   "outputs": [],
   "source": [
    "def cross_val_multi_layer_perceptron(cross_val_X,cross_val_Y):\n",
    "    \n",
    "    global multi_layer_perceptron\n",
    "    cross_val_X = StandardScaler().fit_transform(cross_val_X)\n",
    "    \n",
    "    predict = multi_layer_perceptron.predict_on_batch(cross_val_X)\n",
    "    auc = roc_auc_score(cross_val_Y,predict)\n",
    "    return [auc,predict]"
   ]
  },
  {
   "cell_type": "code",
   "execution_count": 32,
   "metadata": {
    "collapsed": true
   },
   "outputs": [],
   "source": [
    "#Defining the parameters for the XGBoost (Gradient Boosting) Algorithm.\n",
    "def param_set_multi_layer_perceptron():\n",
    "    \n",
    "    param={}\n",
    "    param['dim_layer'] = [32,64]\n",
    "    param['activation_layer_1'] = ['sigmoid','linear']\n",
    "    param['init_layer_1'] = ['normal','uniform']\n",
    "    param['activation_layer_2'] = ['sigmoid','linear']\n",
    "    param['optimizer'] = ['rmsprop']\n",
    "    \n",
    "    return param\n",
    "    "
   ]
  },
  {
   "cell_type": "code",
   "execution_count": 33,
   "metadata": {
    "collapsed": true
   },
   "outputs": [],
   "source": [
    "#Assigning the values of the multi layer perceptron parameters that need to be checked, \n",
    "#for minimizing the objective (loss). \n",
    "#The values that give the most optimum results will be picked to train the model.\n",
    "def assign_space_multi_layer_perceptron():\n",
    "    \n",
    "    parameter_multi_layer_perceptron = param_set_multi_layer_perceptron()\n",
    "    space_multi_layer_perceptron ={\n",
    "        \n",
    "        'dim_layer': hp.choice('dim_layer', parameter_multi_layer_perceptron['dim_layer']),\n",
    "        \n",
    "        'activation_layer_1': hp.choice('activation_layer_1', parameter_multi_layer_perceptron['activation_layer_1']),\n",
    "        \n",
    "        'init_layer_1': hp.choice('init_layer_1', parameter_multi_layer_perceptron['init_layer_1']),\n",
    "        \n",
    "        'activation_layer_2': hp.choice('activation_layer_2', parameter_multi_layer_perceptron['activation_layer_2']),\n",
    "        \n",
    "        'optimizer': hp.choice('optimizer', parameter_multi_layer_perceptron['optimizer']),\n",
    "        \n",
    "        \n",
    "    }\n",
    "    \n",
    "    return space_multi_layer_perceptron"
   ]
  },
  {
   "cell_type": "code",
   "execution_count": 34,
   "metadata": {
    "collapsed": false
   },
   "outputs": [],
   "source": [
    "#This function calculates the loss for different parameter values and is used to determine the most optimum \n",
    "#parameter values\n",
    "def objective_multi_layer_perceptron(space_multi_layer_perceptron):\n",
    "    \n",
    "    #Setting Parameters for the MLP model.\n",
    "    dim_layer = space_multi_layer_perceptron['dim_layer']\n",
    "    activation_layer_1 = space_multi_layer_perceptron['activation_layer_1']\n",
    "    init_layer_1 = space_multi_layer_perceptron['init_layer_1']\n",
    "    activation_layer_2 = space_multi_layer_perceptron['activation_layer_2']\n",
    "    optimizer = space_multi_layer_perceptron['optimizer']\n",
    "\n",
    "    \n",
    "    auc_list = list()\n",
    "    \n",
    "    #Declared train_X as a global variable, unable to pass it as a parameter\n",
    "    #Performing cross validation.\n",
    "    skf=StratifiedKFold(train_Y, n_folds = 3)\n",
    "    for train_index, cross_val_index in skf:\n",
    "        \n",
    "        mlp_train_X, mlp_cross_val_X = train_X.iloc[train_index],train_X.iloc[cross_val_index]\n",
    "        mlp_train_Y, mlp_cross_val_Y = train_Y.iloc[train_index],train_Y.iloc[cross_val_index]\n",
    "        #mlp_train_X = mlp_train_X.as_matrix()\n",
    "        mlp_train_Y = mlp_train_Y.as_matrix()\n",
    "        mlp_train_X = StandardScaler().fit_transform(mlp_train_X)\n",
    "        mlp_cross_val_X = StandardScaler().fit_transform(mlp_cross_val_X)\n",
    "\n",
    "        \n",
    "        model = Sequential()\n",
    "        model.add(Dense(output_dim = dim_layer, input_dim = train_X.shape[1], init = init_layer_1\n",
    "                        , activation = activation_layer_1))\n",
    "        model.add(Dense(output_dim = 1, input_dim = dim_layer,activation = activation_layer_2))\n",
    "        model.compile(optimizer = optimizer,loss = 'binary_crossentropy',metrics = ['accuracy'])\n",
    "        model.fit(mlp_train_X, mlp_train_Y, nb_epoch = 1, batch_size = 256)\n",
    "        \n",
    "        predict = model.predict_on_batch(mlp_cross_val_X)\n",
    "        auc_list.append(roc_auc_score(mlp_cross_val_Y,predict))\n",
    "    \n",
    "    #Calculating the AUC and returning the loss, which will be minimised by selecting the optimum parameters.\n",
    "    auc = np.mean(auc_list)\n",
    "    return{'loss':1-auc, 'status': STATUS_OK }"
   ]
  },
  {
   "cell_type": "code",
   "execution_count": 35,
   "metadata": {
    "collapsed": false
   },
   "outputs": [],
   "source": [
    "#Using the loss values, this function picks the optimum parameter values. These values will be used \n",
    "#for training the model\n",
    "def multi_layer_perceptron_parameters(train_X,train_Y,obj):\n",
    "    \n",
    "    space_multi_layer_perceptron = assign_space_multi_layer_perceptron()\n",
    "    trials = Trials()\n",
    "    \n",
    "    best = fmin(fn = obj,\n",
    "    space = space_multi_layer_perceptron,\n",
    "    algo = tpe.suggest,\n",
    "    max_evals = 5,\n",
    "    trials = trials)\n",
    "    \n",
    "    parameter_multi_layer_perceptron = param_set_multi_layer_perceptron()\n",
    "    optimal_param={}\n",
    "    \n",
    "    #Best is a dictionary that contains the indices of the optimal parameter values.\n",
    "    #The following for loop uses these indices to obtain the parameter values, these values are stored in a\n",
    "    #dictionary - optimal_param\n",
    "    for key in best:\n",
    "        optimal_param[key] = parameter_multi_layer_perceptron[key][best[key]]\n",
    "    \n",
    "    train_X = StandardScaler().fit_transform(train_X)\n",
    "    #Training the model with the optimal parameter values\n",
    "    model = Sequential()\n",
    "    model.add(Dense(output_dim = optimal_param['dim_layer'] , \n",
    "                    input_dim = train_X.shape[1], init = optimal_param['init_layer_1'], \n",
    "                    activation = optimal_param['activation_layer_1']))\n",
    "    model.add(Dense(output_dim = 1, input_dim = optimal_param['dim_layer'],\n",
    "                    activation = optimal_param['activation_layer_2']))\n",
    "    model.compile(optimizer = optimal_param['optimizer'],loss = 'binary_crossentropy',metrics = ['accuracy'])\n",
    "    model.fit(train_X, train_Y.as_matrix(), nb_epoch = 5, batch_size = 128)\n",
    "    \n",
    "    return model"
   ]
  },
  {
   "cell_type": "markdown",
   "metadata": {},
   "source": [
    "# Decision Tree"
   ]
  },
  {
   "cell_type": "code",
   "execution_count": 36,
   "metadata": {
    "collapsed": true
   },
   "outputs": [],
   "source": [
    "#Trains the Decision Tree model. Performing a grid search to select the optimal parameter values\n",
    "def train_decision_tree(train_X,train_Y):\n",
    "    \n",
    "    pipeline_model = Pipeline([('dtc', DecisionTreeClassifier())])\n",
    "    param = {'dtc__max_depth':[6,9,12,15,20],'dtc__criterion':['gini','entropy'],}       \n",
    "    model_gs = grid_search.GridSearchCV(pipeline_model, param,scoring='roc_auc')\n",
    "    model_gs.fit(train_X,train_Y)\n",
    "    return model_gs"
   ]
  },
  {
   "cell_type": "code",
   "execution_count": 37,
   "metadata": {
    "collapsed": true
   },
   "outputs": [],
   "source": [
    "def cross_val_decision_tree(cross_val_X,cross_val_Y):\n",
    "    \n",
    "    global decision_tree\n",
    "    predict = decision_tree.predict_proba(cross_val_X)[:,1]\n",
    "    auc = roc_auc_score(cross_val_Y,predict)\n",
    "    return [auc,predict]"
   ]
  },
  {
   "cell_type": "code",
   "execution_count": 38,
   "metadata": {
    "collapsed": true
   },
   "outputs": [],
   "source": [
    "#def decision_tree_parameters(parameters_decision_tree={}):\n",
    "    \n",
    "    #param = parameters_decision_tree\n",
    "    #return param"
   ]
  },
  {
   "cell_type": "markdown",
   "metadata": {},
   "source": [
    "# Random Forest"
   ]
  },
  {
   "cell_type": "code",
   "execution_count": 39,
   "metadata": {
    "collapsed": false
   },
   "outputs": [],
   "source": [
    "#Trains the Random Forest model. Performing a grid search to select the optimal parameter values\n",
    "def train_random_forest(train_X,train_Y):\n",
    "    \n",
    "    pipeline_model = Pipeline([('rfc', RandomForestClassifier())]) \n",
    "    param = {'rfc__max_depth':[6,9,12,15,20],'rfc__n_estimators':[5,10,15,20]}\n",
    "    model_gs = grid_search.GridSearchCV(pipeline_model, param, scoring='roc_auc')\n",
    "    model_gs.fit(train_X,train_Y)\n",
    "    return model_gs"
   ]
  },
  {
   "cell_type": "code",
   "execution_count": 40,
   "metadata": {
    "collapsed": true
   },
   "outputs": [],
   "source": [
    "def cross_val_random_forest(cross_val_X,cross_val_Y):\n",
    "    \n",
    "    global random_forest\n",
    "    predict = random_forest.predict_proba(cross_val_X)[:,1]\n",
    "    auc = roc_auc_score(cross_val_Y,predict)\n",
    "    return [auc,predict]"
   ]
  },
  {
   "cell_type": "code",
   "execution_count": 41,
   "metadata": {
    "collapsed": true
   },
   "outputs": [],
   "source": [
    "#def random_forest_parameters(parameters_random_forest={}):\n",
    "    \n",
    "    #param = parameters_random_forest\n",
    "    #return param"
   ]
  },
  {
   "cell_type": "markdown",
   "metadata": {},
   "source": [
    "# Linear Regression"
   ]
  },
  {
   "cell_type": "code",
   "execution_count": 42,
   "metadata": {
    "collapsed": false
   },
   "outputs": [],
   "source": [
    "#Trains the Linear Regression model. Performing a grid search to select the optimal parameter values\n",
    "def train_linear_regression(train_X,train_Y):\n",
    "    \n",
    "    pipeline_model = Pipeline([('scl', StandardScaler()),('lr', linear_model.LinearRegression())]) \n",
    "    param = {'lr__normalize':[False]}\n",
    "    #train_X=StandardScaler().fit_transform(train_X)\n",
    "    model_gs = grid_search.GridSearchCV(pipeline_model, param, scoring='roc_auc')\n",
    "    model_gs.fit(train_X,train_Y) \n",
    "    return model_gs"
   ]
  },
  {
   "cell_type": "code",
   "execution_count": 43,
   "metadata": {
    "collapsed": true
   },
   "outputs": [],
   "source": [
    "def cross_val_linear_regression(cross_val_X,cross_val_Y):\n",
    "    \n",
    "    #cross_val_X = StandardScaler().fit_transform(cross_val_X)\n",
    "    predict = linear_regression.predict(cross_val_X)\n",
    "    auc = roc_auc_score(cross_val_Y,predict)\n",
    "    return [auc,predict]"
   ]
  },
  {
   "cell_type": "code",
   "execution_count": 44,
   "metadata": {
    "collapsed": true
   },
   "outputs": [],
   "source": [
    "#def linear_regression_parameters(parameters_linear_regression={}):\n",
    "    \n",
    "    #param = parameters_linear_regression\n",
    "    #return param"
   ]
  },
  {
   "cell_type": "markdown",
   "metadata": {},
   "source": [
    "# Losgistic Regression (L1)"
   ]
  },
  {
   "cell_type": "code",
   "execution_count": 45,
   "metadata": {
    "collapsed": false
   },
   "outputs": [],
   "source": [
    "#Trains the Logistic Regression (L2) model. Performing a grid search to select the optimal parameter values\n",
    "def train_logistic_regression_L1(train_X,train_Y):\n",
    "\n",
    "    pipeline_model = Pipeline([('scl', StandardScaler()),('l1', linear_model.LogisticRegression())]) \n",
    "    param = {'l1__penalty':['l1'],'l1__C':[0.0001,0.001,0.01,0.1,1,10,100,100]}\n",
    "    train_X=StandardScaler().fit_transform(train_X)\n",
    "    model_gs = grid_search.GridSearchCV(pipeline_model, param, scoring='roc_auc')\n",
    "    model_gs.fit(train_X,train_Y)\n",
    "    return model_gs"
   ]
  },
  {
   "cell_type": "code",
   "execution_count": 46,
   "metadata": {
    "collapsed": true
   },
   "outputs": [],
   "source": [
    "def cross_val_logistic_regression_L1(cross_val_X,cross_val_Y):\n",
    "    \n",
    "    cross_val_X = preprocessing.StandardScaler().fit_transform(cross_val_X)\n",
    "    predict = logistic_regression_L1.predict_proba(cross_val_X)[:,1]\n",
    "    auc = roc_auc_score(cross_val_Y,predict)\n",
    "    return [auc,predict]"
   ]
  },
  {
   "cell_type": "code",
   "execution_count": 47,
   "metadata": {
    "collapsed": true
   },
   "outputs": [],
   "source": [
    "#def logistic_regression_L1_parameters(parameters_logistic_regression_L1={}):\n",
    "    \n",
    "    #param = parameters_logistic_regression_L1\n",
    "    #return param"
   ]
  },
  {
   "cell_type": "markdown",
   "metadata": {},
   "source": [
    "# Logistic Regression (L2)"
   ]
  },
  {
   "cell_type": "code",
   "execution_count": 48,
   "metadata": {
    "collapsed": true
   },
   "outputs": [],
   "source": [
    "#Trains the Logistic Regression (L2) model. Performing a grid search to select the optimal parameter values\n",
    "def train_logistic_regression_L2(train_X,train_Y):\n",
    "    \n",
    "    pipeline_model = Pipeline([('scl', StandardScaler()),('l2', linear_model.LogisticRegression())]) \n",
    "    param = {'l2__penalty':['l2'],'l2__C':[0.0001,0.001,0.01,0.1,1,10,100,100]}\n",
    "    train_X=StandardScaler().fit_transform(train_X)\n",
    "    model_gs = grid_search.GridSearchCV(pipeline_model, param, scoring='roc_auc')\n",
    "    model_gs.fit(train_X,train_Y)\n",
    "    return model_gs"
   ]
  },
  {
   "cell_type": "code",
   "execution_count": 49,
   "metadata": {
    "collapsed": true
   },
   "outputs": [],
   "source": [
    "def cross_val_logistic_regression_L2(cross_val_X,cross_val_Y):\n",
    "    \n",
    "    cross_val_X = preprocessing.StandardScaler().fit_transform(cross_val_X)\n",
    "    predict = logistic_regression_L2.predict_proba(cross_val_X)[:,1]\n",
    "    auc = roc_auc_score(cross_val_Y,predict)\n",
    "    return [auc,predict]"
   ]
  },
  {
   "cell_type": "code",
   "execution_count": 50,
   "metadata": {
    "collapsed": true
   },
   "outputs": [],
   "source": [
    "#def logistic_regression_L2_parameters(parameters_logistic_regression_L2={}):\n",
    "    \n",
    "    #param = parameters_logistic_regression_L2\n",
    "    #return param"
   ]
  },
  {
   "cell_type": "markdown",
   "metadata": {},
   "source": [
    "# Weighted Average"
   ]
  },
  {
   "cell_type": "code",
   "execution_count": 51,
   "metadata": {
    "collapsed": true
   },
   "outputs": [],
   "source": [
    "#Perfroms weighted average of the predictions of the base models.\n",
    "def weighted_average(data_frame_predictions, cross_val_Y):\n",
    "    \n",
    "    weighted_avg_predictions=np.average(data_frame_predictions,axis=1,weights=weight)\n",
    "    auc = roc_auc_score(cross_val_Y,weighted_avg_predictions)\n",
    "    return [auc,weighted_avg_predictions]  "
   ]
  },
  {
   "cell_type": "code",
   "execution_count": 52,
   "metadata": {
    "collapsed": true
   },
   "outputs": [],
   "source": [
    "#Defining the objective. Appropriate weights need to be calculated to minimize the loss.\n",
    "def objective_weighted_average(space):\n",
    "    \n",
    "    global stack_X\n",
    "    weighted_avg_predictions=np.average(stack_X,axis=1,weights=[space['w1'],space['w2'],space['w3']\n",
    "                                                                              ,space['w4'],space['w5'],\n",
    "                                                                              space['w6'],space['w7']])\n",
    "    \n",
    "    \n",
    "    global stack_Y\n",
    "    auc = roc_auc_score(stack_Y,weighted_avg_predictions)\n",
    "    return{'loss':1-auc, 'status': STATUS_OK }"
   ]
  },
  {
   "cell_type": "code",
   "execution_count": 53,
   "metadata": {
    "collapsed": true
   },
   "outputs": [],
   "source": [
    "#Assigning the weights that need to be checked, for minimizing the objective (Loss)\n",
    "def assign_space_weighted_average():\n",
    "    \n",
    "    space ={\n",
    "        'w1': hp.choice(\"x_w1\", range(10)),\n",
    "        'w2': hp.choice('x_w2', range(10)),\n",
    "        'w3': hp.choice('x_w3', range(10)),\n",
    "        'w4': hp.choice('x_w4', range(10)),\n",
    "        'w5': hp.choice('x_w5', range(10)),\n",
    "        'w6': hp.choice('x_w6', range(10)),\n",
    "        'w7': hp.choice('x_w7', range(10))\n",
    "    }\n",
    "    \n",
    "    return space"
   ]
  },
  {
   "cell_type": "code",
   "execution_count": 54,
   "metadata": {
    "collapsed": true
   },
   "outputs": [],
   "source": [
    "#Function that finds the best possible combination of weights for performing the weighted predictions.\n",
    "def get_weights():\n",
    "    \n",
    "    space = assign_space_weighted_average()\n",
    "    trials = Trials()\n",
    "    \n",
    "    best = fmin(fn = objective_weighted_average,\n",
    "    space = space,\n",
    "    algo = tpe.suggest,\n",
    "    max_evals = 100,\n",
    "    trials = trials)\n",
    "    best_weights = list()\n",
    "    \n",
    "    #Arranging the weights in order of the respective models, and then returning the list of weights.\n",
    "    for key in sorted(best):\n",
    "        best_weights.append(best[key])\n",
    "    \n",
    "    return best_weights"
   ]
  },
  {
   "cell_type": "markdown",
   "metadata": {},
   "source": [
    "# Stacking"
   ]
  },
  {
   "cell_type": "code",
   "execution_count": 55,
   "metadata": {
    "collapsed": true
   },
   "outputs": [],
   "source": [
    "#Trains the Stacking model (Gradient Boosting - XGBoost)\n",
    "def train_stack_model(train_X,train_Y):\n",
    "    \n",
    "    model = gradient_boosting_parameters(train_X,train_Y,objective_stack)\n",
    "    return model"
   ]
  },
  {
   "cell_type": "code",
   "execution_count": 56,
   "metadata": {
    "collapsed": true
   },
   "outputs": [],
   "source": [
    "def cross_val_stack(cross_val_X,cross_val_Y):\n",
    "\n",
    "    predict = stack.predict(xgb.DMatrix(cross_val_X,label = cross_val_Y))\n",
    "    auc = roc_auc_score(cross_val_Y,predict)\n",
    "    return [auc,predict]"
   ]
  },
  {
   "cell_type": "code",
   "execution_count": 57,
   "metadata": {
    "collapsed": true
   },
   "outputs": [],
   "source": [
    "#This function calculates the loss for different parameter values and is used to determine the most optimum \n",
    "#parameter values\n",
    "def objective_stack(space_gradient_boosting):\n",
    "    \n",
    "    #Gradient Boosting (XGBoost)\n",
    "    param = {}\n",
    "    #Setting Parameters for the Booster\n",
    "    param['booster'] = space_gradient_boosting['booster']\n",
    "    param['objective'] = 'binary:logistic'\n",
    "    param[\"eval_metric\"] = \"auc\"\n",
    "    param['eta'] = space_gradient_boosting['eta']\n",
    "    param['gamma'] = space_gradient_boosting['gamma']\n",
    "    param['max_depth'] = space_gradient_boosting['max_depth']\n",
    "    param['min_child_weight'] = space_gradient_boosting['min_child_weight']\n",
    "    param['max_delta_step'] = space_gradient_boosting['max_delta_step']\n",
    "    param['subsample'] = space_gradient_boosting['subsample']\n",
    "    param['colsample_bytree'] = space_gradient_boosting['colsample_bytree']\n",
    "    param['silent'] = space_gradient_boosting['silent']\n",
    "    param['seed'] = space_gradient_boosting['seed']\n",
    "    param['base_score'] = space_gradient_boosting['base_score']\n",
    "    param['lambda_bias'] = space_gradient_boosting['lambda_bias']\n",
    "    param['lambda'] = space_gradient_boosting['lambda']\n",
    "    \n",
    "    model = xgb.Booster()\n",
    "    auc_list = list()\n",
    "    \n",
    "    #Declared train_X as a global variable, unable to pass it as a parameter\n",
    "    #Performing cross validation.\n",
    "    skf=StratifiedKFold(stack_Y, n_folds=3)\n",
    "    for train_index, cross_val_index in skf:\n",
    "        \n",
    "        xgb_train_X, xgb_cross_val_X = stack_X.iloc[train_index],stack_X.iloc[cross_val_index]\n",
    "        xgb_train_Y, xgb_cross_val_Y = stack_Y.iloc[train_index],stack_Y.iloc[cross_val_index]\n",
    "        \n",
    "        dtrain = xgb.DMatrix(xgb_train_X, label = xgb_train_Y)\n",
    "        model = xgb.train(param, dtrain)\n",
    "        \n",
    "        predict = model.predict(xgb.DMatrix(xgb_cross_val_X, label = xgb_cross_val_Y))\n",
    "        auc_list.append(roc_auc_score(xgb_cross_val_Y,predict))\n",
    "    \n",
    "    #Calculating the AUC and returning the loss, which will be minimised by selecting the optimum parameters.\n",
    "    auc = np.mean(auc_list)\n",
    "    return{'loss':1-auc, 'status': STATUS_OK }"
   ]
  },
  {
   "cell_type": "markdown",
   "metadata": {},
   "source": [
    "# Blending"
   ]
  },
  {
   "cell_type": "code",
   "execution_count": 58,
   "metadata": {
    "collapsed": true
   },
   "outputs": [],
   "source": [
    "#Trains the blending model (Gradient Boosting - XGBoost)\n",
    "def train_blend_model(train_X,train_Y): \n",
    "    \n",
    "    model = gradient_boosting_parameters(train_X,train_Y,objective_blend)\n",
    "    return model"
   ]
  },
  {
   "cell_type": "code",
   "execution_count": 59,
   "metadata": {
    "collapsed": true
   },
   "outputs": [],
   "source": [
    "def cross_val_blend(cross_val_X,cross_val_Y):\n",
    "\n",
    "    predict = blend.predict(xgb.DMatrix(cross_val_X,label = cross_val_Y))\n",
    "    auc = roc_auc_score(cross_val_Y,predict)\n",
    "    return [auc,predict]"
   ]
  },
  {
   "cell_type": "code",
   "execution_count": 60,
   "metadata": {
    "collapsed": true
   },
   "outputs": [],
   "source": [
    "#This function calculates the loss for different parameter values and is used to determine the most optimum \n",
    "#parameter values\n",
    "def objective_blend(space_gradient_boosting):\n",
    "    \n",
    "    #Gradient Boosting (XGBoost)\n",
    "    param = {}\n",
    "    #Setting Parameters for the Booster\n",
    "    param['booster'] = space_gradient_boosting['booster']\n",
    "    param['objective'] = 'binary:logistic'\n",
    "    param[\"eval_metric\"] = \"auc\"\n",
    "    param['eta'] = space_gradient_boosting['eta']\n",
    "    param['gamma'] = space_gradient_boosting['gamma']\n",
    "    param['max_depth'] = space_gradient_boosting['max_depth']\n",
    "    param['min_child_weight'] = space_gradient_boosting['min_child_weight']\n",
    "    param['max_delta_step'] = space_gradient_boosting['max_delta_step']\n",
    "    param['subsample'] = space_gradient_boosting['subsample']\n",
    "    param['colsample_bytree'] = space_gradient_boosting['colsample_bytree']\n",
    "    param['silent'] = space_gradient_boosting['silent']\n",
    "    param['seed'] = space_gradient_boosting['seed']\n",
    "    param['base_score'] = space_gradient_boosting['base_score']\n",
    "    param['lambda_bias'] = space_gradient_boosting['lambda_bias']\n",
    "    param['lambda'] = space_gradient_boosting['lambda']\n",
    "    \n",
    "    model = xgb.Booster()\n",
    "    auc_list = list()\n",
    "    \n",
    "    #Declared train_X as a global variable, unable to pass it as a parameter\n",
    "    #Performing cross validation.\n",
    "    skf=StratifiedKFold(stack_Y, n_folds=3)\n",
    "    for train_index, cross_val_index in skf:\n",
    "        \n",
    "        xgb_train_X, xgb_cross_val_X = blend_X.iloc[train_index],blend_X.iloc[cross_val_index]\n",
    "        xgb_train_Y, xgb_cross_val_Y = stack_Y.iloc[train_index],stack_Y.iloc[cross_val_index]\n",
    "        \n",
    "        dtrain = xgb.DMatrix(xgb_train_X, label = xgb_train_Y)\n",
    "        model = xgb.train(param, dtrain)\n",
    "        \n",
    "        predict = model.predict(xgb.DMatrix(xgb_cross_val_X, label = xgb_cross_val_Y))\n",
    "        auc_list.append(roc_auc_score(xgb_cross_val_Y,predict))\n",
    "    \n",
    "    #Calculating the AUC and returning the loss, which will be minimised by selecting the optimum parameters.\n",
    "    auc = np.mean(auc_list)\n",
    "    return{'loss':1-auc, 'status': STATUS_OK }"
   ]
  },
  {
   "cell_type": "code",
   "execution_count": 61,
   "metadata": {
    "collapsed": true
   },
   "outputs": [],
   "source": [
    "def metric_initialize():\n",
    "    \n",
    "    global metric_linear_regression\n",
    "    global metric_logistic_regression_L2\n",
    "    global metric_logistic_regression_L1\n",
    "    global metric_decision_tree\n",
    "    global metric_random_forest\n",
    "    global metric_gradient_boosting\n",
    "    global metric_multi_layer_perceptron\n",
    "    global metric_stacking\n",
    "    global metric_blending\n",
    "    global metric_weighted_average\n",
    "    \n",
    "    #Initialzing the variables that will be used to calculate the area under the curve on the given data.\n",
    "    metric_linear_regression = list()\n",
    "    metric_logistic_regression_L2 = list()\n",
    "    metric_logistic_regression_L1 = list()\n",
    "    metric_decision_tree = list()\n",
    "    metric_random_forest = list()\n",
    "    metric_multi_layer_perceptron = list()\n",
    "    metric_gradient_boosting = list()\n",
    "    metric_weighted_average = list()\n",
    "    metric_stacking = list()\n",
    "    metric_blending = list()"
   ]
  },
  {
   "cell_type": "code",
   "execution_count": 62,
   "metadata": {
    "collapsed": false
   },
   "outputs": [],
   "source": [
    "#The list of base model functions (Training).\n",
    "train_base_model_list = [train_gradient_boosting,train_multi_layer_perceptron,train_decision_tree,train_random_forest,\n",
    "                 train_linear_regression,train_logistic_regression_L1,train_logistic_regression_L2]\n",
    "\n",
    "#The list of base model functions (Cross Validation).\n",
    "cross_val_base_model_list = [cross_val_gradient_boosting,cross_val_multi_layer_perceptron,cross_val_decision_tree\n",
    "                           ,cross_val_random_forest,cross_val_linear_regression,cross_val_logistic_regression_L1\n",
    "                           ,cross_val_logistic_regression_L2]\n",
    "\n",
    "#The list of second level model functions.\n",
    "cross_val_second_level_model = [cross_val_stack,cross_val_blend,weighted_average]"
   ]
  },
  {
   "cell_type": "markdown",
   "metadata": {},
   "source": [
    "# Base Model Predictions"
   ]
  },
  {
   "cell_type": "code",
   "execution_count": 63,
   "metadata": {
    "collapsed": false
   },
   "outputs": [],
   "source": [
    "def train_cross_val_base_models():\n",
    "    \n",
    "    #Cross Validation using Stratified K Fold\n",
    "    train, cross_val = train_test_split(Data, test_size = 0.5, stratify = Data['y'])\n",
    "    \n",
    "    #Training the base models, and calculating AUC on the cross validation data.\n",
    "    #Selecting the data (Traing Data & Cross Validation Data)\n",
    "    global train_X\n",
    "    global train_Y\n",
    "    train_Y = train['y']\n",
    "    train_X = train.drop(['y'],axis=1)\n",
    "    \n",
    "    global cross_val_X\n",
    "    global cross_val_Y\n",
    "    cross_val_Y = cross_val['y']\n",
    "    cross_val_X = cross_val.drop(['y'],axis=1)\n",
    "    \n",
    "\n",
    "    \n",
    "    global gradient_boosting\n",
    "    global multi_layer_perceptron\n",
    "    global decision_tree\n",
    "    global random_forest\n",
    "    global linear_regression\n",
    "    global logistic_regression_L1\n",
    "    global logistic_regression_L2\n",
    "\n",
    "    #Training the base models parallely, the resulting models are stored which will be used for cross validation.\n",
    "    [gradient_boosting,multi_layer_perceptron,decision_tree,random_forest,linear_regression,logistic_regression_L1\n",
    "     ,logistic_regression_L2] = (Parallel(n_jobs = -1)(delayed(function)(train_X, train_Y)\\\n",
    "                                                   for function in train_base_model_list))\n",
    "    \n",
    "    #Computing the AUC and Predictions of all the base models on the cross validation data parallely.\n",
    "    auc_predict_cross_val = (Parallel(n_jobs = -1)(delayed(function)(cross_val_X,cross_val_Y)\\\n",
    "                                               for function in cross_val_base_model_list))\n",
    "    \n",
    "    #Gradient Boosting (XGBoost)\n",
    "    #The AUC error (Cross Validation Data)\n",
    "    auc,predict_gradient_boosting = auc_predict_cross_val[0][0],auc_predict_cross_val[0][1]\n",
    "    metric_gradient_boosting.append(auc)\n",
    "    \n",
    "    #Multi Layer Perceptron\n",
    "    #The AUC (Cross Validation Data)\n",
    "    predict_mlp=list()\n",
    "    auc,predict_multi_layer_perceptron = auc_predict_cross_val[1][0],auc_predict_cross_val[1][1]\n",
    "    metric_multi_layer_perceptron.append(auc)\n",
    "    \n",
    "    #predict_multi_layer_perceptron returns a list of lists containing the predictions,\n",
    "    #this cannot be converted to a dataframe.\n",
    "    #This inner lists are converted to floats and then used to convert it to a dataframe.\n",
    "    for i in predict_multi_layer_perceptron:\n",
    "        predict_mlp.append(float(i))\n",
    "    \n",
    "    #Decision Tree)\n",
    "    #The AUC (Cross Validation Data)\n",
    "    auc,predict_decision_tree = auc_predict_cross_val[2][0],auc_predict_cross_val[2][1]\n",
    "    metric_decision_tree.append(auc)\n",
    "    \n",
    "    #Random Forest (Deafult=10 Trees)\n",
    "    #The AUC (Cross Validation Data)\n",
    "    auc,predict_random_forest = auc_predict_cross_val[3][0],auc_predict_cross_val[3][1]\n",
    "    metric_random_forest.append(auc)\n",
    "    \n",
    "    #Linear Regression\n",
    "    #The AUC (Cross Validation Data)\n",
    "    auc,predict_linear_regression = auc_predict_cross_val[4][0],auc_predict_cross_val[4][1]\n",
    "    metric_linear_regression.append(auc)\n",
    "    \n",
    "    #Logistic Regression (Default=l2)\n",
    "    #The AUC (Cross Validation Data)\n",
    "    auc,predict_logistic_regression_L1 = auc_predict_cross_val[5][0],auc_predict_cross_val[5][1]\n",
    "    metric_logistic_regression_L1.append(auc)\n",
    "    \n",
    "    #Logistic Regression-L2\n",
    "    #The AUC (Cross Validation Data)\n",
    "    auc,predict_logistic_regression_L2 = auc_predict_cross_val[6][0],auc_predict_cross_val[6][1]\n",
    "    metric_logistic_regression_L2.append(auc)\n",
    "    \n",
    "    #Building a list that contains all the predictions of the base models.\n",
    "    predict_list = [predict_gradient_boosting,predict_decision_tree,predict_random_forest, \n",
    "                               predict_linear_regression,predict_logistic_regression_L2,\n",
    "                               predict_logistic_regression_L1,predict_mlp]\n",
    "    \n",
    "    #Converting the above list of predictions into a dataframe, which will be used to train the stacking model.\n",
    "    global stack_X\n",
    "    stack_X = stack_X.append(build_data_frame(predict_list))\n",
    "    \n",
    "    #Building a list that contains all the raw features, used as cross validation data for the base models.\n",
    "    global raw_features_X\n",
    "    raw_features_X = raw_features_X.append(cross_val_X,ignore_index=True)\n",
    "    \n",
    "    #Storing the cross validation dataset labels in the variable stack_Y, \n",
    "    #which will be used later to train the stacking and blending models.\n",
    "    global stack_Y\n",
    "    stack_Y = cross_val_Y  "
   ]
  },
  {
   "cell_type": "code",
   "execution_count": 64,
   "metadata": {
    "collapsed": true
   },
   "outputs": [],
   "source": [
    "def print_metric_cross_val(n):\n",
    "    \n",
    "    #Calculating the average AUC across all the AUC computed on the cross validation folds.\n",
    "    avg_linear_regression = np.mean(metric_linear_regression)\n",
    "    avg_logistic_regression_L2 = np.mean(metric_logistic_regression_L2)\n",
    "    avg_logistic_regression_L1 = np.mean(metric_logistic_regression_L1)\n",
    "    avg_decision_tree = np.mean(metric_decision_tree)\n",
    "    avg_random_forest = np.mean(metric_random_forest)\n",
    "    avg_multi_layer_perceptron = np.mean(metric_multi_layer_perceptron)\n",
    "    avg_gradient_boosting = np.mean(metric_gradient_boosting)\n",
    "    \n",
    "    #Printing the AUC for the base models.\n",
    "    print('\\nStart Cross Validation Sample',n,'\\n')\n",
    "    print (' AUC (Linear Regression)\\n',avg_linear_regression)\n",
    "    print (' AUC (Logistic Regression - L2)\\n',avg_logistic_regression_L2)\n",
    "    print (' AUC (Logistic Regression - L1)\\n',avg_logistic_regression_L1)\n",
    "    print (' AUC (Decision Tree)\\n',avg_decision_tree)\n",
    "    print (' AUC (Random Forest)\\n',avg_random_forest)\n",
    "    print (' AUC (Multi Layer Perceptron)\\n',avg_multi_layer_perceptron)\n",
    "    print (' AUC (Gradient Boosting - XGBoost)\\n',avg_gradient_boosting)\n",
    "    print('\\nEnd Cross Validation Sample',n,'\\n') "
   ]
  },
  {
   "cell_type": "code",
   "execution_count": 65,
   "metadata": {
    "collapsed": false
   },
   "outputs": [],
   "source": [
    "#Running the second level models parallely\n",
    "def train_second_level_models():\n",
    "    \n",
    "    #Performing a weighted average of all the base models and calculating the resulting AUC.\n",
    "    global weight\n",
    "    weight = get_weights()\n",
    "    \n",
    "    #Converting the above list of predictions and raw features (Concatenate) into a dataframe, \n",
    "    #which will be used to train the blending model.\n",
    "    global blend_X\n",
    "    blend_X = pd.concat([raw_features_X, stack_X], axis = 1,ignore_index = True)\n",
    "    \n",
    "    #Training the Stacking and Blending models parallely using the \n",
    "    #predictions of base models on the cross validation data.\n",
    "    global stack\n",
    "    global blend\n",
    "    function_param = [(train_stack_model,stack_X,stack_Y),(train_blend_model,blend_X,stack_Y),\n",
    "                      (weighted_average,stack_X,stack_Y)]\n",
    "    [stack,blend,[auc,predict_weighted_average]] = Parallel(n_jobs = -1)(delayed(model_function)(train_X,train_Y)\\\n",
    "                                        for model_function,train_X,train_Y in function_param)\n",
    "    \n",
    "    #Calculating and printing the AUC for the weighted average models.\n",
    "    metric_weighted_average.append(auc)\n",
    "    print (' AUC (Weighted Average)\\n',metric_weighted_average)"
   ]
  },
  {
   "cell_type": "code",
   "execution_count": 66,
   "metadata": {
    "collapsed": false
   },
   "outputs": [],
   "source": [
    "def print_metric_test(n):\n",
    "    \n",
    "    print('\\nStart Test Sample',n,'\\n')\n",
    "    #Printing the AUC for all the models. (Test Data)\n",
    "    print (' AUC (Linear Regression)\\n',metric_linear_regression)\n",
    "    print (' AUC (Logistic Regression - L2)\\n',metric_logistic_regression_L2)\n",
    "    print (' AUC (Logistic Regression - L1)\\n',metric_logistic_regression_L1)\n",
    "    print (' AUC (Decision Tree)\\n',metric_decision_tree)\n",
    "    print (' AUC (Random Forest)\\n',metric_random_forest)\n",
    "    print (' AUC (Multi Layer Perceptron)\\n',metric_multi_layer_perceptron)\n",
    "    print (' AUC (Weighted Average)\\n',metric_weighted_average)\n",
    "    print (' AUC (Gradient Boosting - XGBoost)\\n',metric_gradient_boosting)\n",
    "    print (' AUC (Stacking)\\n',metric_stacking)\n",
    "    print (' AUC (Blending)\\n',metric_blending)\n",
    "    print('\\nEnd Test Sample',n,'\\n')"
   ]
  },
  {
   "cell_type": "markdown",
   "metadata": {},
   "source": [
    "# Testing the Base and Second Level Models on the Test Dataset"
   ]
  },
  {
   "cell_type": "code",
   "execution_count": 67,
   "metadata": {
    "collapsed": false
   },
   "outputs": [],
   "source": [
    "def test_data():\n",
    "    \n",
    "    #Training the base models, and calculating AUC on the test data.\n",
    "    #Selecting the data (Test Data)\n",
    "    test_Y = test['y']\n",
    "    test_X = test.drop(['y'],axis=1)\n",
    "    \n",
    "    #Computing the AUC and Predictions of all the base models on the test data parallely.\n",
    "    auc_predict_test = (Parallel(n_jobs = -1)(delayed(function)(test_X,test_Y)\\\n",
    "                                          for function in cross_val_base_model_list))\n",
    "    \n",
    "    #Gradient Boosting (XGBoost)\n",
    "    #The AUC error (Test Data)\n",
    "    auc,predict_gradient_boosting = auc_predict_test[0][0],auc_predict_test[0][1]\n",
    "    metric_gradient_boosting.append(auc)\n",
    "    \n",
    "    #Multi Layer Perceptron\n",
    "    #The AUC (Test Data)\n",
    "    predict_mlp=list()\n",
    "    auc,predict_multi_layer_perceptron = auc_predict_test[1][0],auc_predict_test[1][1]\n",
    "    metric_multi_layer_perceptron.append(auc)\n",
    "    \n",
    "    #predict_multi_layer_perceptron returns a list of lists containing the predictions, \n",
    "    #this cannot be converted to a dataframe.\n",
    "    #This inner lists are converted to floats and then used to convert it to a dataframe.\n",
    "    for i in predict_multi_layer_perceptron:\n",
    "        predict_mlp.append(float(i))\n",
    "    \n",
    "    #Decision Tree)\n",
    "    #The AUC (Test Data)\n",
    "    auc,predict_decision_tree = auc_predict_test[2][0],auc_predict_test[2][1]\n",
    "    metric_decision_tree.append(auc)\n",
    "    \n",
    "    #Random Forest (Deafult=10 Trees)\n",
    "    #The AUC (Test Data)\n",
    "    auc,predict_random_forest = auc_predict_test[3][0],auc_predict_test[3][1]\n",
    "    metric_random_forest.append(auc)\n",
    "    \n",
    "    #Linear Regression\n",
    "    #The AUC (Test Data)\n",
    "    auc,predict_linear_regression = auc_predict_test[4][0],auc_predict_test[4][1]\n",
    "    metric_linear_regression.append(auc)\n",
    "    \n",
    "    #Logistic Regression (Default=l2)\n",
    "    #The AUC (Test Data)\n",
    "    auc,predict_logistic_regression_L1 = auc_predict_test[5][0],auc_predict_test[5][1]\n",
    "    metric_logistic_regression_L1.append(auc)\n",
    "    \n",
    "    #Logistic Regression-L2\n",
    "    #The AUC (Test Data)\n",
    "    auc,predict_logistic_regression_L2 = auc_predict_test[6][0],auc_predict_test[6][1]\n",
    "    metric_logistic_regression_L2.append(auc)\n",
    "    \n",
    "    #Building a list that contains all the predictions of the base models.\n",
    "    predict_list = [predict_gradient_boosting,predict_decision_tree,predict_random_forest, \n",
    "                               predict_linear_regression,predict_logistic_regression_L2,\n",
    "                               predict_logistic_regression_L1,predict_mlp]\n",
    "    global test_stack_X\n",
    "    global test_raw_features_X\n",
    "    global test_blend_X\n",
    "    \n",
    "    test_stack_X = build_data_frame(predict_list)\n",
    "    #Converting the list of predictions into a dataframe.\n",
    "    test_raw_features_X = test_raw_features_X.append(test_X,ignore_index = True)\n",
    "    #Converting the above list of predictions and raw features (Concatenate) into a dataframe\n",
    "    test_blend_X = pd.concat([test_raw_features_X, test_stack_X], axis = 1,ignore_index = True)\n",
    "\n",
    "        \n",
    "    #Computing the AUC and Predictions of the Stacking and Blending models on the test data parallely.\n",
    "    auc_predict_test_second_level = Parallel(n_jobs = -1)(delayed(function)(test_X, test_Y) \\\n",
    "                                                      for function,test_X in \\\n",
    "                                                      ((cross_val_second_level_model[0],test_stack_X),\\\n",
    "                                                       (cross_val_second_level_model[1],test_blend_X),\\\n",
    "                                                       (cross_val_second_level_model[2],test_stack_X)))\n",
    "\n",
    "    #Stacking (XGBoost - Gradient Boosting)\n",
    "    auc,predict_stack = auc_predict_test_second_level[0][0],auc_predict_test_second_level[0][1]\n",
    "    metric_stacking.append(auc)    \n",
    "\n",
    "    #Blending (XGBoost - Gradient Boosting)\n",
    "    auc,predict_blend = auc_predict_test_second_level[1][0],auc_predict_test_second_level[1][1]\n",
    "    metric_blending.append(auc)\n",
    "    \n",
    "    #Performing a weighted average of all the base models and calculating the resulting AUC.\n",
    "    auc,predict_weighted_average = auc_predict_test_second_level[2][0],auc_predict_test_second_level[2][1]\n",
    "    metric_weighted_average.append(auc)\n",
    "    "
   ]
  },
  {
   "cell_type": "code",
   "execution_count": 68,
   "metadata": {
    "collapsed": false
   },
   "outputs": [
    {
     "name": "stdout",
     "output_type": "stream",
     "text": [
      "ONE HOT ENCODING\n",
      "\n",
      "Epoch 1/1\n",
      "12356/12356 [==============================] - 0s - loss: 4.5561 - acc: 0.1796     \n",
      "Epoch 1/1\n",
      "12356/12356 [==============================] - 0s - loss: 0.3821 - acc: 0.8285     \n",
      "Epoch 1/1\n",
      "12356/12356 [==============================] - 0s - loss: 0.4228 - acc: 0.8931     \n",
      "Epoch 1/1\n",
      "12356/12356 [==============================] - 0s - loss: 0.3051 - acc: 0.8633     \n",
      "Epoch 1/1\n",
      "12356/12356 [==============================] - 0s - loss: 1.8158 - acc: 0.0000e+00     \n",
      "Epoch 1/1\n",
      "12356/12356 [==============================] - 0s - loss: 0.3525 - acc: 0.8403     \n",
      "Epoch 1/1\n",
      "12356/12356 [==============================] - 0s - loss: 0.5399 - acc: 0.8286     \n",
      "Epoch 1/1\n",
      "12356/12356 [==============================] - 0s - loss: 0.3910 - acc: 0.8941     \n",
      "Epoch 1/1\n",
      "12356/12356 [==============================] - 0s - loss: 0.9829 - acc: 0.1563     \n",
      "Epoch 1/1\n",
      "12356/12356 [==============================] - 0s - loss: 0.2941 - acc: 0.9014     \n",
      "Epoch 1/1\n",
      "12356/12356 [==============================] - 0s - loss: 0.2581 - acc: 0.8991     \n",
      "Epoch 1/1\n",
      "12356/12356 [==============================] - 0s - loss: 1.0426 - acc: 0.5637     \n",
      "Epoch 1/1\n",
      "12356/12356 [==============================] - 0s - loss: 0.9903 - acc: 0.1522     \n",
      "Epoch 1/1\n",
      "12356/12356 [==============================] - 0s - loss: 0.4716 - acc: 0.8839     \n",
      "Epoch 1/1\n",
      "12356/12356 [==============================] - 0s - loss: 0.6238 - acc: 0.6669     \n",
      "Epoch 1/5\n",
      "18534/18534 [==============================] - 1s - loss: 0.4374 - acc: 0.7914     \n",
      "Epoch 2/5\n",
      "18534/18534 [==============================] - 1s - loss: 0.2821 - acc: 0.9063     \n",
      "Epoch 3/5\n",
      "18534/18534 [==============================] - 1s - loss: 0.2726 - acc: 0.9068     \n",
      "Epoch 4/5\n",
      "18534/18534 [==============================] - 1s - loss: 0.2567 - acc: 0.9090     \n",
      "Epoch 5/5\n",
      "18534/18534 [==============================] - 1s - loss: 0.2558 - acc: 0.9078     \n",
      "\n",
      "Start Cross Validation Sample 0 \n",
      "\n",
      " AUC (Linear Regression)\n",
      " 0.93132011521\n",
      " AUC (Logistic Regression - L2)\n",
      " 0.931179089829\n",
      " AUC (Logistic Regression - L1)\n",
      " 0.931605310871\n",
      " AUC (Decision Tree)\n",
      " 0.925906974033\n",
      " AUC (Random Forest)\n",
      " 0.930449094933\n",
      " AUC (Multi Layer Perceptron)\n",
      " 0.922297402757\n",
      " AUC (Gradient Boosting - XGBoost)\n",
      " 0.945559179759\n",
      "\n",
      "End Cross Validation Sample 0 \n",
      "\n",
      " AUC (Weighted Average)\n",
      " [0.94468363141142786]\n",
      "\n",
      "Start Test Sample 0 \n",
      "\n",
      " AUC (Linear Regression)\n",
      " [0.9347952733619509]\n",
      " AUC (Logistic Regression - L2)\n",
      " [0.93246792301523684]\n",
      " AUC (Logistic Regression - L1)\n",
      " [0.93367906505023823]\n",
      " AUC (Decision Tree)\n",
      " [0.93631214915797922]\n",
      " AUC (Random Forest)\n",
      " [0.93462221095334685]\n",
      " AUC (Multi Layer Perceptron)\n",
      " [0.92460729279682996]\n",
      " AUC (Weighted Average)\n",
      " [0.94706530968441904]\n",
      " AUC (Gradient Boosting - XGBoost)\n",
      " [0.94774665078541442]\n",
      " AUC (Stacking)\n",
      " [0.94732033350629741]\n",
      " AUC (Blending)\n",
      " [0.94803381055710156]\n",
      "\n",
      "End Test Sample 0 \n",
      "\n",
      "\n",
      "END\n",
      "\n"
     ]
    }
   ],
   "source": [
    "print('ONE HOT ENCODING\\n')\n",
    "sample_generation_one_hot_encode(1)\n",
    "print('\\nEND\\n')"
   ]
  },
  {
   "cell_type": "code",
   "execution_count": 69,
   "metadata": {
    "collapsed": false
   },
   "outputs": [
    {
     "name": "stdout",
     "output_type": "stream",
     "text": [
      "LABEL ENCODING\n",
      "\n",
      "Epoch 1/1\n",
      "12356/12356 [==============================] - 0s - loss: 0.2607 - acc: 0.9013     \n",
      "Epoch 1/1\n",
      "12356/12356 [==============================] - 0s - loss: 0.3513 - acc: 0.8873     \n",
      "Epoch 1/1\n",
      "12356/12356 [==============================] - 0s - loss: 14.1464 - acc: 0.0000e+00     \n",
      "Epoch 1/1\n",
      "12356/12356 [==============================] - 0s - loss: 1.8158 - acc: 0.8029     \n",
      "Epoch 1/1\n",
      "12356/12356 [==============================] - 0s - loss: 0.3016 - acc: 0.8840     \n",
      "Epoch 1/1\n",
      "12356/12356 [==============================] - 0s - loss: 0.3149 - acc: 0.8740     \n",
      "Epoch 1/1\n",
      "12356/12356 [==============================] - 0s - loss: 0.6546 - acc: 0.5958     \n",
      "Epoch 1/1\n",
      "12356/12356 [==============================] - 0s - loss: 0.5423 - acc: 0.8310     \n",
      "Epoch 1/1\n",
      "12356/12356 [==============================] - 0s - loss: 0.5709 - acc: 0.7641     \n",
      "Epoch 1/1\n",
      "12356/12356 [==============================] - 0s - loss: 0.3287 - acc: 0.8523     \n",
      "Epoch 1/1\n",
      "12356/12356 [==============================] - 0s - loss: 1.8158 - acc: 0.0000e+00     \n",
      "Epoch 1/1\n",
      "12356/12356 [==============================] - 0s - loss: 1.1043 - acc: 0.4504     \n",
      "Epoch 1/1\n",
      "12356/12356 [==============================] - 0s - loss: 0.7034 - acc: 0.8345     \n",
      "Epoch 1/1\n",
      "12356/12356 [==============================] - 0s - loss: 0.3099 - acc: 0.9012     \n",
      "Epoch 1/1\n",
      "12356/12356 [==============================] - 0s - loss: 0.3391 - acc: 0.9003     \n",
      "Epoch 1/5\n",
      "18534/18534 [==============================] - 0s - loss: 0.4556 - acc: 0.8836     \n",
      "Epoch 2/5\n",
      "18534/18534 [==============================] - 1s - loss: 0.2799 - acc: 0.9047     \n",
      "Epoch 3/5\n",
      "18534/18534 [==============================] - 0s - loss: 0.3264 - acc: 0.8991     \n",
      "Epoch 4/5\n",
      "18534/18534 [==============================] - 0s - loss: 0.2677 - acc: 0.9036     \n",
      "Epoch 5/5\n",
      "18534/18534 [==============================] - 0s - loss: 0.2910 - acc: 0.9066     \n",
      "\n",
      "Start Cross Validation Sample 0 \n",
      "\n",
      " AUC (Linear Regression)\n",
      " 0.926352486694\n",
      " AUC (Logistic Regression - L2)\n",
      " 0.928074929875\n",
      " AUC (Logistic Regression - L1)\n",
      " 0.928136400983\n",
      " AUC (Decision Tree)\n",
      " 0.930122607926\n",
      " AUC (Random Forest)\n",
      " 0.942899717122\n",
      " AUC (Multi Layer Perceptron)\n",
      " 0.91956533083\n",
      " AUC (Gradient Boosting - XGBoost)\n",
      " 0.946696788384\n",
      "\n",
      "End Cross Validation Sample 0 \n",
      "\n",
      " AUC (Weighted Average)\n",
      " [0.94750384784098107]\n",
      "\n",
      "Start Test Sample 0 \n",
      "\n",
      " AUC (Linear Regression)\n",
      " [0.91358141893485534]\n",
      " AUC (Logistic Regression - L2)\n",
      " [0.91576548422095383]\n",
      " AUC (Logistic Regression - L1)\n",
      " [0.91582798716920621]\n",
      " AUC (Decision Tree)\n",
      " [0.93344585829520255]\n",
      " AUC (Random Forest)\n",
      " [0.93447126043681294]\n",
      " AUC (Multi Layer Perceptron)\n",
      " [0.90578093306288032]\n",
      " AUC (Weighted Average)\n",
      " [0.94031204302089721]\n",
      " AUC (Gradient Boosting - XGBoost)\n",
      " [0.94257954384640774]\n",
      " AUC (Stacking)\n",
      " [0.94102139251851491]\n",
      " AUC (Blending)\n",
      " [0.94418073965753102]\n",
      "\n",
      "End Test Sample 0 \n",
      "\n",
      "\n",
      "END\n",
      "\n"
     ]
    }
   ],
   "source": [
    "print('LABEL ENCODING\\n')\n",
    "sample_generation_label_encode(1)\n",
    "print('\\nEND\\n')"
   ]
  },
  {
   "cell_type": "code",
   "execution_count": 70,
   "metadata": {
    "collapsed": false
   },
   "outputs": [
    {
     "name": "stdout",
     "output_type": "stream",
     "text": [
      "BINARY ENCODING\n",
      "\n",
      "Epoch 1/1\n",
      "12356/12356 [==============================] - 0s - loss: 1.8158 - acc: 0.5138     \n",
      "Epoch 1/1\n",
      "12356/12356 [==============================] - 0s - loss: 0.3137 - acc: 0.8907     \n",
      "Epoch 1/1\n",
      "12356/12356 [==============================] - 0s - loss: 0.7026 - acc: 0.8852     \n",
      "Epoch 1/1\n",
      "12356/12356 [==============================] - 0s - loss: 0.2620 - acc: 0.8928     \n",
      "Epoch 1/1\n",
      "12356/12356 [==============================] - 0s - loss: 0.3121 - acc: 0.8894     \n",
      "Epoch 1/1\n",
      "12356/12356 [==============================] - 0s - loss: 0.3678 - acc: 0.8927     \n",
      "Epoch 1/1\n",
      "12356/12356 [==============================] - 0s - loss: 0.5475 - acc: 0.8160     \n",
      "Epoch 1/1\n",
      "12356/12356 [==============================] - 0s - loss: 0.5405 - acc: 0.8161     \n",
      "Epoch 1/1\n",
      "12356/12356 [==============================] - 0s - loss: 0.5711 - acc: 0.8011     \n",
      "Epoch 1/1\n",
      "12356/12356 [==============================] - 0s - loss: 0.7354 - acc: 0.8441     \n",
      "Epoch 1/1\n",
      "12356/12356 [==============================] - 0s - loss: 0.8901 - acc: 0.7587     \n",
      "Epoch 1/1\n",
      "12356/12356 [==============================] - 0s - loss: 0.4805 - acc: 0.8491     \n",
      "Epoch 1/1\n",
      "12356/12356 [==============================] - 0s - loss: 0.5715 - acc: 0.7765     \n",
      "Epoch 1/1\n",
      "12356/12356 [==============================] - 0s - loss: 0.3580 - acc: 0.8874     \n",
      "Epoch 1/1\n",
      "12356/12356 [==============================] - 0s - loss: 0.8274 - acc: 0.3015     \n",
      "Epoch 1/5\n",
      "18534/18534 [==============================] - 1s - loss: 0.4208 - acc: 0.8707     \n",
      "Epoch 2/5\n",
      "18534/18534 [==============================] - 1s - loss: 0.2300 - acc: 0.9095     \n",
      "Epoch 3/5\n",
      "18534/18534 [==============================] - 1s - loss: 0.2178 - acc: 0.9098     \n",
      "Epoch 4/5\n",
      "18534/18534 [==============================] - 1s - loss: 0.2179 - acc: 0.9104     \n",
      "Epoch 5/5\n",
      "18534/18534 [==============================] - 0s - loss: 0.2181 - acc: 0.9095     \n",
      "\n",
      "Start Cross Validation Sample 0 \n",
      "\n",
      " AUC (Linear Regression)\n",
      " 0.928308467673\n",
      " AUC (Logistic Regression - L2)\n",
      " 0.931104165546\n",
      " AUC (Logistic Regression - L1)\n",
      " 0.930525038397\n",
      " AUC (Decision Tree)\n",
      " 0.930980204148\n",
      " AUC (Random Forest)\n",
      " 0.939310369288\n",
      " AUC (Multi Layer Perceptron)\n",
      " 0.928664161464\n",
      " AUC (Gradient Boosting - XGBoost)\n",
      " 0.948802952803\n",
      "\n",
      "End Cross Validation Sample 0 \n",
      "\n",
      " AUC (Weighted Average)\n",
      " [0.94833453771280185]\n",
      "\n",
      "Start Test Sample 0 \n",
      "\n",
      " AUC (Linear Regression)\n",
      " [0.92684619557526315]\n",
      " AUC (Logistic Regression - L2)\n",
      " [0.92734032265672917]\n",
      " AUC (Logistic Regression - L1)\n",
      " [0.92690398131987362]\n",
      " AUC (Decision Tree)\n",
      " [0.9326510094815792]\n",
      " AUC (Random Forest)\n",
      " [0.93929695976225303]\n",
      " AUC (Multi Layer Perceptron)\n",
      " [0.92537796594178978]\n",
      " AUC (Weighted Average)\n",
      " [0.94665727156941359]\n",
      " AUC (Gradient Boosting - XGBoost)\n",
      " [0.94473117835746967]\n",
      " AUC (Stacking)\n",
      " [0.93135525260625507]\n",
      " AUC (Blending)\n",
      " [0.94729085098353671]\n",
      "\n",
      "End Test Sample 0 \n",
      "\n",
      "\n",
      "END\n",
      "\n"
     ]
    }
   ],
   "source": [
    "print('BINARY ENCODING\\n')\n",
    "sample_generation_binary_encode(1)\n",
    "print('\\nEND\\n')"
   ]
  },
  {
   "cell_type": "code",
   "execution_count": 71,
   "metadata": {
    "collapsed": false,
    "scrolled": false
   },
   "outputs": [
    {
     "name": "stdout",
     "output_type": "stream",
     "text": [
      "HASHING ENCODING\n",
      "\n",
      "Epoch 1/1\n",
      "12356/12356 [==============================] - 0s - loss: 0.5061 - acc: 0.8774     \n",
      "Epoch 1/1\n",
      "12356/12356 [==============================] - 0s - loss: 0.6506 - acc: 0.6117     \n",
      "Epoch 1/1\n",
      "12356/12356 [==============================] - 0s - loss: 0.5281 - acc: 0.8593     \n",
      "Epoch 1/1\n",
      "12356/12356 [==============================] - 0s - loss: 3.4307 - acc: 0.3473     \n",
      "Epoch 1/1\n",
      "12356/12356 [==============================] - 0s - loss: 2.8899 - acc: 0.1012     \n",
      "Epoch 1/1\n",
      "12356/12356 [==============================] - 0s - loss: 3.7183 - acc: 0.2980     \n",
      "Epoch 1/1\n",
      "12356/12356 [==============================] - 0s - loss: 0.5065 - acc: 0.8398     \n",
      "Epoch 1/1\n",
      "12356/12356 [==============================] - 0s - loss: 0.5032 - acc: 0.8472     \n",
      "Epoch 1/1\n",
      "12356/12356 [==============================] - 0s - loss: 0.5065 - acc: 0.8387     \n",
      "Epoch 1/1\n",
      "12356/12356 [==============================] - 0s - loss: 0.5540 - acc: 0.8123     \n",
      "Epoch 1/1\n",
      "12356/12356 [==============================] - 0s - loss: 0.5486 - acc: 0.8130     \n",
      "Epoch 1/1\n",
      "12356/12356 [==============================] - 0s - loss: 0.5638 - acc: 0.7927     \n",
      "Epoch 1/1\n",
      "12356/12356 [==============================] - 0s - loss: 2.5879 - acc: 0.4737     \n",
      "Epoch 1/1\n",
      "12356/12356 [==============================] - 0s - loss: 3.0800 - acc: 0.4590     \n",
      "Epoch 1/1\n",
      "12356/12356 [==============================] - 0s - loss: 2.7768 - acc: 0.2596     \n",
      "Epoch 1/5\n",
      "18534/18534 [==============================] - 1s - loss: 0.3586 - acc: 0.8835     \n",
      "Epoch 2/5\n",
      "18534/18534 [==============================] - 0s - loss: 0.2181 - acc: 0.9085     \n",
      "Epoch 3/5\n",
      "18534/18534 [==============================] - 0s - loss: 0.2173 - acc: 0.9086     \n",
      "Epoch 4/5\n",
      "18534/18534 [==============================] - 1s - loss: 0.2175 - acc: 0.9076     \n",
      "Epoch 5/5\n",
      "18534/18534 [==============================] - 0s - loss: 0.2172 - acc: 0.9090     \n",
      "\n",
      "Start Cross Validation Sample 0 \n",
      "\n",
      " AUC (Linear Regression)\n",
      " 0.928779605429\n",
      " AUC (Logistic Regression - L2)\n",
      " 0.929577783462\n",
      " AUC (Logistic Regression - L1)\n",
      " 0.929652416551\n",
      " AUC (Decision Tree)\n",
      " 0.927312772572\n",
      " AUC (Random Forest)\n",
      " 0.929468993286\n",
      " AUC (Multi Layer Perceptron)\n",
      " 0.929387764646\n",
      " AUC (Gradient Boosting - XGBoost)\n",
      " 0.94624323876\n",
      "\n",
      "End Cross Validation Sample 0 \n",
      "\n",
      " AUC (Weighted Average)\n",
      " [0.94555945639389227]\n",
      "\n",
      "Start Test Sample 0 \n",
      "\n",
      " AUC (Linear Regression)\n",
      " [0.93040237747063537]\n",
      " AUC (Logistic Regression - L2)\n",
      " [0.93019482051040148]\n",
      " AUC (Logistic Regression - L1)\n",
      " [0.93002912873248744]\n",
      " AUC (Decision Tree)\n",
      " [0.9291841596301712]\n",
      " AUC (Random Forest)\n",
      " [0.92937668050379729]\n",
      " AUC (Multi Layer Perceptron)\n",
      " [0.93074791263738854]\n",
      " AUC (Weighted Average)\n",
      " [0.94446436152648705]\n",
      " AUC (Gradient Boosting - XGBoost)\n",
      " [0.94479309165526681]\n",
      " AUC (Stacking)\n",
      " [0.93578529647624886]\n",
      " AUC (Blending)\n",
      " [0.94462828435303559]\n",
      "\n",
      "End Test Sample 0 \n",
      "\n",
      "\n",
      "END\n",
      "\n"
     ]
    }
   ],
   "source": [
    "print('HASHING ENCODING\\n')\n",
    "sample_generation_hashing_encode(1)\n",
    "print('\\nEND\\n')"
   ]
  },
  {
   "cell_type": "code",
   "execution_count": 72,
   "metadata": {
    "collapsed": false
   },
   "outputs": [
    {
     "name": "stdout",
     "output_type": "stream",
     "text": [
      "BACKWARD DIFFERENCE ENCODING\n",
      "\n",
      "Epoch 1/1\n",
      "12356/12356 [==============================] - 0s - loss: 14.3023 - acc: 0.0000e+00     \n",
      "Epoch 1/1\n",
      "12356/12356 [==============================] - 0s - loss: 2.6952 - acc: 0.4412     \n",
      "Epoch 1/1\n",
      "12356/12356 [==============================] - 0s - loss: 0.7994 - acc: 0.8662     \n",
      "Epoch 1/1\n",
      "12356/12356 [==============================] - 0s - loss: 4.0053 - acc: 0.4676     \n",
      "Epoch 1/1\n",
      "12356/12356 [==============================] - 0s - loss: 3.5860 - acc: 0.5781     \n",
      "Epoch 1/1\n",
      "12356/12356 [==============================] - 0s - loss: 4.8215 - acc: 0.3766     \n",
      "Epoch 1/1\n",
      "12356/12356 [==============================] - 0s - loss: 0.5407 - acc: 0.8296     \n",
      "Epoch 1/1\n",
      "12356/12356 [==============================] - 0s - loss: 0.4852 - acc: 0.8412     \n",
      "Epoch 1/1\n",
      "12356/12356 [==============================] - 0s - loss: 0.5385 - acc: 0.8291     \n",
      "Epoch 1/1\n",
      "12356/12356 [==============================] - 0s - loss: 0.5143 - acc: 0.8353     \n",
      "Epoch 1/1\n",
      "12356/12356 [==============================] - 0s - loss: 0.4232 - acc: 0.8646     \n",
      "Epoch 1/1\n",
      "12356/12356 [==============================] - 0s - loss: 0.5180 - acc: 0.8331     \n",
      "Epoch 1/1\n",
      "12356/12356 [==============================] - 0s - loss: 0.5031 - acc: 0.8734     \n",
      "Epoch 1/1\n",
      "12356/12356 [==============================] - 0s - loss: 0.3656 - acc: 0.8882     \n",
      "Epoch 1/1\n",
      "12356/12356 [==============================] - 0s - loss: 1.0700 - acc: 0.1175     \n",
      "Epoch 1/5\n",
      "18534/18534 [==============================] - 1s - loss: 0.3665 - acc: 0.8778     \n",
      "Epoch 2/5\n",
      "18534/18534 [==============================] - 1s - loss: 0.2199 - acc: 0.9075     \n",
      "Epoch 3/5\n",
      "18534/18534 [==============================] - 1s - loss: 0.2189 - acc: 0.9092     \n",
      "Epoch 4/5\n",
      "18534/18534 [==============================] - 1s - loss: 0.2183 - acc: 0.9087     \n",
      "Epoch 5/5\n",
      "18534/18534 [==============================] - 1s - loss: 0.2178 - acc: 0.9090     \n",
      "\n",
      "Start Cross Validation Sample 0 \n",
      "\n",
      " AUC (Linear Regression)\n",
      " 0.933804264342\n",
      " AUC (Logistic Regression - L2)\n",
      " 0.935854446665\n",
      " AUC (Logistic Regression - L1)\n",
      " 0.935879372893\n",
      " AUC (Decision Tree)\n",
      " 0.933221380787\n",
      " AUC (Random Forest)\n",
      " 0.935365866372\n",
      " AUC (Multi Layer Perceptron)\n",
      " 0.933193091265\n",
      " AUC (Gradient Boosting - XGBoost)\n",
      " 0.946873033711\n",
      "\n",
      "End Cross Validation Sample 0 \n",
      "\n",
      " AUC (Weighted Average)\n",
      " [0.94745868361091135]\n",
      "\n",
      "Start Test Sample 0 \n",
      "\n",
      " AUC (Linear Regression)\n",
      " [0.93193959620736821]\n",
      " AUC (Logistic Regression - L2)\n",
      " [0.93326159252794949]\n",
      " AUC (Logistic Regression - L1)\n",
      " [0.93321677909335343]\n",
      " AUC (Decision Tree)\n",
      " [0.93317402943535077]\n",
      " AUC (Random Forest)\n",
      " [0.92500530685409688]\n",
      " AUC (Multi Layer Perceptron)\n",
      " [0.9344379451860938]\n",
      " AUC (Weighted Average)\n",
      " [0.94357281003820936]\n",
      " AUC (Gradient Boosting - XGBoost)\n",
      " [0.94379098070663714]\n",
      " AUC (Stacking)\n",
      " [0.94407401292513793]\n",
      " AUC (Blending)\n",
      " [0.94451300768904189]\n",
      "\n",
      "End Test Sample 0 \n",
      "\n",
      "\n",
      "END\n",
      "\n"
     ]
    }
   ],
   "source": [
    "print('BACKWARD DIFFERENCE ENCODING\\n')\n",
    "sample_generation_backward_difference_encode(1)\n",
    "print('\\nEND\\n')"
   ]
  },
  {
   "cell_type": "code",
   "execution_count": 73,
   "metadata": {
    "collapsed": false
   },
   "outputs": [
    {
     "name": "stdout",
     "output_type": "stream",
     "text": [
      "HELMERT ENCODING\n",
      "\n",
      "Epoch 1/1\n",
      "12356/12356 [==============================] - 0s - loss: 1.7319 - acc: 0.6397     \n",
      "Epoch 1/1\n",
      "12356/12356 [==============================] - 0s - loss: 2.9893 - acc: 0.5631     \n",
      "Epoch 1/1\n",
      "12356/12356 [==============================] - 0s - loss: 14.3023 - acc: 0.0428     \n",
      "Epoch 1/1\n",
      "12356/12356 [==============================] - 0s - loss: 0.5295 - acc: 0.8287     \n",
      "Epoch 1/1\n",
      "12356/12356 [==============================] - 0s - loss: 0.5505 - acc: 0.8110     \n",
      "Epoch 1/1\n",
      "12356/12356 [==============================] - 0s - loss: 0.5534 - acc: 0.8062     \n",
      "Epoch 1/1\n",
      "12356/12356 [==============================] - 0s - loss: 0.4446 - acc: 0.8617     \n",
      "Epoch 1/1\n",
      "12356/12356 [==============================] - 0s - loss: 0.4364 - acc: 0.8734     \n",
      "Epoch 1/1\n",
      "12356/12356 [==============================] - 0s - loss: 0.3531 - acc: 0.8889     \n",
      "Epoch 1/1\n",
      "12356/12356 [==============================] - 0s - loss: 14.3023 - acc: 0.0000e+00     \n",
      "Epoch 1/1\n",
      "12356/12356 [==============================] - 0s - loss: 14.3012 - acc: 0.1126     \n",
      "Epoch 1/1\n",
      "12356/12356 [==============================] - 0s - loss: 1.5501 - acc: 0.1847     \n",
      "Epoch 1/1\n",
      "12356/12356 [==============================] - 0s - loss: 0.9910 - acc: 0.1527     \n",
      "Epoch 1/1\n",
      "12356/12356 [==============================] - 0s - loss: 0.3974 - acc: 0.8881     \n",
      "Epoch 1/1\n",
      "12356/12356 [==============================] - 0s - loss: 0.4728 - acc: 0.8939     \n",
      "Epoch 1/5\n",
      "18534/18534 [==============================] - 1s - loss: 0.4246 - acc: 0.8705     \n",
      "Epoch 2/5\n",
      "18534/18534 [==============================] - 1s - loss: 0.2249 - acc: 0.9094     \n",
      "Epoch 3/5\n",
      "18534/18534 [==============================] - 1s - loss: 0.2106 - acc: 0.9105     \n",
      "Epoch 4/5\n",
      "18534/18534 [==============================] - 1s - loss: 0.2100 - acc: 0.9124     \n",
      "Epoch 5/5\n",
      "18534/18534 [==============================] - 1s - loss: 0.2103 - acc: 0.9101     \n",
      "\n",
      "Start Cross Validation Sample 0 \n",
      "\n",
      " AUC (Linear Regression)\n",
      " 0.933102340573\n",
      " AUC (Logistic Regression - L2)\n",
      " 0.935011817828\n",
      " AUC (Logistic Regression - L1)\n",
      " 0.93500158235\n",
      " AUC (Decision Tree)\n",
      " 0.927446780172\n",
      " AUC (Random Forest)\n",
      " 0.928474856074\n",
      " AUC (Multi Layer Perceptron)\n",
      " 0.933063771893\n",
      " AUC (Gradient Boosting - XGBoost)\n",
      " 0.942437417112\n",
      "\n",
      "End Cross Validation Sample 0 \n",
      "\n",
      " AUC (Weighted Average)\n",
      " [0.94514868320789858]\n",
      "\n",
      "Start Test Sample 0 \n",
      "\n",
      " AUC (Linear Regression)\n",
      " [0.93157519222604834]\n",
      " AUC (Logistic Regression - L2)\n",
      " [0.93254339827350341]\n",
      " AUC (Logistic Regression - L1)\n",
      " [0.93253160526439938]\n",
      " AUC (Decision Tree)\n",
      " [0.9279983725647436]\n",
      " AUC (Random Forest)\n",
      " [0.92608495683758663]\n",
      " AUC (Multi Layer Perceptron)\n",
      " [0.92986815415821511]\n",
      " AUC (Weighted Average)\n",
      " [0.94348436246992773]\n",
      " AUC (Gradient Boosting - XGBoost)\n",
      " [0.94066937119675464]\n",
      " AUC (Stacking)\n",
      " [0.94369781593471402]\n",
      " AUC (Blending)\n",
      " [0.943611137317798]\n",
      "\n",
      "End Test Sample 0 \n",
      "\n",
      "\n",
      "END\n",
      "\n"
     ]
    }
   ],
   "source": [
    "print('HELMERT ENCODING\\n')\n",
    "sample_generation_helmert_encode(1)\n",
    "print('\\nEND\\n')"
   ]
  },
  {
   "cell_type": "code",
   "execution_count": 74,
   "metadata": {
    "collapsed": false
   },
   "outputs": [
    {
     "name": "stdout",
     "output_type": "stream",
     "text": [
      "SUM ENCODING\n",
      "\n",
      "Epoch 1/1\n",
      "12356/12356 [==============================] - 0s - loss: 0.5020 - acc: 0.8592     \n",
      "Epoch 1/1\n",
      "12356/12356 [==============================] - 0s - loss: 1.0072 - acc: 0.1506     \n",
      "Epoch 1/1\n",
      "12356/12356 [==============================] - 0s - loss: 0.3967 - acc: 0.8961     \n",
      "Epoch 1/1\n",
      "12356/12356 [==============================] - 0s - loss: 0.8387 - acc: 0.7273     \n",
      "Epoch 1/1\n",
      "12356/12356 [==============================] - 0s - loss: 0.6300 - acc: 0.8257     \n",
      "Epoch 1/1\n",
      "12356/12356 [==============================] - 0s - loss: 0.7939 - acc: 0.7388     \n",
      "Epoch 1/1\n",
      "12356/12356 [==============================] - 0s - loss: 0.3502 - acc: 0.8822     \n",
      "Epoch 1/1\n",
      "12356/12356 [==============================] - 0s - loss: 0.5083 - acc: 0.8329     \n",
      "Epoch 1/1\n",
      "12356/12356 [==============================] - 0s - loss: 0.4061 - acc: 0.8848     \n",
      "Epoch 1/1\n",
      "12356/12356 [==============================] - 0s - loss: 0.3611 - acc: 0.8359     \n",
      "Epoch 1/1\n",
      "12356/12356 [==============================] - 0s - loss: 1.8158 - acc: 0.0000e+00     \n",
      "Epoch 1/1\n",
      "12356/12356 [==============================] - 0s - loss: 0.5455 - acc: 0.6841     \n",
      "Epoch 1/1\n",
      "12356/12356 [==============================] - 0s - loss: 0.2591 - acc: 0.8960     \n",
      "Epoch 1/1\n",
      "12356/12356 [==============================] - 0s - loss: 1.8158 - acc: 0.0000e+00     \n",
      "Epoch 1/1\n",
      "12356/12356 [==============================] - 0s - loss: 1.8158 - acc: 0.3644     \n",
      "Epoch 1/5\n",
      "18534/18534 [==============================] - 1s - loss: 0.5445 - acc: 0.7931     \n",
      "Epoch 2/5\n",
      "18534/18534 [==============================] - 1s - loss: 0.4692 - acc: 0.7627     \n",
      "Epoch 3/5\n",
      "18534/18534 [==============================] - 1s - loss: 0.3893 - acc: 0.8253     \n",
      "Epoch 4/5\n",
      "18534/18534 [==============================] - 1s - loss: 0.3944 - acc: 0.8441     \n",
      "Epoch 5/5\n",
      "18534/18534 [==============================] - 1s - loss: 0.3661 - acc: 0.8415     \n",
      "\n",
      "Start Cross Validation Sample 0 \n",
      "\n",
      " AUC (Linear Regression)\n",
      " 0.933327375499\n",
      " AUC (Logistic Regression - L2)\n",
      " 0.9329344962\n",
      " AUC (Logistic Regression - L1)\n",
      " 0.932350273152\n",
      " AUC (Decision Tree)\n",
      " 0.936038714394\n",
      " AUC (Random Forest)\n",
      " 0.935058758343\n",
      " AUC (Multi Layer Perceptron)\n",
      " 0.851972386863\n",
      " AUC (Gradient Boosting - XGBoost)\n",
      " 0.947059514516\n",
      "\n",
      "End Cross Validation Sample 0 \n",
      "\n",
      " AUC (Weighted Average)\n",
      " [0.94546478913924603]\n",
      "\n",
      "Start Test Sample 0 \n",
      "\n",
      " AUC (Linear Regression)\n",
      " [0.92593341667059781]\n",
      " AUC (Logistic Regression - L2)\n",
      " [0.92842970187272988]\n",
      " AUC (Logistic Regression - L1)\n",
      " [0.92989616255483742]\n",
      " AUC (Decision Tree)\n",
      " [0.93794724987027689]\n",
      " AUC (Random Forest)\n",
      " [0.93050939902825613]\n",
      " AUC (Multi Layer Perceptron)\n",
      " [0.85445539883956789]\n",
      " AUC (Weighted Average)\n",
      " [0.94487180999103726]\n",
      " AUC (Gradient Boosting - XGBoost)\n",
      " [0.94857540450021227]\n",
      " AUC (Stacking)\n",
      " [0.948123142601066]\n",
      " AUC (Blending)\n",
      " [0.94896870135383748]\n",
      "\n",
      "End Test Sample 0 \n",
      "\n",
      "\n",
      "END\n",
      "\n"
     ]
    }
   ],
   "source": [
    "print('SUM ENCODING\\n')\n",
    "sample_generation_sum_encode(1)\n",
    "print('\\nEND\\n')"
   ]
  },
  {
   "cell_type": "code",
   "execution_count": 75,
   "metadata": {
    "collapsed": false
   },
   "outputs": [
    {
     "name": "stdout",
     "output_type": "stream",
     "text": [
      "POLYNOMIAL ENCODING\n",
      "\n",
      "Epoch 1/1\n",
      "12356/12356 [==============================] - 0s - loss: 3.9543 - acc: 0.5427     \n",
      "Epoch 1/1\n",
      "12356/12356 [==============================] - 0s - loss: 4.8069 - acc: 0.4325     \n",
      "Epoch 1/1\n",
      "12356/12356 [==============================] - 0s - loss: 3.9563 - acc: 0.5197     \n",
      "Epoch 1/1\n",
      "12356/12356 [==============================] - 0s - loss: 0.5552 - acc: 0.7931     \n",
      "Epoch 1/1\n",
      "12356/12356 [==============================] - 0s - loss: 0.5553 - acc: 0.8067     \n",
      "Epoch 1/1\n",
      "12356/12356 [==============================] - 0s - loss: 0.5832 - acc: 0.7689     \n",
      "Epoch 1/1\n",
      "12356/12356 [==============================] - 0s - loss: 0.9012 - acc: 0.6210     \n",
      "Epoch 1/1\n",
      "12356/12356 [==============================] - 0s - loss: 14.2998 - acc: 0.0366     \n",
      "Epoch 1/1\n",
      "12356/12356 [==============================] - 0s - loss: 4.1440 - acc: 0.3758     \n",
      "Epoch 1/1\n",
      "12356/12356 [==============================] - 0s - loss: 0.8121 - acc: 0.4261     \n",
      "Epoch 1/1\n",
      "12356/12356 [==============================] - 0s - loss: 0.5005 - acc: 0.7988     \n",
      "Epoch 1/1\n",
      "12356/12356 [==============================] - 0s - loss: 0.4628 - acc: 0.8481     \n",
      "Epoch 1/1\n",
      "12356/12356 [==============================] - 0s - loss: 5.0721 - acc: 0.3976     \n",
      "Epoch 1/1\n",
      "12356/12356 [==============================] - 0s - loss: 5.3773 - acc: 0.3440     \n",
      "Epoch 1/1\n",
      "12356/12356 [==============================] - 0s - loss: 5.8964 - acc: 0.3792     \n",
      "Epoch 1/5\n",
      "18534/18534 [==============================] - 1s - loss: 0.4250 - acc: 0.8616     \n",
      "Epoch 2/5\n",
      "18534/18534 [==============================] - 1s - loss: 0.2327 - acc: 0.9066     \n",
      "Epoch 3/5\n",
      "18534/18534 [==============================] - 1s - loss: 0.2195 - acc: 0.9061     \n",
      "Epoch 4/5\n",
      "18534/18534 [==============================] - 1s - loss: 0.2195 - acc: 0.9065     \n",
      "Epoch 5/5\n",
      "18534/18534 [==============================] - 1s - loss: 0.2192 - acc: 0.9078     \n",
      "\n",
      "Start Cross Validation Sample 0 \n",
      "\n",
      " AUC (Linear Regression)\n",
      " 0.933627713261\n",
      " AUC (Logistic Regression - L2)\n",
      " 0.93422205531\n",
      " AUC (Logistic Regression - L1)\n",
      " 0.934641971995\n",
      " AUC (Decision Tree)\n",
      " 0.933300541947\n",
      " AUC (Random Forest)\n",
      " 0.925111067315\n",
      " AUC (Multi Layer Perceptron)\n",
      " 0.933032148196\n",
      " AUC (Gradient Boosting - XGBoost)\n",
      " 0.945946147814\n",
      "\n",
      "End Cross Validation Sample 0 \n",
      "\n",
      " AUC (Weighted Average)\n",
      " [0.94526581609987459]\n",
      "\n",
      "Start Test Sample 0 \n",
      "\n",
      " AUC (Linear Regression)\n",
      " [0.93542619934902593]\n",
      " AUC (Logistic Regression - L2)\n",
      " [0.93464609179678282]\n",
      " AUC (Logistic Regression - L1)\n",
      " [0.93573222793527999]\n",
      " AUC (Decision Tree)\n",
      " [0.93256698429171192]\n",
      " AUC (Random Forest)\n",
      " [0.93134139582055753]\n",
      " AUC (Multi Layer Perceptron)\n",
      " [0.90567302702957697]\n",
      " AUC (Weighted Average)\n",
      " [0.9448535308269258]\n",
      " AUC (Gradient Boosting - XGBoost)\n",
      " [0.94649924524741724]\n",
      " AUC (Stacking)\n",
      " [0.93495212038303688]\n",
      " AUC (Blending)\n",
      " [0.94668557479126381]\n",
      "\n",
      "End Test Sample 0 \n",
      "\n",
      "\n",
      "END\n",
      "\n"
     ]
    }
   ],
   "source": [
    "print('POLYNOMIAL ENCODING\\n')\n",
    "sample_generation_polynomial_encode(1)\n",
    "print('\\nEND\\n')"
   ]
  },
  {
   "cell_type": "code",
   "execution_count": 76,
   "metadata": {
    "collapsed": false
   },
   "outputs": [],
   "source": [
    "#(Parallel(n_jobs=-1)(delayed(sample_generation)(n) for n in range(4)))"
   ]
  },
  {
   "cell_type": "code",
   "execution_count": null,
   "metadata": {
    "collapsed": true
   },
   "outputs": [],
   "source": []
  }
 ],
 "metadata": {
  "kernelspec": {
   "display_name": "Python 3",
   "language": "python",
   "name": "python3"
  },
  "language_info": {
   "codemirror_mode": {
    "name": "ipython",
    "version": 3
   },
   "file_extension": ".py",
   "mimetype": "text/x-python",
   "name": "python",
   "nbconvert_exporter": "python",
   "pygments_lexer": "ipython3",
   "version": "3.5.1"
  }
 },
 "nbformat": 4,
 "nbformat_minor": 0
}
