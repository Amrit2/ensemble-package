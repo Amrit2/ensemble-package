{
 "cells": [
  {
   "cell_type": "code",
   "execution_count": 1,
   "metadata": {
    "collapsed": false
   },
   "outputs": [
    {
     "ename": "ImportError",
     "evalue": "No module named 'ensembles'",
     "output_type": "error",
     "traceback": [
      "\u001b[1;31m---------------------------------------------------------------------------\u001b[0m",
      "\u001b[1;31mImportError\u001b[0m                               Traceback (most recent call last)",
      "\u001b[1;32m<ipython-input-1-0d38adbc6cf1>\u001b[0m in \u001b[0;36m<module>\u001b[1;34m()\u001b[0m\n\u001b[1;32m----> 1\u001b[1;33m \u001b[1;32mimport\u001b[0m \u001b[0mensembles\u001b[0m \u001b[1;32mas\u001b[0m \u001b[0men\u001b[0m\u001b[1;33m\u001b[0m\u001b[0m\n\u001b[0m\u001b[0;32m      2\u001b[0m \u001b[1;32mimport\u001b[0m \u001b[0mpandas\u001b[0m \u001b[1;32mas\u001b[0m \u001b[0mpd\u001b[0m\u001b[1;33m\u001b[0m\u001b[0m\n",
      "\u001b[1;31mImportError\u001b[0m: No module named 'ensembles'"
     ]
    }
   ],
   "source": [
    "import ensemble as en\n",
    "import pandas as pd"
   ]
  },
  {
   "cell_type": "code",
   "execution_count": 2,
   "metadata": {
    "collapsed": false
   },
   "outputs": [],
   "source": [
    "Data = pd.read_csv('/home/prajwal/Desktop/bank-additional/bank-additional-full.csv',delimiter=';',header=0)"
   ]
  },
  {
   "cell_type": "code",
   "execution_count": 3,
   "metadata": {
    "collapsed": false
   },
   "outputs": [],
   "source": [
    "data_test = en.data_import(Data,label_output='y')"
   ]
  },
  {
   "cell_type": "code",
   "execution_count": 4,
   "metadata": {
    "collapsed": false
   },
   "outputs": [
    {
     "name": "stdout",
     "output_type": "stream",
     "text": [
      "\n",
      "TRAINING BASE MODELS\n",
      "\n",
      "\n",
      "TESTING/CROSS VALIDATION BASE MODELS\n",
      "\n",
      "gradient_boosting \n",
      " 0.944622389455\n",
      "decision_tree \n",
      " 0.916402541074\n",
      "random_forest \n",
      " 0.918898135611\n",
      "linear_regression \n",
      " 0.927471266293\n",
      "logistic_regression \n",
      " 0.9306010607\n",
      "logistic_regression \n",
      " 0.93055927812\n",
      "gradient_boosting \n",
      " 0.914745823282\n",
      "\n",
      "TRAINING ENSEMBLE MODELS\n",
      "\n",
      "Weighted Average\n",
      "Weight [9, 5, 5, 1, 3, 4, 1]\n",
      "Metric Score 0.945795791589\n",
      "\n",
      "TESTING PHASE\n",
      "\n",
      "\n",
      "TESTING/CROSS VALIDATION BASE MODELS\n",
      "\n",
      "gradient_boosting \n",
      " 0.947242303096\n",
      "decision_tree \n",
      " 0.920456808759\n",
      "random_forest \n",
      " 0.922676056523\n",
      "linear_regression \n",
      " 0.92833735606\n",
      "logistic_regression \n",
      " 0.929823471757\n",
      "logistic_regression \n",
      " 0.929765620496\n",
      "gradient_boosting \n",
      " 0.913148877568\n",
      "\n",
      "TESTING ENSEMBLE MODELS\n",
      "\n",
      "Stacking linear_regression \n",
      " 0.948932994743\n",
      "Stacking gradient_boosting \n",
      " 0.945369147392\n",
      "Blending gradient_boosting \n",
      " 0.947733481925\n",
      "Blending logistic_regression \n",
      " 0.945322237422\n",
      "Weighted Average [9, 5, 5, 1, 3, 4, 1] \n",
      " 0.948145614835\n",
      "CPU times: user 2.36 s, sys: 176 ms, total: 2.53 s\n",
      "Wall time: 19.9 s\n"
     ]
    }
   ],
   "source": [
    "%%time\n",
    "\n",
    "data_test = en.data_import(Data,label_output='y')\n",
    "en.metric_set('roc_auc_score')\n",
    "param_gb_1 = en.parameter_set_gradient_boosting(eval_metric = ['auc'], objective = ['binary:logistic'])\n",
    "param_dt = en.parameter_set_decision_tree(max_depth = [6])\n",
    "param_rf = en.parameter_set_random_forest()\n",
    "param_lr = en.parameter_set_linear_regression()\n",
    "param_l2 = en.parameter_set_logistic_regression()\n",
    "param_l1 = en.parameter_set_logistic_regression(penalty = ['l1'])\n",
    "param_gb_2 = en.parameter_set_gradient_boosting(eval_metric = ['auc'], objective = ['binary:logistic'],\n",
    "                                                booster=['gblinear'], eta = [0.1,0.3,0.5,0.7],\n",
    "                                               hyper_parameter_optimisation = True)\n",
    "\n",
    "en.train_base_models(['gradient_boosting','decision_tree',\\\n",
    "                                     'random_forest','linear_regression','logistic_regression',\\\n",
    "                                     'logistic_regression','gradient_boosting'],[param_gb_1, param_dt, param_rf\n",
    "                                                                                 ,param_lr, param_l2, param_l1,\n",
    "                                                                                 param_gb_2])\n",
    "\n",
    "weights = en.assign_weights(weights = 'default', hyper_parameter_optimisation = True)\n",
    "\n",
    "\n",
    "en.train_ensemble_models(['linear_regression', 'gradient_boosting'], [param_lr, param_gb_1],\n",
    "                      ['gradient_boosting','logistic_regression'],[param_gb_1,param_l2], \n",
    "                      perform_weighted_average = True, weights_list = weights)\n",
    "\n",
    "en.test_models(data_test)"
   ]
  },
  {
   "cell_type": "code",
   "execution_count": null,
   "metadata": {
    "collapsed": true
   },
   "outputs": [],
   "source": []
  }
 ],
 "metadata": {
  "kernelspec": {
   "display_name": "Python 3",
   "language": "python",
   "name": "python3"
  },
  "language_info": {
   "codemirror_mode": {
    "name": "ipython",
    "version": 3
   },
   "file_extension": ".py",
   "mimetype": "text/x-python",
   "name": "python",
   "nbconvert_exporter": "python",
   "pygments_lexer": "ipython3",
   "version": "3.5.2"
  }
 },
 "nbformat": 4,
 "nbformat_minor": 0
}
