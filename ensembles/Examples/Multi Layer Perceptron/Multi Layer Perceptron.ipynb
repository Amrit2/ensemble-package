{
 "cells": [
  {
   "cell_type": "code",
   "execution_count": 1,
   "metadata": {
    "collapsed": false
   },
   "outputs": [
    {
     "name": "stderr",
     "output_type": "stream",
     "text": [
      "/home/prajwal/anaconda3/lib/python3.5/site-packages/sklearn/cross_validation.py:44: DeprecationWarning: This module was deprecated in version 0.18 in favor of the model_selection module into which all the refactored classes and functions are moved. Also note that the interface of the new CV iterators are different from that of this module. This module will be removed in 0.20.\n",
      "  \"This module will be removed in 0.20.\", DeprecationWarning)\n",
      "/home/prajwal/anaconda3/lib/python3.5/site-packages/sklearn/grid_search.py:43: DeprecationWarning: This module was deprecated in version 0.18 in favor of the model_selection module into which all the refactored classes and functions are moved. This module will be removed in 0.20.\n",
      "  DeprecationWarning)\n",
      "Using Theano backend.\n"
     ]
    }
   ],
   "source": [
    "import ensembles as en\n",
    "import pandas as pd\n",
    "import numpy as np\n",
    "import xgboost as xgb\n",
    "import category_encoders as ce\n",
    "from sklearn import datasets, linear_model, preprocessing, grid_search\n",
    "from sklearn.preprocessing import Imputer, PolynomialFeatures, StandardScaler\n",
    "from sklearn.tree import DecisionTreeClassifier\n",
    "from sklearn.cross_validation import KFold\n",
    "from sklearn.ensemble import RandomForestClassifier\n",
    "from sklearn.cross_validation import StratifiedKFold, KFold\n",
    "from sklearn.preprocessing import OneHotEncoder\n",
    "from sklearn.externals import joblib\n",
    "from keras.layers import Dense, Activation, Dropout\n",
    "from keras.models import Sequential\n",
    "from keras.regularizers import l2, activity_l2\n",
    "from sklearn.metrics import roc_auc_score, average_precision_score, f1_score, log_loss, accuracy_score, \\\n",
    "mean_absolute_error, mean_squared_error, r2_score\n",
    "from sklearn.cross_validation import train_test_split\n",
    "from joblib import Parallel, delayed\n",
    "from sklearn.pipeline import Pipeline\n",
    "from hyperopt import hp, fmin, tpe, STATUS_OK, Trials \n",
    "from hyperas import optim\n",
    "from hyperas.distributions import choice, uniform, conditional\n",
    "from functools import partial\n",
    "np.random.seed(1338)"
   ]
  },
  {
   "cell_type": "code",
   "execution_count": 2,
   "metadata": {
    "collapsed": true
   },
   "outputs": [],
   "source": [
    "#Setting the parameters for the Multi Layer Perceptron Model (Number Of Layers = 3)\n",
    "en.set_no_of_layers(3)"
   ]
  },
  {
   "cell_type": "markdown",
   "metadata": {},
   "source": [
    "# Example 1"
   ]
  },
  {
   "cell_type": "code",
   "execution_count": 3,
   "metadata": {
    "collapsed": false
   },
   "outputs": [
    {
     "name": "stdout",
     "output_type": "stream",
     "text": [
      "{'b_regularizer0': None, 'init_layer2': 'glorot_uniform', 'b_constraint2': None, 'dim_layer0': 32, 'W_regularizer0': None, 'dropout1': 0, 'b_regularizer2': None, 'weights0': None, 'optimizer': 'rmsprop', 'init_layer0': 'glorot_uniform', 'init_layer1': 'glorot_uniform', 'W_regularizer1': None, 'dim_layer2': 1, 'weights1': None, 'activity_regularizer0': None, 'b_constraint0': None, 'bias1': True, 'activation_layer0': 'sigmoid', 'b_regularizer1': None, 'activity_regularizer2': None, 'weights2': None, 'dim_layer1': 32, 'b_constraint1': None, 'W_constraint2': None, 'activity_regularizer1': None, 'bias0': True, 'W_constraint1': None, 'dropout2': 0, 'W_regularizer2': None, 'activation_layer1': 'sigmoid', 'dropout0': 0, 'W_constraint0': None, 'activation_layer2': 'sigmoid', 'bias2': True, 'hyper_parameter_optimisation': False}\n"
     ]
    }
   ],
   "source": [
    "#Default Values\n",
    "param_mlp = en.parameter_set_multi_layer_perceptron(hyper_parameter_optimisation = False)\n",
    "print(param_mlp)"
   ]
  },
  {
   "cell_type": "markdown",
   "metadata": {},
   "source": [
    "# Example 2"
   ]
  },
  {
   "cell_type": "code",
   "execution_count": 4,
   "metadata": {
    "collapsed": false
   },
   "outputs": [
    {
     "name": "stdout",
     "output_type": "stream",
     "text": [
      "{'b_regularizer0': None, 'init_layer2': 'glorot_uniform', 'b_constraint2': None, 'dim_layer0': 32, 'W_regularizer0': None, 'dropout1': 0, 'b_regularizer2': None, 'weights0': None, 'optimizer': 'rmsprop', 'init_layer0': 'glorot_uniform', 'init_layer1': 'glorot_uniform', 'W_regularizer1': None, 'dim_layer2': 1, 'weights1': None, 'activity_regularizer0': None, 'b_constraint0': None, 'bias1': True, 'activation_layer0': 'sigmoid', 'b_regularizer1': None, 'activity_regularizer2': None, 'weights2': None, 'dim_layer1': 64, 'b_constraint1': None, 'W_constraint2': None, 'activity_regularizer1': None, 'bias0': True, 'W_constraint1': None, 'dropout2': 0, 'W_regularizer2': None, 'activation_layer1': 'sigmoid', 'dropout0': 0, 'W_constraint0': None, 'activation_layer2': 'relu', 'bias2': True, 'hyper_parameter_optimisation': False}\n"
     ]
    }
   ],
   "source": [
    "#Setting dim_layer, activation, rest are deafault values\n",
    "param_mlp = en.parameter_set_multi_layer_perceptron(hyper_parameter_optimisation = False, \\\n",
    "                                                    dim_layer = [[32], [64], [1]], \\\n",
    "                                                   activation = [['sigmoid'], ['sigmoid'], ['relu']])\n",
    "print(param_mlp)"
   ]
  },
  {
   "cell_type": "markdown",
   "metadata": {},
   "source": [
    "# Example 3"
   ]
  },
  {
   "cell_type": "code",
   "execution_count": 5,
   "metadata": {
    "collapsed": false
   },
   "outputs": [
    {
     "name": "stdout",
     "output_type": "stream",
     "text": [
      "{'b_regularizer0': [None], 'init_layer2': ['glorot_uniform'], 'b_constraint2': [None], 'dim_layer0': [32, 64, 128], 'W_regularizer0': [None], 'dropout1': [0], 'b_regularizer2': [None], 'weights0': [None], 'optimizer': 'sgd', 'init_layer0': ['glorot_uniform'], 'init_layer1': ['glorot_uniform'], 'W_regularizer1': [None], 'dim_layer2': [1], 'weights1': [None], 'activity_regularizer0': [None], 'b_constraint0': [None], 'bias1': [True], 'activation_layer0': ['sigmoid', 'relu'], 'b_regularizer1': [None], 'activity_regularizer2': [None], 'weights2': [None], 'dim_layer1': [32, 64], 'b_constraint1': [None], 'W_constraint2': [None], 'activity_regularizer1': [None], 'bias0': [True], 'W_constraint1': [None], 'dropout2': [0], 'W_regularizer2': [None], 'activation_layer1': ['sigmoid'], 'dropout0': [0], 'W_constraint0': [None], 'activation_layer2': ['relu'], 'bias2': [True], 'hyper_parameter_optimisation': True}\n"
     ]
    }
   ],
   "source": [
    "#Setting dim_layer, activation, rest are default values\n",
    "#Hyper parameter optimisation : dim_layer - Layer1 and Layer 2\n",
    "#Hyper parameter optimisation : activation - Layer1 \n",
    "param_mlp = en.parameter_set_multi_layer_perceptron(hyper_parameter_optimisation = True, \\\n",
    "                                                    dim_layer = [[32,64,128], [32,64], [1]], \\\n",
    "                                                   activation = [['sigmoid','relu'], ['sigmoid'], ['relu']], \\\n",
    "                                                   optimizer = 'sgd')\n",
    "print(param_mlp)"
   ]
  },
  {
   "cell_type": "markdown",
   "metadata": {},
   "source": [
    "# Example 4"
   ]
  },
  {
   "cell_type": "code",
   "execution_count": 6,
   "metadata": {
    "collapsed": false
   },
   "outputs": [
    {
     "name": "stdout",
     "output_type": "stream",
     "text": [
      "{'b_regularizer0': [None], 'init_layer2': ['glorot_uniform'], 'b_constraint2': [None], 'dim_layer0': [32, 64, 128], 'W_regularizer0': [None], 'dropout1': [0], 'b_regularizer2': [None], 'weights0': [None], 'optimizer': ['rmsprop'], 'init_layer0': ['glorot_uniform'], 'init_layer1': ['normal'], 'W_regularizer1': [None], 'dim_layer2': [1], 'weights1': [None], 'activity_regularizer0': [None], 'b_constraint0': [None], 'bias1': [True], 'activation_layer0': ['sigmoid', 'relu'], 'b_regularizer1': [None], 'activity_regularizer2': [None], 'weights2': [None], 'dim_layer1': [64], 'b_constraint1': [None], 'W_constraint2': [None], 'activity_regularizer1': [None], 'bias0': [True], 'W_constraint1': [None], 'dropout2': [0], 'W_regularizer2': [None], 'activation_layer1': ['sigmoid'], 'dropout0': [0], 'W_constraint0': [None], 'activation_layer2': ['relu'], 'bias2': [True], 'hyper_parameter_optimisation': True}\n"
     ]
    }
   ],
   "source": [
    "#Setting dim_layer, activation, init_layer, rest are default values\n",
    "#Hyper parameter optimisation : dim_layer - Layer1 \n",
    "#Hyper parameter optimisation : activation - Layer1 \n",
    "param_mlp = en.parameter_set_multi_layer_perceptron(hyper_parameter_optimisation = True, \\\n",
    "                                                    dim_layer = [[32,64,128], [64], [1]], \\\n",
    "                                                   activation = [['sigmoid','relu'], ['sigmoid'], ['relu']],\\\n",
    "                                                   init_layer = [['glorot_uniform'],['normal'],['glorot_uniform']])\n",
    "print(param_mlp)"
   ]
  },
  {
   "cell_type": "markdown",
   "metadata": {},
   "source": [
    "# Example 5"
   ]
  },
  {
   "cell_type": "code",
   "execution_count": 7,
   "metadata": {
    "collapsed": false
   },
   "outputs": [
    {
     "name": "stdout",
     "output_type": "stream",
     "text": [
      "{'b_regularizer0': [None], 'init_layer2': ['glorot_uniform', 'glorot_uniform'], 'b_constraint2': [None], 'dim_layer0': [32, 64, 128], 'W_regularizer0': [None], 'dropout1': [0], 'b_regularizer2': [None], 'weights0': [None], 'optimizer': ['rmsprop'], 'init_layer0': ['glorot_uniform', 'uniform'], 'init_layer1': ['normal'], 'W_regularizer1': [None], 'dim_layer2': [1], 'weights1': [None], 'activity_regularizer0': [None], 'b_constraint0': [None], 'bias1': [True], 'activation_layer0': ['sigmoid', 'relu'], 'b_regularizer1': [None], 'activity_regularizer2': [None], 'weights2': [None], 'dim_layer1': [64], 'b_constraint1': [None], 'W_constraint2': [None], 'activity_regularizer1': [None], 'bias0': [True], 'W_constraint1': [None], 'dropout2': [0], 'W_regularizer2': [None], 'activation_layer1': ['sigmoid'], 'dropout0': [0], 'W_constraint0': [None], 'activation_layer2': ['relu'], 'bias2': [True], 'hyper_parameter_optimisation': True}\n"
     ]
    }
   ],
   "source": [
    "#Setting dim_layer, activation, init_layer, rest are default values\n",
    "#Hyper parameter optimisation : dim_layer - Layer1 \n",
    "#Hyper parameter optimisation : activation - Layer1 \n",
    "#Hyper parameter optimisation : init_layer - Layer1 and Layer3\n",
    "param_mlp = en.parameter_set_multi_layer_perceptron(hyper_parameter_optimisation = True, \\\n",
    "                                                    dim_layer = [[32,64,128], [64], [1]], \\\n",
    "                                                   activation = [['sigmoid','relu'], ['sigmoid'], ['relu']],\\\n",
    "                                                   init_layer = [['glorot_uniform','uniform'],\\\n",
    "                                                                 ['normal'], ['glorot_uniform','glorot_uniform']])\n",
    "print(param_mlp)"
   ]
  }
 ],
 "metadata": {
  "kernelspec": {
   "display_name": "Python 3",
   "language": "python",
   "name": "python3"
  },
  "language_info": {
   "codemirror_mode": {
    "name": "ipython",
    "version": 3
   },
   "file_extension": ".py",
   "mimetype": "text/x-python",
   "name": "python",
   "nbconvert_exporter": "python",
   "pygments_lexer": "ipython3",
   "version": "3.5.2"
  }
 },
 "nbformat": 4,
 "nbformat_minor": 0
}
