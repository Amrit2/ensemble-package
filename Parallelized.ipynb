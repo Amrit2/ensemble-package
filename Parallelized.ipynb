{
 "cells": [
  {
   "cell_type": "code",
   "execution_count": 1,
   "metadata": {
    "collapsed": false
   },
   "outputs": [
    {
     "name": "stderr",
     "output_type": "stream",
     "text": [
      "Using Theano backend.\n"
     ]
    }
   ],
   "source": [
    "import pandas as pd\n",
    "import numpy as np\n",
    "import matplotlib.pyplot as plt\n",
    "from sklearn import datasets, linear_model, preprocessing\n",
    "from sklearn.preprocessing import Imputer, PolynomialFeatures\n",
    "from sklearn.tree import DecisionTreeClassifier\n",
    "from sklearn.cross_validation import KFold\n",
    "from sklearn.ensemble import RandomForestClassifier\n",
    "from sklearn.cross_validation import StratifiedKFold, KFold\n",
    "from keras.layers import Dense, Activation, LSTM\n",
    "from keras.models import Sequential\n",
    "from keras.regularizers import l2, activity_l2\n",
    "from sklearn.ensemble import GradientBoostingClassifier\n",
    "import xgboost as xgb\n",
    "from sklearn.metrics import roc_auc_score\n",
    "from sklearn.cross_validation import train_test_split\n",
    "from joblib import Parallel, delayed"
   ]
  },
  {
   "cell_type": "code",
   "execution_count": 2,
   "metadata": {
    "collapsed": false
   },
   "outputs": [],
   "source": [
    "#Reading the data, into a Data Frame.\n",
    "Data = pd.read_csv('/home/prajwal/Desktop/bank-additional/bank-additional-full.csv',delimiter=';',header=0)\n",
    "\n",
    "#Encoding the data, encoding the string values into numerical values.\n",
    "encode = preprocessing.LabelEncoder()\n",
    "\n",
    "#Selcting the columns of string data type\n",
    "names = Data.select_dtypes(include=['object'])\n",
    "\n",
    "#Function that encodes the string values to numerical values.\n",
    "def enc(data,column):\n",
    "    data[column] = encode.fit_transform(data[column])\n",
    "    return data\n",
    "for column in names:\n",
    "        Data = enc(Data,column)\n",
    "        \n",
    "#Splitting the data into training and testing datasets (Stratified Split)\n",
    "Data, test = train_test_split(Data, test_size = 0.1,stratify=Data['y'])\n",
    "\n",
    "#The list of second level models.\n",
    "second_level_model_list=['Stack','Blend']\n",
    "\n",
    "model_name_list=list() #A list that contains both the models and the model names. Will be used during cross validation.\n",
    "\n",
    "#Initializing two data frames that will be used as training data for the stacked model.\n",
    "stack_X = pd.DataFrame() #The data frame will contain the predictions of the base models.\n",
    "stack_Y = pd.DataFrame() #The data frame will contain the calss labels of the base models.\n",
    "\n",
    "#Initializing two data frames that will be used as training data for the blending model.\n",
    "blend_X = pd.DataFrame() #The data frames will contain the predictions and raw features  of the base models.\n",
    "raw_features_X = pd.DataFrame() #The data frames will contain the raw features  of the data, which will be concatenated with the predictions."
   ]
  },
  {
   "cell_type": "code",
   "execution_count": 3,
   "metadata": {
    "collapsed": true
   },
   "outputs": [],
   "source": [
    "#This function is used to convert the predictions of the base models into a DataFrame.\n",
    "def build_data_frame(data):\n",
    "    data_frame = pd.DataFrame(data).T\n",
    "    return data_frame"
   ]
  },
  {
   "cell_type": "code",
   "execution_count": 4,
   "metadata": {
    "collapsed": true
   },
   "outputs": [],
   "source": [
    "#Defining the parameters for the XGBoost (Gradient Boosting) Algorithm.\n",
    "def param_set():\n",
    "    #Gradient Boosting (XGBoost)\n",
    "    param = {}\n",
    "    #Setting Parameters for the Booster\n",
    "    param['booster'] = 'gbtree'\n",
    "    param['objective'] = 'binary:logistic'\n",
    "    param[\"eval_metric\"] = \"auc\"\n",
    "    param['eta'] = 0.3\n",
    "    param['gamma'] = 0\n",
    "    param['max_depth'] = 6\n",
    "    param['min_child_weight'] = 1\n",
    "    param['max_delta_step'] = 0\n",
    "    param['subsample'] = 1\n",
    "    param['colsample_bytree'] = 1\n",
    "    param['silent'] = 1\n",
    "    param['seed'] = 0\n",
    "    param['base_score'] = 0.5\n",
    "    param['lambda_bias'] = 1\n",
    "    return param"
   ]
  },
  {
   "cell_type": "code",
   "execution_count": 5,
   "metadata": {
    "collapsed": false
   },
   "outputs": [],
   "source": [
    "#Initializing the base models.\n",
    "gradient_boosting=xgb.Booster()\n",
    "multi_layer_perceptron = Sequential()\n",
    "decision_tree = DecisionTreeClassifier(max_depth = 6)\n",
    "random_forest = RandomForestClassifier()\n",
    "linear_regression = linear_model.LinearRegression()\n",
    "logistic_regression_L1 = linear_model.LogisticRegression(penalty = 'l1')\n",
    "logistic_regression_L2 = linear_model.LogisticRegression(penalty = 'l2')\n",
    "\n",
    "#Initializing the second level models.\n",
    "stack=xgb.Booster()\n",
    "blend=xgb.Booster()"
   ]
  },
  {
   "cell_type": "code",
   "execution_count": 6,
   "metadata": {
    "collapsed": false
   },
   "outputs": [],
   "source": [
    "#Trains the Gradient Boosting model.\n",
    "def train_gradient_boosting(train_X,train_Y):\n",
    "\n",
    "    param = param_set()\n",
    "    dtrain = xgb.DMatrix(train_X,label=train_Y)\n",
    "    gradient_boosting = xgb.train(param, dtrain)\n",
    "    return gradient_boosting"
   ]
  },
  {
   "cell_type": "code",
   "execution_count": 7,
   "metadata": {
    "collapsed": true
   },
   "outputs": [],
   "source": [
    "#Trains the Multi Layer Perceptron model.\n",
    "def train_multi_layer_perceptron(train_X,train_Y):\n",
    "    \n",
    "    multi_layer_perceptron.add(Dense(output_dim = 64, input_dim = 20, init = 'uniform', activation = 'sigmoid'))\n",
    "    multi_layer_perceptron.add(Dense(output_dim = 1, input_dim = 64,activation = 'sigmoid',))\n",
    "    multi_layer_perceptron.compile(optimizer = 'rmsprop',loss = 'binary_crossentropy',metrics = ['accuracy'])\n",
    "    multi_layer_perceptron.fit(train_X.as_matrix(), train_Y.as_matrix(), nb_epoch = 5, batch_size = 128)\n",
    "    return multi_layer_perceptron"
   ]
  },
  {
   "cell_type": "code",
   "execution_count": 8,
   "metadata": {
    "collapsed": true
   },
   "outputs": [],
   "source": [
    "#Trains the Decision Tree model.\n",
    "def train_decision_tree(train_X,train_Y):\n",
    "    \n",
    "    decision_tree.fit(train_X,train_Y)\n",
    "    return decision_tree"
   ]
  },
  {
   "cell_type": "code",
   "execution_count": 9,
   "metadata": {
    "collapsed": true
   },
   "outputs": [],
   "source": [
    "#Trains the Random Forest model.\n",
    "def train_random_forest(train_X,train_Y):\n",
    "    \n",
    "    random_forest.fit(train_X,train_Y)\n",
    "    return random_forest"
   ]
  },
  {
   "cell_type": "code",
   "execution_count": 10,
   "metadata": {
    "collapsed": true
   },
   "outputs": [],
   "source": [
    "#Trains the Linear Regression model.\n",
    "def train_linear_regression(train_X,train_Y):\n",
    "    \n",
    "    #Scaling the data\n",
    "    train_X = preprocessing.StandardScaler().fit_transform(train_X)\n",
    "    linear_regression.fit(train_X,train_Y)\n",
    "    return linear_regression"
   ]
  },
  {
   "cell_type": "code",
   "execution_count": 11,
   "metadata": {
    "collapsed": true
   },
   "outputs": [],
   "source": [
    "#Trains the Logistic Regression (L1) model.\n",
    "def train_logistic_regression_L1(train_X,train_Y):\n",
    "    \n",
    "    #Scaling the data\n",
    "    train_X = preprocessing.StandardScaler().fit_transform(train_X)\n",
    "    logistic_regression_L1.fit(train_X,train_Y)\n",
    "    return logistic_regression_L1"
   ]
  },
  {
   "cell_type": "code",
   "execution_count": 12,
   "metadata": {
    "collapsed": true
   },
   "outputs": [],
   "source": [
    "#Trains the Logistic Regression (L1) model.\n",
    "def train_logistic_regression_L2(train_X,train_Y):\n",
    "    \n",
    "    #Scaling the data\n",
    "    train_X = preprocessing.StandardScaler().fit_transform(train_X)\n",
    "    logistic_regression_L2.fit(train_X,train_Y)\n",
    "    return logistic_regression_L2   "
   ]
  },
  {
   "cell_type": "code",
   "execution_count": 13,
   "metadata": {
    "collapsed": true
   },
   "outputs": [],
   "source": [
    "#Trains the Stacking model (Gradient Boosting - XGBoost)\n",
    "def train_stack_model(train_X,train_Y):\n",
    "    \n",
    "    param = param_set()\n",
    "    dtrain = xgb.DMatrix(train_X,label = train_Y)\n",
    "    stack = xgb.train(param, dtrain)\n",
    "    return stack"
   ]
  },
  {
   "cell_type": "code",
   "execution_count": 14,
   "metadata": {
    "collapsed": true
   },
   "outputs": [],
   "source": [
    "#Trains the blending model (Gradient Boosting - XGBoost)\n",
    "def train_blend_model(train_X,train_Y): \n",
    "    \n",
    "    param = param_set()\n",
    "    dtrain = xgb.DMatrix(train_X,label = train_Y)\n",
    "    blend = xgb.train(param, dtrain)\n",
    "    return blend"
   ]
  },
  {
   "cell_type": "code",
   "execution_count": 15,
   "metadata": {
    "collapsed": true
   },
   "outputs": [],
   "source": [
    "def cross_val_gradient_boosting(cross_val_X,cross_val_Y):\n",
    "    \n",
    "    predict = gradient_boosting.predict(xgb.DMatrix(cross_val_X,label=cross_val_Y))\n",
    "    auc = roc_auc_score(cross_val_Y,predict)\n",
    "    return [auc,predict]"
   ]
  },
  {
   "cell_type": "code",
   "execution_count": 16,
   "metadata": {
    "collapsed": true
   },
   "outputs": [],
   "source": [
    "def cross_val_multi_layer_perceptron(cross_val_X,cross_val_Y):\n",
    "    \n",
    "    predict = multi_layer_perceptron.predict_on_batch(cross_val_X)\n",
    "    auc = roc_auc_score(cross_val_Y,predict)\n",
    "    return [auc,predict]"
   ]
  },
  {
   "cell_type": "code",
   "execution_count": 17,
   "metadata": {
    "collapsed": true
   },
   "outputs": [],
   "source": [
    "def cross_val_decision_tree(cross_val_X,cross_val_Y):\n",
    "    \n",
    "    global decision_tree\n",
    "    predict = decision_tree.predict_proba(cross_val_X)[:,1]\n",
    "    auc = roc_auc_score(cross_val_Y,predict)\n",
    "    return [auc,predict]"
   ]
  },
  {
   "cell_type": "code",
   "execution_count": 18,
   "metadata": {
    "collapsed": true
   },
   "outputs": [],
   "source": [
    "def cross_val_random_forest(cross_val_X,cross_val_Y):\n",
    "    \n",
    "    predict = random_forest.predict_proba(cross_val_X)[:,1]\n",
    "    auc = roc_auc_score(cross_val_Y,predict)\n",
    "    return [auc,predict]"
   ]
  },
  {
   "cell_type": "code",
   "execution_count": 19,
   "metadata": {
    "collapsed": true
   },
   "outputs": [],
   "source": [
    "def cross_val_linear_regression(cross_val_X,cross_val_Y):\n",
    "    \n",
    "    cross_val_X=preprocessing.StandardScaler().fit_transform(cross_val_X)\n",
    "    predict = linear_regression.predict(cross_val_X)\n",
    "    auc = roc_auc_score(cross_val_Y,predict)\n",
    "    return [auc,predict]"
   ]
  },
  {
   "cell_type": "code",
   "execution_count": 20,
   "metadata": {
    "collapsed": true
   },
   "outputs": [],
   "source": [
    "def cross_val_logistic_regression_L1(cross_val_X,cross_val_Y):\n",
    "    \n",
    "    cross_val_X=preprocessing.StandardScaler().fit_transform(cross_val_X)\n",
    "    predict = logistic_regression_L1.predict_proba(cross_val_X)[:,1]\n",
    "    auc = roc_auc_score(cross_val_Y,predict)\n",
    "    return [auc,predict]"
   ]
  },
  {
   "cell_type": "code",
   "execution_count": 21,
   "metadata": {
    "collapsed": true
   },
   "outputs": [],
   "source": [
    "def cross_val_logistic_regression_L2(cross_val_X,cross_val_Y):\n",
    "    \n",
    "    cross_val_X=preprocessing.StandardScaler().fit_transform(cross_val_X)\n",
    "    predict = logistic_regression_L2.predict_proba(cross_val_X)[:,1]\n",
    "    auc = roc_auc_score(cross_val_Y,predict)\n",
    "    return [auc,predict]"
   ]
  },
  {
   "cell_type": "code",
   "execution_count": 22,
   "metadata": {
    "collapsed": false
   },
   "outputs": [],
   "source": [
    "def cross_val_stack(cross_val_X,cross_val_Y):\n",
    "\n",
    "    predict = stack.predict(xgb.DMatrix(cross_val_X,label=cross_val_Y))\n",
    "    auc = roc_auc_score(cross_val_Y,predict)\n",
    "    return [auc,predict]"
   ]
  },
  {
   "cell_type": "code",
   "execution_count": 23,
   "metadata": {
    "collapsed": true
   },
   "outputs": [],
   "source": [
    "def cross_val_blend(cross_val_X,cross_val_Y):\n",
    "\n",
    "    predict = blend.predict(xgb.DMatrix(cross_val_X,label=cross_val_Y))\n",
    "    auc = roc_auc_score(cross_val_Y,predict)\n",
    "    return [auc,predict]"
   ]
  },
  {
   "cell_type": "code",
   "execution_count": 24,
   "metadata": {
    "collapsed": false
   },
   "outputs": [],
   "source": [
    "#Initialzing the variables that will be used to calculate the area under the curve. (cross Validation Data)\n",
    "metric_linear_regression=list()\n",
    "avg_linear_regeression=0\n",
    "metric_logistic_regression_L2=list()\n",
    "avg_logistic_regression_L2=0\n",
    "metric_logistic_regression_L1=list()\n",
    "avg_logistic_regression_L1=0\n",
    "metric_decision_tree=list()\n",
    "avg_decision_tree=0\n",
    "metric_random_forest=list()\n",
    "avg_random_forest=0\n",
    "metric_multi_layer_perceptron=list()\n",
    "avg_multi_layer_perceptron=0\n",
    "metric_gradient_boosting=list()\n",
    "avg_gradient_boosting=0"
   ]
  },
  {
   "cell_type": "code",
   "execution_count": 25,
   "metadata": {
    "collapsed": false
   },
   "outputs": [],
   "source": [
    "#The list of base model functions (Training).\n",
    "train_base_model_list=[train_gradient_boosting,train_multi_layer_perceptron,train_decision_tree,train_random_forest,\n",
    "                 train_linear_regression,train_logistic_regression_L1,train_logistic_regression_L2]\n",
    "\n",
    "#The list of base model functions (Cross Validation).\n",
    "cross_val_base_model_list=[cross_val_gradient_boosting,cross_val_multi_layer_perceptron,cross_val_decision_tree,cross_val_random_forest,\n",
    "                 cross_val_linear_regression,cross_val_logistic_regression_L1,cross_val_logistic_regression_L2]\n",
    "\n",
    "#The list of second level model functions.\n",
    "cross_val_second_level_model=[cross_val_stack,cross_val_blend]"
   ]
  },
  {
   "cell_type": "code",
   "execution_count": 26,
   "metadata": {
    "collapsed": false
   },
   "outputs": [],
   "source": [
    "#Cross Validation using Stratified K Fold\n",
    "train, cross_val = train_test_split(Data, test_size = 0.5,stratify=Data['y'])"
   ]
  },
  {
   "cell_type": "code",
   "execution_count": 27,
   "metadata": {
    "collapsed": false
   },
   "outputs": [
    {
     "name": "stdout",
     "output_type": "stream",
     "text": [
      "Epoch 1/5\n",
      "18534/18534 [==============================] - 0s - loss: 0.3831 - acc: 0.8812     \n",
      "Epoch 2/5\n",
      "18534/18534 [==============================] - 0s - loss: 0.3062 - acc: 0.8873     \n",
      "Epoch 3/5\n",
      "18534/18534 [==============================] - 0s - loss: 0.2925 - acc: 0.8873     \n",
      "Epoch 4/5\n",
      "18534/18534 [==============================] - 0s - loss: 0.2782 - acc: 0.8873     \n",
      "Epoch 5/5\n",
      "18534/18534 [==============================] - 0s - loss: 0.2687 - acc: 0.8883     \n"
     ]
    }
   ],
   "source": [
    "#Training the base models, and calculating AUC on the cross validation data.\n",
    "    \n",
    "#Selecting the data (Traing Data & Cross Validation Data)\n",
    "train_Y=train['y']\n",
    "train_X=train.drop(['y'],axis=1)\n",
    "cross_val_Y=cross_val['y']\n",
    "cross_val_X=cross_val.drop(['y'],axis=1)\n",
    "    \n",
    "#Training the base models parallely, the resulting models are stored which will be used for cross validation.\n",
    "[gradient_boosting,multi_layer_perceptron,decision_tree,random_forest,linear_regression,logistic_regression_L1,logistic_regression_L2]=(Parallel(n_jobs=-1)(delayed(function)(train_X, train_Y) for function in train_base_model_list))\n",
    "    \n",
    "#Computing the AUC and Predictions of all the base models on the cross validation data parallely.\n",
    "auc_predict_cross_val=(Parallel(n_jobs=-1)(delayed(function)(cross_val_X,cross_val_Y) for function in cross_val_base_model_list))\n",
    "    \n",
    "#Gradient Boosting (XGBoost)\n",
    "#The AUC error (Cross Validation Data)\n",
    "auc,predict_gradient_boosting=auc_predict_cross_val[0][0],auc_predict_cross_val[0][1]\n",
    "metric_gradient_boosting.append(auc)\n",
    "    \n",
    "#Multi Layer Perceptron\n",
    "#The AUC (Cross Validation Data)\n",
    "predict_mlp=list()\n",
    "auc,predict_multi_layer_perceptron=auc_predict_cross_val[1][0],auc_predict_cross_val[1][1]\n",
    "metric_multi_layer_perceptron.append(auc)\n",
    "    \n",
    "#predict_multi_layer_perceptron returns a list of lists containing the predictions, this cannot be converted to a dataframe.\n",
    "#This inner lists are converted to floats and then used to convert it to a dataframe.\n",
    "for i in predict_multi_layer_perceptron:\n",
    "    predict_mlp.append(float(i))\n",
    "    \n",
    "#Decision Tree)\n",
    "#The AUC (Cross Validation Data)\n",
    "auc,predict_decision_tree=auc_predict_cross_val[2][0],auc_predict_cross_val[2][1]\n",
    "metric_decision_tree.append(auc)\n",
    "    \n",
    "#Random Forest (Deafult=10 Trees)\n",
    "#The AUC (Cross Validation Data)\n",
    "auc,predict_random_forest=auc_predict_cross_val[3][0],auc_predict_cross_val[3][1]\n",
    "metric_random_forest.append(auc)\n",
    "    \n",
    "#Linear Regression\n",
    "#The AUC (Cross Validation Data)\n",
    "auc,predict_linear_regression=auc_predict_cross_val[4][0],auc_predict_cross_val[4][1]\n",
    "metric_linear_regression.append(auc)\n",
    "    \n",
    "#Logistic Regression (Default=l2)\n",
    "#The AUC (Cross Validation Data)\n",
    "auc,predict_logistic_regression_L1=auc_predict_cross_val[5][0],auc_predict_cross_val[5][1]\n",
    "metric_logistic_regression_L1.append(auc)\n",
    "    \n",
    "    \n",
    "#Logistic Regression-L2\n",
    "#The AUC (Cross Validation Data)\n",
    "auc,predict_logistic_regression_L2=auc_predict_cross_val[6][0],auc_predict_cross_val[6][1]\n",
    "metric_logistic_regression_L2.append(auc)\n",
    "    \n",
    "#Building a list that contains all the predictions of the base models.\n",
    "predict_list=[predict_gradient_boosting,predict_decision_tree,predict_random_forest, \n",
    "                               predict_linear_regression,predict_logistic_regression_L2,\n",
    "                               predict_logistic_regression_L1,predict_mlp]\n",
    "    \n",
    "#Converting the above list of predictions into a dataframe, which will be used to train the stacking model.\n",
    "stack_X=stack_X.append(build_data_frame(predict_list))\n",
    "    \n",
    "#Building a list that contains all the raw features, used as cross validation data for the base models.\n",
    "raw_features_X=raw_features_X.append(cross_val_X,ignore_index=True)"
   ]
  },
  {
   "cell_type": "code",
   "execution_count": 28,
   "metadata": {
    "collapsed": false
   },
   "outputs": [],
   "source": [
    "#Calculating the average AUC across all the AUC computed on the cross validation folds.\n",
    "avg_linear_regression=np.mean(metric_linear_regression)\n",
    "avg_logistic_regression_L2=np.mean(metric_logistic_regression_L2)\n",
    "avg_logistic_regression_L1=np.mean(metric_logistic_regression_L1)\n",
    "avg_decision_tree=np.mean(metric_decision_tree)\n",
    "avg_random_forest=np.mean(metric_random_forest)\n",
    "avg_multi_layer_perceptron=np.mean(metric_multi_layer_perceptron)\n",
    "avg_gradient_boosting=np.mean(metric_gradient_boosting)"
   ]
  },
  {
   "cell_type": "code",
   "execution_count": 29,
   "metadata": {
    "collapsed": false
   },
   "outputs": [
    {
     "name": "stdout",
     "output_type": "stream",
     "text": [
      " AUC (Linear Regression)\n",
      " 0.928621647102\n",
      " AUC (Logistic Regression - L2)\n",
      " 0.929113401412\n",
      " AUC (Logistic Regression - L1)\n",
      " 0.929136143684\n",
      " AUC (Decision Tree)\n",
      " 0.917586651259\n",
      " AUC (Random Forest)\n",
      " 0.910271895071\n",
      " AUC (Multi Layer Perceptron)\n",
      " 0.865659623726\n",
      " AUC (Gradient Boosting - XGBoost)\n",
      " 0.942298764964\n"
     ]
    }
   ],
   "source": [
    "#Printing the AUC for the base models.\n",
    "print (' AUC (Linear Regression)\\n',avg_linear_regression)\n",
    "print (' AUC (Logistic Regression - L2)\\n',avg_logistic_regression_L2)\n",
    "print (' AUC (Logistic Regression - L1)\\n',avg_logistic_regression_L1)\n",
    "print (' AUC (Decision Tree)\\n',avg_decision_tree)\n",
    "print (' AUC (Random Forest)\\n',avg_random_forest)\n",
    "print (' AUC (Multi Layer Perceptron)\\n',avg_multi_layer_perceptron)\n",
    "print (' AUC (Gradient Boosting - XGBoost)\\n',avg_gradient_boosting)"
   ]
  },
  {
   "cell_type": "code",
   "execution_count": 30,
   "metadata": {
    "collapsed": false
   },
   "outputs": [],
   "source": [
    "#Converting the above list of predictions and raw features (Concatenate) into a dataframe, which will be used to train the blending model.\n",
    "blend_X=pd.concat([raw_features_X, stack_X], axis=1,ignore_index=True)\n",
    "\n",
    "#Training the Stacking and Blending models parallely using the predictions of base models on the cross validation data.\n",
    "[stack,blend] = Parallel(n_jobs=-1)(delayed(model_function)(train_X,train_Y)for model_function,train_X,train_Y in [(train_stack_model,stack_X,cross_val_Y),(train_blend_model,blend_X,cross_val_Y)])"
   ]
  },
  {
   "cell_type": "code",
   "execution_count": 31,
   "metadata": {
    "collapsed": false
   },
   "outputs": [],
   "source": [
    "#Initialzing the variables that will be used to calculate the area under the curve. (Test Data)\n",
    "metric_linear_regression=list()\n",
    "metric_logistic_regression_L2=list()\n",
    "metric_logistic_regression_L1=list()\n",
    "metric_decision_tree=list()\n",
    "metric_random_forest=list()\n",
    "metric_multi_layer_perceptron=list()\n",
    "metric_gradient_boosting=list()\n",
    "metric_stack=list()\n",
    "metric_blend=list()\n",
    "blend_X = pd.DataFrame()\n",
    "raw_features_X = pd.DataFrame()"
   ]
  },
  {
   "cell_type": "code",
   "execution_count": 32,
   "metadata": {
    "collapsed": false
   },
   "outputs": [],
   "source": [
    "#Calculating AUC for all the models (Base Models & Stack Model) on the test data.\n",
    "\n",
    "#Selecting the test data\n",
    "test_Y=test['y']\n",
    "test_X=test.drop(['y'],axis=1)\n",
    "\n",
    "#Computing the AUC and Predictions of all the base models on the test data parallely.\n",
    "auc_predict_test_base=(Parallel(n_jobs=-1)(delayed(function)(test_X,test_Y) for function in cross_val_base_model_list))\n",
    "    \n",
    "#Gradient Boosting (XGBoost)\n",
    "#The AUC error (Cross Validation Data)\n",
    "auc,predict_gradient_boosting=auc_predict_test_base[0][0],auc_predict_test_base[0][1]\n",
    "metric_gradient_boosting.append(auc)\n",
    "    \n",
    "#Multi Layer Perceptron\n",
    "#The AUC (Cross Validation Data)\n",
    "predict_mlp=list()\n",
    "auc,predict_multi_layer_perceptron=auc_predict_test_base[1][0],auc_predict_test_base[1][1]\n",
    "metric_multi_layer_perceptron.append(auc)\n",
    "#predict_multi_layer_perceptron returns a list of lists containing the predictions, this cannot be converted to a dataframe.\n",
    "#This inner lists are converted to floats and then used to convert it to a dataframe.\n",
    "for i in predict_multi_layer_perceptron:\n",
    "    predict_mlp.append(float(i))\n",
    "    \n",
    "#Decision Tree\n",
    "#The AUC (Cross Validation Data)\n",
    "auc,predict_decision_tree=auc_predict_test_base[2][0],auc_predict_test_base[2][1]\n",
    "metric_decision_tree.append(auc)\n",
    "    \n",
    "#Random Forest (Deafult=10 Trees)\n",
    "#The AUC (Cross Validation Data)\n",
    "auc,predict_random_forest=auc_predict_test_base[3][0],auc_predict_test_base[3][1]\n",
    "metric_random_forest.append(auc)\n",
    "    \n",
    "#Linear Regression\n",
    "#The AUC (Cross Validation Data)\n",
    "auc,predict_linear_regression=auc_predict_test_base[4][0],auc_predict_test_base[4][1]\n",
    "metric_linear_regression.append(auc)\n",
    "    \n",
    "#Logistic Regression (Default=l2)\n",
    "#The AUC (Cross Validation Data)\n",
    "auc,predict_logistic_regression_L1=auc_predict_test_base[5][0],auc_predict_test_base[5][1]\n",
    "metric_logistic_regression_L1.append(auc)\n",
    "    \n",
    "    \n",
    "#Logistic Regression-L2\n",
    "#The AUC (Cross Validation Data)\n",
    "auc,predict_logistic_regression_L2=auc_predict_test_base[6][0],auc_predict_test_base[6][1]\n",
    "metric_logistic_regression_L2.append(auc)\n",
    "    \n",
    "#Building a list that contains all the predictions of the base models.\n",
    "predict_list=[predict_gradient_boosting,predict_decision_tree,predict_random_forest, \n",
    "                               predict_linear_regression,predict_logistic_regression_L2,\n",
    "                               predict_logistic_regression_L1,predict_mlp]\n",
    "    \n",
    "\n",
    "\n",
    "dstack_X=build_data_frame(predict_list)#Converting the list of predictions into a dataframe.\n",
    "raw_features_X=raw_features_X.append(test_X,ignore_index=True)\n",
    "blend_X=pd.concat([raw_features_X, dstack_X], axis=1,ignore_index=True)#Converting the above list of predictions and raw features (Concatenate) into a dataframe\n",
    "\n",
    "#Computing the AUC and Predictions of the Stacking and Blending models on the test data parallely.\n",
    "auc_predict_test_second_level=Parallel(n_jobs=-1)(delayed(function)(test_X, test_Y) for function,test_X in ((cross_val_second_level_model[0],dstack_X),(cross_val_second_level_model[1],blend_X)))\n",
    "\n",
    "#Stacking (XGBoost - Gradient Boosting)\n",
    "auc,predict_stack=auc_predict_test_second_level[0][0],auc_predict_test_second_level[0][1]\n",
    "metric_stack=(auc)    \n",
    "\n",
    "#Blending (XGBoost - Gradient Boosting)\n",
    "auc,predict_blend=auc_predict_test_second_level[1][0],auc_predict_test_second_level[1][1]\n",
    "metric_blend=(auc) "
   ]
  },
  {
   "cell_type": "code",
   "execution_count": 33,
   "metadata": {
    "collapsed": false,
    "scrolled": true
   },
   "outputs": [
    {
     "name": "stdout",
     "output_type": "stream",
     "text": [
      " AUC (Linear Regression)\n",
      " [0.93043834614840326]\n",
      " AUC (Logistic Regression - L2)\n",
      " [0.93039058446153111]\n",
      " AUC (Logistic Regression - L1)\n",
      " [0.93036581914241245]\n",
      " AUC (Decision Tree)\n",
      " [0.92030461342516157]\n",
      " AUC (Random Forest)\n",
      " [0.9103631067503184]\n",
      " AUC (Multi Layer Perceptron)\n",
      " [0.87312668050379727]\n",
      " AUC (Gradient Boosting - XGBoost)\n",
      " [0.94387589037218733]\n",
      " AUC (Stacking)\n",
      " 0.945116220105\n",
      " AUC (Blending)\n",
      " 0.94407990943\n"
     ]
    }
   ],
   "source": [
    "print (' AUC (Linear Regression)\\n',metric_linear_regression)\n",
    "print (' AUC (Logistic Regression - L2)\\n',metric_logistic_regression_L2)\n",
    "print (' AUC (Logistic Regression - L1)\\n',metric_logistic_regression_L1)\n",
    "print (' AUC (Decision Tree)\\n',metric_decision_tree)\n",
    "print (' AUC (Random Forest)\\n',metric_random_forest)\n",
    "print (' AUC (Multi Layer Perceptron)\\n',metric_multi_layer_perceptron)\n",
    "print (' AUC (Gradient Boosting - XGBoost)\\n',metric_gradient_boosting)\n",
    "print (' AUC (Stacking)\\n',metric_stack)\n",
    "print (' AUC (Blending)\\n',metric_blend)"
   ]
  },
  {
   "cell_type": "code",
   "execution_count": null,
   "metadata": {
    "collapsed": true
   },
   "outputs": [],
   "source": []
  }
 ],
 "metadata": {
  "kernelspec": {
   "display_name": "Python 3",
   "language": "python",
   "name": "python3"
  },
  "language_info": {
   "codemirror_mode": {
    "name": "ipython",
    "version": 3
   },
   "file_extension": ".py",
   "mimetype": "text/x-python",
   "name": "python",
   "nbconvert_exporter": "python",
   "pygments_lexer": "ipython3",
   "version": "3.5.1"
  }
 },
 "nbformat": 4,
 "nbformat_minor": 0
}
