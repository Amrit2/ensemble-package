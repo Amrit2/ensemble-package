{
 "cells": [
  {
   "cell_type": "code",
   "execution_count": 1,
   "metadata": {
    "collapsed": false
   },
   "outputs": [
    {
     "name": "stderr",
     "output_type": "stream",
     "text": [
      "Using Theano backend.\n"
     ]
    }
   ],
   "source": [
    "import numpy as np\n",
    "from keras.datasets import mnist\n",
    "from keras.models import Sequential\n",
    "from keras.layers import Dense, Dropout, Activation, Flatten\n",
    "from keras.layers import Convolution2D, MaxPooling2D\n",
    "from keras.utils import np_utils"
   ]
  },
  {
   "cell_type": "code",
   "execution_count": 2,
   "metadata": {
    "collapsed": false
   },
   "outputs": [],
   "source": [
    "#Loading the training and testing data\n",
    "(X_train, y_train), (X_test, y_test) = mnist.load_data()\n",
    "X_train = X_train.reshape(60000, 784)\n",
    "X_test = X_test.reshape(10000, 784)\n",
    "X_train = X_train.astype('float32')\n",
    "X_test = X_test.astype('float32')\n",
    "X_train /= 255\n",
    "X_test /= 255"
   ]
  },
  {
   "cell_type": "code",
   "execution_count": 3,
   "metadata": {
    "collapsed": true
   },
   "outputs": [],
   "source": [
    "#Seed for reproducibilty\n",
    "np.random.seed(1338)\n",
    "\n",
    "#Selecting 6000 random examples from the test data\n",
    "test_rows = np.random.randint(0,X_test.shape[0],6000)\n",
    "X_test = X_test[test_rows]\n",
    "Y = y_test[test_rows]\n",
    "#Converting the output to binary classification(Six=1,Not Six=0)\n",
    "Y_test = Y == 6\n",
    "Y_test = Y_test.astype(int)\n",
    "\n",
    "#Selecting the 5918 examples where the output is 6\n",
    "X_six = X_train[y_train == 6]\n",
    "Y_six = y_train[y_train == 6]\n",
    "#Selecting the examples where the output is not 6\n",
    "X_not_six = X_train[y_train != 6]\n",
    "Y_not_six = y_train[y_train != 6]\n",
    "\n",
    "#Selecting 6000 random examples from the data that contains only the data where the output is not 6\n",
    "random_rows = np.random.randint(0,X_six.shape[0],6000)\n",
    "X_not_six = X_not_six[random_rows]\n",
    "Y_not_six = Y_not_six[random_rows]"
   ]
  },
  {
   "cell_type": "code",
   "execution_count": 4,
   "metadata": {
    "collapsed": false
   },
   "outputs": [],
   "source": [
    "#Appending the data with output as 6 and data with output as not six\n",
    "X_train = np.append(X_six,X_not_six)\n",
    "#Reshaping the appended data to appropraite form\n",
    "X_train = X_train.reshape(X_six.shape[0] + X_not_six.shape[0], 784)\n",
    "#Appending the labels and converting the labels to binary classification(Six=1,Not Six=0)\n",
    "Y_labels = np.append(Y_six,Y_not_six)\n",
    "Y_train = Y_labels == 6 \n",
    "Y_train = Y_train.astype(int)"
   ]
  },
  {
   "cell_type": "code",
   "execution_count": 5,
   "metadata": {
    "collapsed": true
   },
   "outputs": [],
   "source": [
    "#Converting the classes to its binary categorical form\n",
    "nb_classes = 2\n",
    "Y_train = np_utils.to_categorical(Y_train, nb_classes)\n",
    "Y_test = np_utils.to_categorical(Y_test, nb_classes)"
   ]
  },
  {
   "cell_type": "code",
   "execution_count": 6,
   "metadata": {
    "collapsed": true
   },
   "outputs": [],
   "source": [
    "#Initializing the values for the multi layer perceptron\n",
    "batch_size = 128\n",
    "nb_epoch = 20\n",
    "#Activation Functions\n",
    "activations = ['relu','tanh','sigmoid']"
   ]
  },
  {
   "cell_type": "code",
   "execution_count": 7,
   "metadata": {
    "collapsed": true
   },
   "outputs": [],
   "source": [
    "#Function for constructing the multi layer perceptron\n",
    "def build_model(activation):\n",
    "    \n",
    "    np.random.seed(1338)\n",
    "    model = Sequential()\n",
    "    model.add(Dense(512, input_shape=(784,)))\n",
    "    model.add(Activation(activation))\n",
    "    model.add(Dropout(0.2))\n",
    "    model.add(Dense(512))\n",
    "    model.add(Activation(activation))\n",
    "    model.add(Dropout(0.2))\n",
    "    model.add(Dense(nb_classes))\n",
    "    model.add(Activation('softmax'))\n",
    "    \n",
    "    model.compile(loss='categorical_crossentropy',\n",
    "              optimizer='rmsprop',\n",
    "              metrics=['accuracy'])\n",
    "\n",
    "    model.fit(X_train, Y_train, batch_size=batch_size, nb_epoch=nb_epoch,verbose=1,\n",
    "              validation_data=(X_test, Y_test))\n",
    "          \n",
    "\n",
    "    score = model.evaluate(X_test, Y_test, verbose=0)\n",
    "    print('Test score:', score[0])\n",
    "    print('Test accuracy:', score[1])"
   ]
  },
  {
   "cell_type": "code",
   "execution_count": 8,
   "metadata": {
    "collapsed": false,
    "scrolled": false
   },
   "outputs": [
    {
     "name": "stdout",
     "output_type": "stream",
     "text": [
      "ACTIVATION relu \n",
      "\n",
      "Train on 11918 samples, validate on 6000 samples\n",
      "Epoch 1/20\n",
      "11918/11918 [==============================] - 4s - loss: 0.1219 - acc: 0.9537 - val_loss: 0.0598 - val_acc: 0.9760\n",
      "Epoch 2/20\n",
      "11918/11918 [==============================] - 4s - loss: 0.0389 - acc: 0.9867 - val_loss: 0.0251 - val_acc: 0.9928\n",
      "Epoch 3/20\n",
      "11918/11918 [==============================] - 4s - loss: 0.0209 - acc: 0.9930 - val_loss: 0.0248 - val_acc: 0.9915\n",
      "Epoch 4/20\n",
      "11918/11918 [==============================] - 4s - loss: 0.0135 - acc: 0.9961 - val_loss: 0.0266 - val_acc: 0.9912\n",
      "Epoch 5/20\n",
      "11918/11918 [==============================] - 4s - loss: 0.0091 - acc: 0.9971 - val_loss: 0.0324 - val_acc: 0.9898\n",
      "Epoch 6/20\n",
      "11918/11918 [==============================] - 4s - loss: 0.0059 - acc: 0.9982 - val_loss: 0.0500 - val_acc: 0.9853\n",
      "Epoch 7/20\n",
      "11918/11918 [==============================] - 5s - loss: 0.0035 - acc: 0.9988 - val_loss: 0.0474 - val_acc: 0.9878\n",
      "Epoch 8/20\n",
      "11918/11918 [==============================] - 5s - loss: 0.0018 - acc: 0.9995 - val_loss: 0.0482 - val_acc: 0.9892\n",
      "Epoch 9/20\n",
      "11918/11918 [==============================] - 5s - loss: 0.0018 - acc: 0.9997 - val_loss: 0.0443 - val_acc: 0.9895\n",
      "Epoch 10/20\n",
      "11918/11918 [==============================] - 5s - loss: 0.0011 - acc: 0.9997 - val_loss: 0.0406 - val_acc: 0.9903\n",
      "Epoch 11/20\n",
      "11918/11918 [==============================] - 4s - loss: 4.7290e-04 - acc: 0.9999 - val_loss: 0.0491 - val_acc: 0.9885\n",
      "Epoch 12/20\n",
      "11918/11918 [==============================] - 4s - loss: 2.8724e-04 - acc: 1.0000 - val_loss: 0.0413 - val_acc: 0.9902\n",
      "Epoch 13/20\n",
      "11918/11918 [==============================] - 4s - loss: 3.5255e-04 - acc: 0.9999 - val_loss: 0.0499 - val_acc: 0.9880\n",
      "Epoch 14/20\n",
      "11918/11918 [==============================] - 4s - loss: 2.0966e-04 - acc: 1.0000 - val_loss: 0.0475 - val_acc: 0.9890\n",
      "Epoch 15/20\n",
      "11918/11918 [==============================] - 4s - loss: 1.6114e-04 - acc: 1.0000 - val_loss: 0.0533 - val_acc: 0.9883\n",
      "Epoch 16/20\n",
      "11918/11918 [==============================] - 4s - loss: 1.0213e-04 - acc: 1.0000 - val_loss: 0.0547 - val_acc: 0.9885\n",
      "Epoch 17/20\n",
      "11918/11918 [==============================] - 4s - loss: 1.0450e-04 - acc: 1.0000 - val_loss: 0.0565 - val_acc: 0.9888\n",
      "Epoch 18/20\n",
      "11918/11918 [==============================] - 4s - loss: 1.1771e-04 - acc: 1.0000 - val_loss: 0.0523 - val_acc: 0.9890\n",
      "Epoch 19/20\n",
      "11918/11918 [==============================] - 4s - loss: 1.4454e-04 - acc: 1.0000 - val_loss: 0.0558 - val_acc: 0.9888\n",
      "Epoch 20/20\n",
      "11918/11918 [==============================] - 4s - loss: 9.7533e-05 - acc: 1.0000 - val_loss: 0.0549 - val_acc: 0.9890\n",
      "Test score: 0.0549472076656\n",
      "Test accuracy: 0.989\n",
      "1 loop, best of 1: 1min 40s per loop\n",
      "\n",
      "\n",
      "ACTIVATION tanh \n",
      "\n",
      "Train on 11918 samples, validate on 6000 samples\n",
      "Epoch 1/20\n",
      "11918/11918 [==============================] - 5s - loss: 0.1757 - acc: 0.9430 - val_loss: 0.1304 - val_acc: 0.9562\n",
      "Epoch 2/20\n",
      "11918/11918 [==============================] - 5s - loss: 0.0864 - acc: 0.9696 - val_loss: 0.0578 - val_acc: 0.9820\n",
      "Epoch 3/20\n",
      "11918/11918 [==============================] - 5s - loss: 0.0692 - acc: 0.9756 - val_loss: 0.0469 - val_acc: 0.9810\n",
      "Epoch 4/20\n",
      "11918/11918 [==============================] - 5s - loss: 0.0555 - acc: 0.9810 - val_loss: 0.0645 - val_acc: 0.9745\n",
      "Epoch 5/20\n",
      "11918/11918 [==============================] - 5s - loss: 0.0420 - acc: 0.9845 - val_loss: 0.0645 - val_acc: 0.9768\n",
      "Epoch 6/20\n",
      "11918/11918 [==============================] - 6s - loss: 0.0355 - acc: 0.9861 - val_loss: 0.0969 - val_acc: 0.9695\n",
      "Epoch 7/20\n",
      "11918/11918 [==============================] - 6s - loss: 0.0266 - acc: 0.9905 - val_loss: 0.0448 - val_acc: 0.9842\n",
      "Epoch 8/20\n",
      "11918/11918 [==============================] - 5s - loss: 0.0241 - acc: 0.9913 - val_loss: 0.0566 - val_acc: 0.9807\n",
      "Epoch 9/20\n",
      "11918/11918 [==============================] - 5s - loss: 0.0179 - acc: 0.9939 - val_loss: 0.0389 - val_acc: 0.9882\n",
      "Epoch 10/20\n",
      "11918/11918 [==============================] - 5s - loss: 0.0151 - acc: 0.9952 - val_loss: 0.0459 - val_acc: 0.9862\n",
      "Epoch 11/20\n",
      "11918/11918 [==============================] - 4s - loss: 0.0138 - acc: 0.9949 - val_loss: 0.0606 - val_acc: 0.9832\n",
      "Epoch 12/20\n",
      "11918/11918 [==============================] - 5s - loss: 0.0131 - acc: 0.9958 - val_loss: 0.0510 - val_acc: 0.9867\n",
      "Epoch 13/20\n",
      "11918/11918 [==============================] - 5s - loss: 0.0105 - acc: 0.9965 - val_loss: 0.0350 - val_acc: 0.9905\n",
      "Epoch 14/20\n",
      "11918/11918 [==============================] - 5s - loss: 0.0074 - acc: 0.9975 - val_loss: 0.0709 - val_acc: 0.9823\n",
      "Epoch 15/20\n",
      "11918/11918 [==============================] - 5s - loss: 0.0086 - acc: 0.9966 - val_loss: 0.1255 - val_acc: 0.9728\n",
      "Epoch 16/20\n",
      "11918/11918 [==============================] - 5s - loss: 0.0059 - acc: 0.9982 - val_loss: 0.0818 - val_acc: 0.9820\n",
      "Epoch 17/20\n",
      "11918/11918 [==============================] - 5s - loss: 0.0058 - acc: 0.9982 - val_loss: 0.0569 - val_acc: 0.9873\n",
      "Epoch 18/20\n",
      "11918/11918 [==============================] - 5s - loss: 0.0056 - acc: 0.9978 - val_loss: 0.0737 - val_acc: 0.9838\n",
      "Epoch 19/20\n",
      "11918/11918 [==============================] - 5s - loss: 0.0038 - acc: 0.9987 - val_loss: 0.0403 - val_acc: 0.9915\n",
      "Epoch 20/20\n",
      "11918/11918 [==============================] - 5s - loss: 0.0038 - acc: 0.9991 - val_loss: 0.0955 - val_acc: 0.9805\n",
      "Test score: 0.0955359834184\n",
      "Test accuracy: 0.9805\n",
      "1 loop, best of 1: 1min 59s per loop\n",
      "\n",
      "\n",
      "ACTIVATION sigmoid \n",
      "\n",
      "Train on 11918 samples, validate on 6000 samples\n",
      "Epoch 1/20\n",
      "11918/11918 [==============================] - 5s - loss: 0.4091 - acc: 0.8086 - val_loss: 0.1129 - val_acc: 0.9603\n",
      "Epoch 2/20\n",
      "11918/11918 [==============================] - 5s - loss: 0.1240 - acc: 0.9551 - val_loss: 0.0671 - val_acc: 0.9752\n",
      "Epoch 3/20\n",
      "11918/11918 [==============================] - 5s - loss: 0.1024 - acc: 0.9639 - val_loss: 0.0556 - val_acc: 0.9788\n",
      "Epoch 4/20\n",
      "11918/11918 [==============================] - 5s - loss: 0.0945 - acc: 0.9662 - val_loss: 0.1155 - val_acc: 0.9573\n",
      "Epoch 5/20\n",
      "11918/11918 [==============================] - 5s - loss: 0.0906 - acc: 0.9697 - val_loss: 0.0511 - val_acc: 0.9827\n",
      "Epoch 6/20\n",
      "11918/11918 [==============================] - 5s - loss: 0.0843 - acc: 0.9710 - val_loss: 0.0722 - val_acc: 0.9717\n",
      "Epoch 7/20\n",
      "11918/11918 [==============================] - 5s - loss: 0.0808 - acc: 0.9726 - val_loss: 0.0898 - val_acc: 0.9662\n",
      "Epoch 8/20\n",
      "11918/11918 [==============================] - 5s - loss: 0.0802 - acc: 0.9724 - val_loss: 0.1282 - val_acc: 0.9535\n",
      "Epoch 9/20\n",
      "11918/11918 [==============================] - 5s - loss: 0.0777 - acc: 0.9728 - val_loss: 0.0922 - val_acc: 0.9655\n",
      "Epoch 10/20\n",
      "11918/11918 [==============================] - 5s - loss: 0.0770 - acc: 0.9733 - val_loss: 0.0616 - val_acc: 0.9762\n",
      "Epoch 11/20\n",
      "11918/11918 [==============================] - 5s - loss: 0.0721 - acc: 0.9750 - val_loss: 0.0676 - val_acc: 0.9735\n",
      "Epoch 12/20\n",
      "11918/11918 [==============================] - 6s - loss: 0.0725 - acc: 0.9743 - val_loss: 0.0691 - val_acc: 0.9738\n",
      "Epoch 13/20\n",
      "11918/11918 [==============================] - 6s - loss: 0.0706 - acc: 0.9757 - val_loss: 0.0456 - val_acc: 0.9855\n",
      "Epoch 14/20\n",
      "11918/11918 [==============================] - 6s - loss: 0.0695 - acc: 0.9764 - val_loss: 0.1180 - val_acc: 0.9578\n",
      "Epoch 15/20\n",
      "11918/11918 [==============================] - 5s - loss: 0.0646 - acc: 0.9770 - val_loss: 0.2183 - val_acc: 0.9280\n",
      "Epoch 16/20\n",
      "11918/11918 [==============================] - 5s - loss: 0.0643 - acc: 0.9779 - val_loss: 0.0780 - val_acc: 0.9697\n",
      "Epoch 17/20\n",
      "11918/11918 [==============================] - 5s - loss: 0.0645 - acc: 0.9768 - val_loss: 0.0460 - val_acc: 0.9862\n",
      "Epoch 18/20\n",
      "11918/11918 [==============================] - 5s - loss: 0.0612 - acc: 0.9794 - val_loss: 0.0654 - val_acc: 0.9730\n",
      "Epoch 19/20\n",
      "11918/11918 [==============================] - 5s - loss: 0.0577 - acc: 0.9799 - val_loss: 0.1481 - val_acc: 0.9485\n",
      "Epoch 20/20\n",
      "11918/11918 [==============================] - 5s - loss: 0.0560 - acc: 0.9804 - val_loss: 0.0430 - val_acc: 0.9865\n",
      "Test score: 0.0430414703909\n",
      "Test accuracy: 0.9865\n",
      "1 loop, best of 1: 1min 59s per loop\n",
      "\n",
      "\n"
     ]
    }
   ],
   "source": [
    "for i in activations:\n",
    "    print('ACTIVATION',i,'\\n')\n",
    "    %timeit -n1 -r1 build_model(i)\n",
    "    print('\\n')"
   ]
  },
  {
   "cell_type": "code",
   "execution_count": 9,
   "metadata": {
    "collapsed": false
   },
   "outputs": [],
   "source": [
    "#%timeit -n1 -r1 build_model()"
   ]
  },
  {
   "cell_type": "code",
   "execution_count": null,
   "metadata": {
    "collapsed": true
   },
   "outputs": [],
   "source": []
  }
 ],
 "metadata": {
  "kernelspec": {
   "display_name": "Python 3",
   "language": "python",
   "name": "python3"
  },
  "language_info": {
   "codemirror_mode": {
    "name": "ipython",
    "version": 3
   },
   "file_extension": ".py",
   "mimetype": "text/x-python",
   "name": "python",
   "nbconvert_exporter": "python",
   "pygments_lexer": "ipython3",
   "version": "3.5.1"
  }
 },
 "nbformat": 4,
 "nbformat_minor": 0
}
