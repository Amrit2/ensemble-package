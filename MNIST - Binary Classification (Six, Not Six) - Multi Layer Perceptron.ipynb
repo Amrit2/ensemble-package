{
 "cells": [
  {
   "cell_type": "code",
   "execution_count": 1,
   "metadata": {
    "collapsed": false
   },
   "outputs": [
    {
     "name": "stderr",
     "output_type": "stream",
     "text": [
      "Using Theano backend.\n"
     ]
    }
   ],
   "source": [
    "import numpy as np\n",
    "from keras.datasets import mnist\n",
    "from keras.models import Sequential\n",
    "from keras.layers import Dense, Dropout, Activation, Flatten\n",
    "from keras.layers import Convolution2D, MaxPooling2D\n",
    "from keras.utils import np_utils"
   ]
  },
  {
   "cell_type": "code",
   "execution_count": 2,
   "metadata": {
    "collapsed": false
   },
   "outputs": [],
   "source": [
    "#Loading the training and testing data\n",
    "(X_train, y_train), (X_test, y_test) = mnist.load_data()\n",
    "X_train = X_train.reshape(60000, 784)\n",
    "X_test = X_test.reshape(10000, 784)\n",
    "X_train = X_train.astype('float32')\n",
    "X_test = X_test.astype('float32')\n",
    "X_train /= 255\n",
    "X_test /= 255"
   ]
  },
  {
   "cell_type": "code",
   "execution_count": 3,
   "metadata": {
    "collapsed": true
   },
   "outputs": [],
   "source": [
    "#Seed for reproducibilty\n",
    "np.random.seed(1338)\n",
    "\n",
    "#Selecting 6000 random examples from the test data\n",
    "test_rows = np.random.randint(0,X_test.shape[0],6000)\n",
    "X_test = X_test[test_rows]\n",
    "Y = y_test[test_rows]\n",
    "#Converting the output to binary classification(Six=1,Not Six=0)\n",
    "Y_test = Y == 6\n",
    "Y_test = Y_test.astype(int)\n",
    "\n",
    "#Selecting the 5918 examples where the output is 6\n",
    "X_six = X_train[y_train == 6]\n",
    "Y_six = y_train[y_train == 6]\n",
    "#Selecting the examples where the output is not 6\n",
    "X_not_six = X_train[y_train != 6]\n",
    "Y_not_six = y_train[y_train != 6]\n",
    "\n",
    "#Selecting 6000 random examples from the data that contains only the data where the output is not 6\n",
    "random_rows = np.random.randint(0,X_six.shape[0],6000)\n",
    "X_not_six = X_not_six[random_rows]\n",
    "Y_not_six = Y_not_six[random_rows]"
   ]
  },
  {
   "cell_type": "code",
   "execution_count": 4,
   "metadata": {
    "collapsed": false
   },
   "outputs": [],
   "source": [
    "#Appending the data with output as 6 and data with output as not six\n",
    "X_train = np.append(X_six,X_not_six)\n",
    "#Reshaping the appended data to appropraite form\n",
    "X_train = X_train.reshape(X_six.shape[0] + X_not_six.shape[0], 784)\n",
    "#Appending the labels and converting the labels to binary classification(Six=1,Not Six=0)\n",
    "Y_labels = np.append(Y_six,Y_not_six)\n",
    "Y_train = Y_labels == 6 \n",
    "Y_train = Y_train.astype(int)"
   ]
  },
  {
   "cell_type": "code",
   "execution_count": 5,
   "metadata": {
    "collapsed": true
   },
   "outputs": [],
   "source": [
    "#Converting the classes to its binary categorical form\n",
    "nb_classes = 2\n",
    "Y_train = np_utils.to_categorical(Y_train, nb_classes)\n",
    "Y_test = np_utils.to_categorical(Y_test, nb_classes)"
   ]
  },
  {
   "cell_type": "code",
   "execution_count": 6,
   "metadata": {
    "collapsed": true
   },
   "outputs": [],
   "source": [
    "#Initializing the values for the convolution neural network\n",
    "batch_size = 128\n",
    "nb_epoch = 20"
   ]
  },
  {
   "cell_type": "code",
   "execution_count": null,
   "metadata": {
    "collapsed": true
   },
   "outputs": [],
   "source": [
    "#Function for constructing the convolution neural network\n",
    "def build_model():\n",
    "    \n",
    "    np.random.seed(1338)\n",
    "    model = Sequential()\n",
    "    model.add(Dense(512, input_shape=(784,)))\n",
    "    model.add(Activation('relu'))\n",
    "    model.add(Dropout(0.2))\n",
    "    model.add(Dense(512))\n",
    "    model.add(Activation('relu'))\n",
    "    model.add(Dropout(0.2))\n",
    "    model.add(Dense(nb_classes))\n",
    "    model.add(Activation('softmax'))\n",
    "    \n",
    "    model.compile(loss='categorical_crossentropy',\n",
    "              optimizer='rmsprop',\n",
    "              metrics=['accuracy'])\n",
    "\n",
    "    model.fit(X_train, Y_train, batch_size=batch_size, nb_epoch=nb_epoch,verbose=1,\n",
    "              validation_data=(X_test, Y_test))\n",
    "          \n",
    "\n",
    "    score = model.evaluate(X_test, Y_test, verbose=0)\n",
    "    print('Test score:', score[0])\n",
    "    print('Test accuracy:', score[1])"
   ]
  },
  {
   "cell_type": "code",
   "execution_count": null,
   "metadata": {
    "collapsed": false
   },
   "outputs": [
    {
     "name": "stdout",
     "output_type": "stream",
     "text": [
      "Train on 11918 samples, validate on 6000 samples\n",
      "Epoch 1/20\n",
      "11918/11918 [==============================] - 2s - loss: 0.1219 - acc: 0.9537 - val_loss: 0.0598 - val_acc: 0.9760\n",
      "Epoch 2/20\n",
      "11918/11918 [==============================] - 2s - loss: 0.0389 - acc: 0.9867 - val_loss: 0.0251 - val_acc: 0.9928\n",
      "Epoch 3/20\n",
      "11918/11918 [==============================] - 2s - loss: 0.0209 - acc: 0.9930 - val_loss: 0.0248 - val_acc: 0.9915\n",
      "Epoch 4/20\n",
      "11918/11918 [==============================] - 2s - loss: 0.0135 - acc: 0.9961 - val_loss: 0.0266 - val_acc: 0.9912\n",
      "Epoch 5/20\n",
      "11918/11918 [==============================] - 2s - loss: 0.0091 - acc: 0.9971 - val_loss: 0.0324 - val_acc: 0.9898\n",
      "Epoch 6/20\n",
      "11918/11918 [==============================] - 2s - loss: 0.0059 - acc: 0.9982 - val_loss: 0.0500 - val_acc: 0.9853\n",
      "Epoch 7/20\n",
      "11918/11918 [==============================] - 2s - loss: 0.0035 - acc: 0.9988 - val_loss: 0.0474 - val_acc: 0.9878\n",
      "Epoch 8/20\n",
      "11918/11918 [==============================] - 2s - loss: 0.0018 - acc: 0.9995 - val_loss: 0.0482 - val_acc: 0.9892\n",
      "Epoch 9/20\n",
      "11918/11918 [==============================] - 2s - loss: 0.0018 - acc: 0.9997 - val_loss: 0.0443 - val_acc: 0.9895\n",
      "Epoch 10/20\n",
      "11918/11918 [==============================] - 2s - loss: 0.0011 - acc: 0.9997 - val_loss: 0.0406 - val_acc: 0.9903\n",
      "Epoch 11/20\n",
      "11918/11918 [==============================] - 2s - loss: 4.7290e-04 - acc: 0.9999 - val_loss: 0.0491 - val_acc: 0.9885\n",
      "Epoch 12/20\n",
      "11918/11918 [==============================] - 2s - loss: 2.8724e-04 - acc: 1.0000 - val_loss: 0.0413 - val_acc: 0.9902\n",
      "Epoch 13/20\n",
      "11918/11918 [==============================] - 2s - loss: 3.5255e-04 - acc: 0.9999 - val_loss: 0.0499 - val_acc: 0.9880\n",
      "Epoch 14/20\n",
      " 3072/11918 [======>.......................] - ETA: 1s - loss: 2.0210e-04 - acc: 1.0000"
     ]
    }
   ],
   "source": [
    "%timeit -n1 -r1 build_model()"
   ]
  },
  {
   "cell_type": "code",
   "execution_count": null,
   "metadata": {
    "collapsed": true
   },
   "outputs": [],
   "source": []
  }
 ],
 "metadata": {
  "kernelspec": {
   "display_name": "Python 3",
   "language": "python",
   "name": "python3"
  },
  "language_info": {
   "codemirror_mode": {
    "name": "ipython",
    "version": 3
   },
   "file_extension": ".py",
   "mimetype": "text/x-python",
   "name": "python",
   "nbconvert_exporter": "python",
   "pygments_lexer": "ipython3",
   "version": "3.5.1"
  }
 },
 "nbformat": 4,
 "nbformat_minor": 0
}
