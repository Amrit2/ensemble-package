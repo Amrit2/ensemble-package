{
 "cells": [
  {
   "cell_type": "code",
   "execution_count": 20,
   "metadata": {
    "collapsed": false
   },
   "outputs": [],
   "source": [
    "import pandas as pd\n",
    "import numpy as np\n",
    "import matplotlib.pyplot as plt\n",
    "from sklearn import datasets, linear_model, preprocessing\n",
    "from sklearn.preprocessing import Imputer, PolynomialFeatures\n",
    "from sklearn.tree import DecisionTreeClassifier\n",
    "from sklearn.cross_validation import KFold\n",
    "from sklearn.ensemble import RandomForestClassifier\n",
    "from sklearn.cross_validation import StratifiedKFold, KFold\n",
    "from keras.layers import Dense, Activation\n",
    "from keras.models import Sequential\n",
    "from sklearn.ensemble import GradientBoostingClassifier\n",
    "from sklearn.ensemble import ExtraTreesClassifier\n",
    "import xgboost as xgb\n",
    "from sklearn.metrics import roc_auc_score\n",
    "from sklearn.metrics import metrics"
   ]
  },
  {
   "cell_type": "code",
   "execution_count": 21,
   "metadata": {
    "collapsed": false
   },
   "outputs": [],
   "source": [
    "#Reading the data\n",
    "Data = pd.read_csv('/home/prajwal/Desktop/bank-additional/bank-additional-full.csv',delimiter=';',header=0)\n",
    "\n",
    "#Encoding the data, encoding the string values into numerical values\n",
    "encode = preprocessing.LabelEncoder()\n",
    "\n",
    "#Selcting the columns of string data type\n",
    "names=Data.select_dtypes(include=['object'])\n",
    "\n",
    "#Function that encodes the string values to numerical values\n",
    "def enc(data,column):\n",
    "    data[column] = encode.fit_transform(data[column])\n",
    "    return data\n",
    "for column in names:\n",
    "        Data=enc(Data,column)\n",
    "        \n",
    "#Data.job = encode.fit_transform(Data.job)\n",
    "#Data.marital = encode.fit_transform(Data.marital)\n",
    "#Data.education = encode.fit_transform(Data.education)\n",
    "#Data.default = encode.fit_transform(Data.default)\n",
    "#Data.housing = encode.fit_transform(Data.housing)\n",
    "#Data.loan = encode.fit_transform(Data.loan)\n",
    "#Data.contact = encode.fit_transform(Data.contact)\n",
    "#Data.month = encode.fit_transform(Data.month)\n",
    "#Data.day_of_week = encode.fit_transform(Data.day_of_week)\n",
    "#Data.poutcome = encode.fit_transform(Data.poutcome)\n",
    "#Data.y = encode.fit_transform(Data.y)"
   ]
  },
  {
   "cell_type": "code",
   "execution_count": 22,
   "metadata": {
    "collapsed": false
   },
   "outputs": [],
   "source": [
    "metric_linear_regression=list()\n",
    "avg_linear_regeression=0\n",
    "metric_logistic_regression_L2=list()\n",
    "avg_logistic_regression_L2=0\n",
    "metric_logistic_regression_L1=list()\n",
    "avg_logistic_regression_L1=0\n",
    "metric_decision_tree=list()\n",
    "avg_decision_tree=0\n",
    "metric_random_forest=list()\n",
    "avg_random_forest=0\n",
    "metric_multi_layer_perceptron=list()\n",
    "avg_multi_layer_perceptron=0\n",
    "metric_gradient_boosting=list()\n",
    "avg_gradient_boosting=0\n",
    "metric_XGB=list()\n",
    "avg_XGB=0"
   ]
  },
  {
   "cell_type": "code",
   "execution_count": 23,
   "metadata": {
    "collapsed": false
   },
   "outputs": [],
   "source": [
    "#Cross Validation using Stratified K Fold\n",
    "kf = StratifiedKFold(Data['y'], n_folds=5, shuffle=True)"
   ]
  },
  {
   "cell_type": "code",
   "execution_count": 24,
   "metadata": {
    "collapsed": false
   },
   "outputs": [
    {
     "name": "stdout",
     "output_type": "stream",
     "text": [
      "Epoch 1/5\n",
      "32950/32950 [==============================] - 1s - loss: 0.2836 - acc: 0.8893     \n",
      "Epoch 2/5\n",
      "32950/32950 [==============================] - 2s - loss: 0.2591 - acc: 0.9001     \n",
      "Epoch 3/5\n",
      "32950/32950 [==============================] - 1s - loss: 0.2552 - acc: 0.9003     \n",
      "Epoch 4/5\n",
      "32950/32950 [==============================] - 1s - loss: 0.2539 - acc: 0.9031     \n",
      "Epoch 5/5\n",
      "32950/32950 [==============================] - 1s - loss: 0.2546 - acc: 0.9033     \n",
      "Epoch 1/5\n",
      "32950/32950 [==============================] - 1s - loss: 0.2993 - acc: 0.8880     \n",
      "Epoch 2/5\n",
      "32950/32950 [==============================] - 1s - loss: 0.2684 - acc: 0.8947     \n",
      "Epoch 3/5\n",
      "32950/32950 [==============================] - 1s - loss: 0.2622 - acc: 0.9007     \n",
      "Epoch 4/5\n",
      "32950/32950 [==============================] - 1s - loss: 0.2629 - acc: 0.8986     \n",
      "Epoch 5/5\n",
      "32950/32950 [==============================] - 1s - loss: 0.2576 - acc: 0.9025     \n",
      "Epoch 1/5\n",
      "32950/32950 [==============================] - 1s - loss: 0.3360 - acc: 0.8812     \n",
      "Epoch 2/5\n",
      "32950/32950 [==============================] - 1s - loss: 0.2736 - acc: 0.8910     \n",
      "Epoch 3/5\n",
      "32950/32950 [==============================] - 1s - loss: 0.2625 - acc: 0.8985     \n",
      "Epoch 4/5\n",
      "32950/32950 [==============================] - 1s - loss: 0.2632 - acc: 0.8993     \n",
      "Epoch 5/5\n",
      "32950/32950 [==============================] - 1s - loss: 0.2605 - acc: 0.8979     \n",
      "Epoch 1/5\n",
      "32951/32951 [==============================] - 1s - loss: 0.2976 - acc: 0.8825     \n",
      "Epoch 2/5\n",
      "32951/32951 [==============================] - 1s - loss: 0.2627 - acc: 0.9000     \n",
      "Epoch 3/5\n",
      "32951/32951 [==============================] - 1s - loss: 0.2567 - acc: 0.9015     \n",
      "Epoch 4/5\n",
      "32951/32951 [==============================] - 1s - loss: 0.2551 - acc: 0.9018     \n",
      "Epoch 5/5\n",
      "32951/32951 [==============================] - 1s - loss: 0.2513 - acc: 0.9004     \n",
      "Epoch 1/5\n",
      "32951/32951 [==============================] - 1s - loss: 0.2845 - acc: 0.8893     \n",
      "Epoch 2/5\n",
      "32951/32951 [==============================] - 1s - loss: 0.2581 - acc: 0.8999     \n",
      "Epoch 3/5\n",
      "32951/32951 [==============================] - 1s - loss: 0.2562 - acc: 0.9012     \n",
      "Epoch 4/5\n",
      "32951/32951 [==============================] - 1s - loss: 0.2545 - acc: 0.9019     \n",
      "Epoch 5/5\n",
      "32951/32951 [==============================] - 1s - loss: 0.2514 - acc: 0.9016     \n"
     ]
    }
   ],
   "source": [
    "for train_index, cross_val_index in kf:\n",
    "    \n",
    "    #Selecting the data\n",
    "    train, cross_val = Data.iloc[train_index], Data.iloc[cross_val_index]\n",
    "    train_Y=train['y']\n",
    "    train_X=train.drop(['y'],axis=1)\n",
    "    cross_val_Y=cross_val['y']\n",
    "    cross_val_X=cross_val.drop(['y'],axis=1)\n",
    "    predict=list()\n",
    "     \n",
    "    #Gradient Boosting (XGBoost)\n",
    "    param = {}\n",
    "    #Setting Parameters for the Booster\n",
    "    param['booster'] = 'gbtree'\n",
    "    param['objective'] = 'binary:logistic'\n",
    "    param[\"eval_metric\"] = \"auc\"\n",
    "    param['eta'] = 0.3\n",
    "    param['gamma'] = 0\n",
    "    param['max_depth'] = 6\n",
    "    param['min_child_weight']=1\n",
    "    param['max_delta_step'] = 0\n",
    "    param['subsample']= 1\n",
    "    param['colsample_bytree']=1\n",
    "    param['silent'] = 1\n",
    "    param['seed'] = 0\n",
    "    param['base_score'] = 0.5\n",
    "    param['lambda_bias']=1\n",
    "    dtrain = xgb.DMatrix(train_X,label=train_Y)\n",
    "    dcross_val = xgb.DMatrix(cross_val_X,label=cross_val_Y)\n",
    "    XGB = xgb.train(param, dtrain)\n",
    "    predict=XGB.predict(dcross_val)\n",
    "    #predict[(predict>=0.5)]=1\n",
    "    #predict[(predict<0.5)]=0\n",
    "    #The AUC error (Cross Validation Data)\n",
    "    metric_XGB.append(roc_auc_score(cross_val_Y,predict))\n",
    "    \n",
    "\n",
    "    #Gradient Boosting (Sklearn)\n",
    "    GB = GradientBoostingClassifier()\n",
    "    GB.fit(train_X,train_Y)\n",
    "    #The AUC error (Cross Validation Data)\n",
    "    metric_gradient_boosting.append(roc_auc_score(cross_val_Y,GB.predict_proba(cross_val_X)[:,1]))\n",
    "    \n",
    "    #Multi Layer Perceptron\n",
    "    multi_layer_perceptron = Sequential()\n",
    "    #Building the model\n",
    "    multi_layer_perceptron.add(Dense(output_dim=64, input_dim=20, init='uniform', activation='sigmoid'))\n",
    "    multi_layer_perceptron.add(Dense(output_dim=1, input_dim=64,activation='sigmoid'))\n",
    "    multi_layer_perceptron.compile(optimizer='rmsprop',loss='binary_crossentropy',metrics=['accuracy'])\n",
    "    multi_layer_perceptron.fit(train_X.as_matrix(), train_Y.as_matrix(), nb_epoch=5, batch_size=32)\n",
    "    #The AUC (Cross Validation Data)\n",
    "    metric_multi_layer_perceptron.append((roc_auc_score(cross_val_Y,multi_layer_perceptron.predict_on_batch(cross_val_X))))\n",
    "\n",
    "    \n",
    "    #Decision Tree\n",
    "    decision_tree = DecisionTreeClassifier(max_depth=6)\n",
    "    decision_tree.fit(train_X,train_Y)\n",
    "    #The AUC (Cross Validation Data)\n",
    "    metric_decision_tree.append((roc_auc_score(cross_val_Y,decision_tree.predict_proba(cross_val_X)[:,1])))\n",
    "    \n",
    "    \n",
    "    #Random Forest (Deafult=10 Trees)\n",
    "    random_forest = RandomForestClassifier()\n",
    "    random_forest.fit(train_X,train_Y)\n",
    "    #The AUC (Cross Validation Data)\n",
    "    metric_random_forest.append((roc_auc_score(cross_val_Y,random_forest.predict_proba(cross_val_X)[:,1])))\n",
    "    \n",
    "    #Scaling the data\n",
    "    train_X=preprocessing.StandardScaler().fit_transform(train_X)\n",
    "    cross_val_X=preprocessing.StandardScaler().fit_transform(cross_val_X)\n",
    "    \n",
    "    #Linear Regression\n",
    "    predict=list()\n",
    "    linear_regression = linear_model.LinearRegression()\n",
    "    linear_regression.fit(train_X,train_Y)\n",
    "    predict=linear_regression.predict(cross_val_X)\n",
    "    #predict[(predict>=0.5)]=1\n",
    "    #predict[(predict<0.5)]=0\n",
    "    #The AUC (Cross Validation Data)\n",
    "    metric_linear_regression.append((roc_auc_score(cross_val_Y,predict)))\n",
    "    \n",
    "    #Logistic Regression (Default=l2)\n",
    "    logistic_regression_L2 = linear_model.LogisticRegression(penalty='l2')\n",
    "    logistic_regression_L2.fit(train_X,train_Y)\n",
    "    #The AUC (Cross Validation Data)\n",
    "    metric_logistic_regression_L2.append((roc_auc_score(cross_val_Y,logistic_regression_L2.predict_proba(cross_val_X)[:,1])))\n",
    "    \n",
    "    #Logistic Regression-L1\n",
    "    logistic_regression_L1 = linear_model.LogisticRegression(penalty='l1')\n",
    "    logistic_regression_L1.fit(train_X,train_Y)\n",
    "    #The AUC (Cross Validation Data)\n",
    "    metric_logistic_regression_L1.append((roc_auc_score(cross_val_Y,logistic_regression_L1.predict_proba(cross_val_X)[:,1])))"
   ]
  },
  {
   "cell_type": "code",
   "execution_count": 25,
   "metadata": {
    "collapsed": false
   },
   "outputs": [],
   "source": [
    "avg_linear_regression=np.mean(metric_linear_regression)\n",
    "avg_logistic_regression_L2=np.mean(metric_logistic_regression_L2)\n",
    "avg_logistic_regression_L1=np.mean(metric_logistic_regression_L1)\n",
    "avg_decision_tree=np.mean(metric_decision_tree)\n",
    "avg_random_forest=np.mean(metric_random_forest)\n",
    "avg_multi_layer_perceptron=np.mean(metric_multi_layer_perceptron)\n",
    "avg_gradient_boosting=np.mean(metric_gradient_boosting)\n",
    "avg_XGB=np.mean(metric_XGB)"
   ]
  },
  {
   "cell_type": "code",
   "execution_count": 26,
   "metadata": {
    "collapsed": false
   },
   "outputs": [
    {
     "name": "stdout",
     "output_type": "stream",
     "text": [
      " AUC (Linear Regression)\n",
      " 0.928009619282\n",
      " AUC (Logistic Regression - L2)\n",
      " 0.929524540555\n",
      " AUC (Logistic Regression - L1)\n",
      " 0.929538279423\n",
      " AUC (Decision Tree)\n",
      " 0.925977326792\n",
      " AUC (Random Forest)\n",
      " 0.920687697362\n",
      " AUC (Multi Layer Perceptron)\n",
      " 0.890151576192\n",
      " AUC (Gradient Boosting - Sklearn)\n",
      " 0.947617981408\n",
      " AUC (Gradient Boosting - XGBoost)\n",
      " 0.948452470399\n"
     ]
    }
   ],
   "source": [
    "print (' AUC (Linear Regression)\\n',avg_linear_regression)\n",
    "print (' AUC (Logistic Regression - L2)\\n',avg_logistic_regression_L2)\n",
    "print (' AUC (Logistic Regression - L1)\\n',avg_logistic_regression_L1)\n",
    "print (' AUC (Decision Tree)\\n',avg_decision_tree)\n",
    "print (' AUC (Random Forest)\\n',avg_random_forest)\n",
    "print (' AUC (Multi Layer Perceptron)\\n',avg_multi_layer_perceptron)\n",
    "print (' AUC (Gradient Boosting - Sklearn)\\n',avg_gradient_boosting)\n",
    "print (' AUC (Gradient Boosting - XGBoost)\\n',avg_XGB)"
   ]
  },
  {
   "cell_type": "code",
   "execution_count": null,
   "metadata": {
    "collapsed": true
   },
   "outputs": [],
   "source": []
  }
 ],
 "metadata": {
  "kernelspec": {
   "display_name": "Python 3",
   "language": "python",
   "name": "python3"
  },
  "language_info": {
   "codemirror_mode": {
    "name": "ipython",
    "version": 3
   },
   "file_extension": ".py",
   "mimetype": "text/x-python",
   "name": "python",
   "nbconvert_exporter": "python",
   "pygments_lexer": "ipython3",
   "version": "3.5.1"
  }
 },
 "nbformat": 4,
 "nbformat_minor": 0
}
