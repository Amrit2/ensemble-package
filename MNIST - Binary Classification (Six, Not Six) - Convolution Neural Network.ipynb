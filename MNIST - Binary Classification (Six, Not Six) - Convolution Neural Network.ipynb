{
 "cells": [
  {
   "cell_type": "code",
   "execution_count": 1,
   "metadata": {
    "collapsed": false
   },
   "outputs": [
    {
     "name": "stderr",
     "output_type": "stream",
     "text": [
      "Using Theano backend.\n"
     ]
    }
   ],
   "source": [
    "import numpy as np\n",
    "from keras.datasets import mnist\n",
    "from keras.models import Sequential\n",
    "from keras.layers import Dense, Dropout, Activation, Flatten\n",
    "from keras.layers import Convolution2D, MaxPooling2D\n",
    "from keras.utils import np_utils"
   ]
  },
  {
   "cell_type": "code",
   "execution_count": 2,
   "metadata": {
    "collapsed": false
   },
   "outputs": [],
   "source": [
    "#Loading the training and testing data\n",
    "(X_train, y_train), (X_test, y_test) = mnist.load_data()\n",
    "img_rows, img_cols = 28, 28\n",
    "X_train = X_train.reshape(X_train.shape[0], 1, img_rows, img_cols)\n",
    "X_test = X_test.reshape(X_test.shape[0], 1, img_rows, img_cols)\n",
    "X_train = X_train.astype('float32')\n",
    "X_test = X_test.astype('float32')\n",
    "X_train /= 255\n",
    "X_test /= 255"
   ]
  },
  {
   "cell_type": "code",
   "execution_count": 3,
   "metadata": {
    "collapsed": false
   },
   "outputs": [
    {
     "name": "stdout",
     "output_type": "stream",
     "text": [
      "(60000, 1, 28, 28)\n"
     ]
    }
   ],
   "source": [
    "print(X_train.shape)"
   ]
  },
  {
   "cell_type": "code",
   "execution_count": 3,
   "metadata": {
    "collapsed": false
   },
   "outputs": [],
   "source": [
    "#Seed for reproducibilty\n",
    "np.random.seed(1338)\n",
    "\n",
    "#Selecting 6000 random examples from the test data\n",
    "test_rows = np.random.randint(0,X_test.shape[0],6000)\n",
    "X_test = X_test[test_rows]\n",
    "Y = y_test[test_rows]\n",
    "#Converting the output to binary classification(Six=1,Not Six=0)\n",
    "Y_test = Y == 6\n",
    "Y_test = Y_test.astype(int)\n",
    "\n",
    "#Selecting the 5918 examples where the output is 6\n",
    "X_six = X_train[y_train == 6]\n",
    "Y_six = y_train[y_train == 6]\n",
    "#Selecting the examples where the output is not 6\n",
    "X_not_six = X_train[y_train != 6]\n",
    "Y_not_six = y_train[y_train != 6]\n",
    "\n",
    "#Selecting 6000 random examples from the data that contains only the data where the output is not 6\n",
    "random_rows = np.random.randint(0,X_six.shape[0],6000)\n",
    "X_not_six = X_not_six[random_rows]\n",
    "Y_not_six = Y_not_six[random_rows]"
   ]
  },
  {
   "cell_type": "code",
   "execution_count": 4,
   "metadata": {
    "collapsed": false
   },
   "outputs": [],
   "source": [
    "#Appending the data with output as 6 and data with output as not six\n",
    "X_train = np.append(X_six,X_not_six)\n",
    "#Reshaping the appended data to appropraite form\n",
    "X_train = X_train.reshape(X_six.shape[0] + X_not_six.shape[0], 1, img_rows, img_cols)\n",
    "#Appending the labels and converting the labels to binary classification(Six=1,Not Six=0)\n",
    "Y_labels = np.append(Y_six,Y_not_six)\n",
    "Y_train = Y_labels == 6 \n",
    "Y_train = Y_train.astype(int)"
   ]
  },
  {
   "cell_type": "code",
   "execution_count": 5,
   "metadata": {
    "collapsed": false
   },
   "outputs": [],
   "source": [
    "#Converting the classes to its binary categorical form\n",
    "nb_classes = 2\n",
    "Y_train = np_utils.to_categorical(Y_train, nb_classes)\n",
    "Y_test = np_utils.to_categorical(Y_test, nb_classes)"
   ]
  },
  {
   "cell_type": "code",
   "execution_count": 6,
   "metadata": {
    "collapsed": true
   },
   "outputs": [],
   "source": [
    "#Initializing the values for the convolution neural network\n",
    "nb_epoch = 12\n",
    "batch_size = 128\n",
    "# number of convolutional filters to use\n",
    "nb_filters = 32\n",
    "# size of pooling area for max pooling\n",
    "nb_pool = 2\n",
    "# convolution kernel size\n",
    "nb_conv = 3"
   ]
  },
  {
   "cell_type": "code",
   "execution_count": 7,
   "metadata": {
    "collapsed": true
   },
   "outputs": [],
   "source": [
    "#Function for constructing the convolution neural network\n",
    "def build_model():\n",
    "    \n",
    "    np.random.seed(1338)\n",
    "    model = Sequential()\n",
    "    model.add(Convolution2D(nb_filters, nb_conv, nb_conv,\n",
    "                        border_mode='valid',\n",
    "                        input_shape=(1, img_rows, img_cols)))\n",
    "    model.add(Activation('relu'))\n",
    "    model.add(Convolution2D(nb_filters, nb_conv, nb_conv))\n",
    "    model.add(Activation('relu'))\n",
    "    model.add(MaxPooling2D(pool_size=(nb_pool, nb_pool)))\n",
    "    model.add(Dropout(0.25))\n",
    "    \n",
    "    model.add(Flatten())\n",
    "    model.add(Dense(128))\n",
    "    model.add(Activation('relu'))\n",
    "    model.add(Dropout(0.5))\n",
    "    model.add(Dense(nb_classes))\n",
    "    model.add(Activation('softmax'))\n",
    "    \n",
    "    model.compile(loss='categorical_crossentropy',\n",
    "              optimizer='adadelta',\n",
    "              metrics=['accuracy'])\n",
    "\n",
    "    model.fit(X_train, Y_train, batch_size=batch_size, nb_epoch=nb_epoch,verbose=1,\n",
    "              validation_data=(X_test, Y_test))\n",
    "          \n",
    "\n",
    "    score = model.evaluate(X_test, Y_test, verbose=0)\n",
    "    print('Test score:', score[0])\n",
    "    print('Test accuracy:', score[1])"
   ]
  },
  {
   "cell_type": "code",
   "execution_count": 8,
   "metadata": {
    "collapsed": false
   },
   "outputs": [
    {
     "name": "stdout",
     "output_type": "stream",
     "text": [
      "Train on 11918 samples, validate on 6000 samples\n",
      "Epoch 1/12\n",
      "11918/11918 [==============================] - 45s - loss: 0.1442 - acc: 0.9535 - val_loss: 0.1519 - val_acc: 0.9440\n",
      "Epoch 2/12\n",
      "11918/11918 [==============================] - 32s - loss: 0.0346 - acc: 0.9883 - val_loss: 0.0294 - val_acc: 0.9907\n",
      "Epoch 3/12\n",
      "11918/11918 [==============================] - 32s - loss: 0.0204 - acc: 0.9930 - val_loss: 0.0191 - val_acc: 0.9932\n",
      "Epoch 4/12\n",
      "11918/11918 [==============================] - 31s - loss: 0.0154 - acc: 0.9939 - val_loss: 0.0455 - val_acc: 0.9820\n",
      "Epoch 5/12\n",
      "11918/11918 [==============================] - 31s - loss: 0.0121 - acc: 0.9956 - val_loss: 0.0263 - val_acc: 0.9912\n",
      "Epoch 6/12\n",
      "11918/11918 [==============================] - 51s - loss: 0.0113 - acc: 0.9960 - val_loss: 0.0191 - val_acc: 0.9935\n",
      "Epoch 7/12\n",
      "11918/11918 [==============================] - 61s - loss: 0.0089 - acc: 0.9962 - val_loss: 0.0209 - val_acc: 0.9945\n",
      "Epoch 8/12\n",
      "11918/11918 [==============================] - 54s - loss: 0.0071 - acc: 0.9972 - val_loss: 0.0294 - val_acc: 0.9910\n",
      "Epoch 9/12\n",
      "11918/11918 [==============================] - 56s - loss: 0.0080 - acc: 0.9971 - val_loss: 0.0236 - val_acc: 0.9937\n",
      "Epoch 10/12\n",
      "11918/11918 [==============================] - 50s - loss: 0.0054 - acc: 0.9982 - val_loss: 0.0174 - val_acc: 0.9947\n",
      "Epoch 11/12\n",
      "11918/11918 [==============================] - 50s - loss: 0.0050 - acc: 0.9985 - val_loss: 0.0292 - val_acc: 0.9918\n",
      "Epoch 12/12\n",
      "11918/11918 [==============================] - 50s - loss: 0.0031 - acc: 0.9989 - val_loss: 0.0173 - val_acc: 0.9962\n",
      "Test score: 0.0173432658147\n",
      "Test accuracy: 0.996166666667\n",
      "1 loop, best of 1: 9min 20s per loop\n"
     ]
    }
   ],
   "source": [
    "#Timing how long it takes to build the model and test it.\n",
    "%timeit -n1 -r1 build_model()"
   ]
  },
  {
   "cell_type": "code",
   "execution_count": null,
   "metadata": {
    "collapsed": false
   },
   "outputs": [],
   "source": []
  },
  {
   "cell_type": "code",
   "execution_count": null,
   "metadata": {
    "collapsed": true
   },
   "outputs": [],
   "source": []
  }
 ],
 "metadata": {
  "kernelspec": {
   "display_name": "Python 3",
   "language": "python",
   "name": "python3"
  },
  "language_info": {
   "codemirror_mode": {
    "name": "ipython",
    "version": 3
   },
   "file_extension": ".py",
   "mimetype": "text/x-python",
   "name": "python",
   "nbconvert_exporter": "python",
   "pygments_lexer": "ipython3",
   "version": "3.5.1"
  }
 },
 "nbformat": 4,
 "nbformat_minor": 0
}
