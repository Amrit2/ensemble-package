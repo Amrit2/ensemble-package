{
 "cells": [
  {
   "cell_type": "code",
   "execution_count": 1,
   "metadata": {
    "collapsed": false
   },
   "outputs": [
    {
     "name": "stderr",
     "output_type": "stream",
     "text": [
      "Using Theano backend.\n"
     ]
    }
   ],
   "source": [
    "import ensemble as en\n",
    "import pandas as pd"
   ]
  },
  {
   "cell_type": "code",
   "execution_count": 2,
   "metadata": {
    "collapsed": false
   },
   "outputs": [],
   "source": [
    "Data = pd.read_csv('/home/prajwal/Desktop/bank-additional/bank-additional-full.csv',delimiter=';',header=0)"
   ]
  },
  {
   "cell_type": "code",
   "execution_count": 3,
   "metadata": {
    "collapsed": false
   },
   "outputs": [],
   "source": [
    "en.data_import(Data,label_output='y')"
   ]
  },
  {
   "cell_type": "code",
   "execution_count": 4,
   "metadata": {
    "collapsed": false
   },
   "outputs": [
    {
     "name": "stdout",
     "output_type": "stream",
     "text": [
      "\n",
      "TRAINING BASE MODELS\n",
      "\n",
      "\n",
      "TESTING/CROSS VALIDATION BASE MODELS\n",
      "\n",
      "gradient_boosting \n",
      " 0.944754464416\n",
      "decision_tree \n",
      " 0.919243240857\n",
      "random_forest \n",
      " 0.907510077651\n",
      "linear_regression \n",
      " 0.923457797332\n",
      "logistic_regression \n",
      " 0.926156250881\n",
      "logistic_regression \n",
      " 0.926075837585\n",
      "gradient_boosting \n",
      " 0.915666501734\n",
      "\n",
      "TRAINING ENSEMBLE MODELS\n",
      "\n",
      "Weighted Average\n",
      "Weight [8, 8, 3, 1, 0, 4, 2]\n",
      "Metric Score 0.943432136711\n",
      "\n",
      "TESTING PHASE\n",
      "\n",
      "\n",
      "TESTING/CROSS VALIDATION BASE MODELS\n",
      "\n",
      "gradient_boosting \n",
      " 0.946753089768\n",
      "decision_tree \n",
      " 0.916603672343\n",
      "random_forest \n",
      " 0.917248160291\n",
      "linear_regression \n",
      " 0.922485140809\n",
      "logistic_regression \n",
      " 0.924774163876\n",
      "logistic_regression \n",
      " 0.924688074909\n",
      "gradient_boosting \n",
      " 0.921840652861\n",
      "\n",
      "TESTING ENSEMBLE MODELS\n",
      "\n",
      "Stacking linear_regression \n",
      " 0.94762960517\n",
      "Stacking gradient_boosting \n",
      " 0.946184371904\n",
      "Blending gradient_boosting \n",
      " 0.946670538705\n",
      "Blending logistic_regression \n",
      " 0.942902967121\n",
      "Weighted Average [8, 8, 3, 1, 0, 4, 2] \n",
      " 0.945778102741\n"
     ]
    }
   ],
   "source": [
    "param_gb_1 = en.parameter_set_gradient_boosting(eval_metric = ['auc'], objective = ['binary:logistic'])\n",
    "param_dt = en.parameter_set_decision_tree(max_depth = [6])\n",
    "param_rf = en.parameter_set_random_forest()\n",
    "param_lr = en.parameter_set_linear_regression()\n",
    "param_l2 = en.parameter_set_logistic_regression()\n",
    "param_l1 = en.parameter_set_logistic_regression(penalty = ['l1'])\n",
    "param_gb_2 = en.parameter_set_gradient_boosting(eval_metric = ['auc'], objective = ['binary:logistic'],\n",
    "                                                booster=['gblinear'], eta = [0.1,0.3,0.5,0.7],\n",
    "                                               hyper_parameter_optimisation = True)\n",
    "\n",
    "en.train_base_models(['gradient_boosting','decision_tree',\\\n",
    "                                     'random_forest','linear_regression','logistic_regression',\\\n",
    "                                     'logistic_regression','gradient_boosting'],[param_gb_1, param_dt, param_rf\n",
    "                                                                                 ,param_lr, param_l2, param_l1,\n",
    "                                                                                 param_gb_2])\n",
    "\n",
    "weights = en.assign_weights(weights = 'default', hyper_parameter_optimisation = True)\n",
    "\n",
    "\n",
    "en.train_ensemble_models(['linear_regression', 'gradient_boosting'], [param_lr, param_gb_1],\n",
    "                      ['gradient_boosting','logistic_regression'],[param_gb_1,param_l2], \n",
    "                      perform_weighted_average = True, weights_list = weights)\n",
    "\n",
    "en.test_data()"
   ]
  },
  {
   "cell_type": "code",
   "execution_count": null,
   "metadata": {
    "collapsed": true
   },
   "outputs": [],
   "source": []
  }
 ],
 "metadata": {
  "kernelspec": {
   "display_name": "Python 3",
   "language": "python",
   "name": "python3"
  },
  "language_info": {
   "codemirror_mode": {
    "name": "ipython",
    "version": 3
   },
   "file_extension": ".py",
   "mimetype": "text/x-python",
   "name": "python",
   "nbconvert_exporter": "python",
   "pygments_lexer": "ipython3",
   "version": "3.5.2"
  }
 },
 "nbformat": 4,
 "nbformat_minor": 0
}
