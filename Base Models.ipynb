{
 "cells": [
  {
   "cell_type": "code",
   "execution_count": 77,
   "metadata": {
    "collapsed": false
   },
   "outputs": [],
   "source": [
    "import pandas as pd\n",
    "import numpy as np\n",
    "import matplotlib.pyplot as plt\n",
    "from sklearn import datasets, linear_model, preprocessing\n",
    "from sklearn.preprocessing import Imputer, PolynomialFeatures\n",
    "from sklearn.tree import DecisionTreeClassifier\n",
    "from sklearn.cross_validation import KFold\n",
    "from sklearn.ensemble import RandomForestClassifier\n",
    "from sklearn.cross_validation import StratifiedKFold\n",
    "from keras.layers import Dense, Activation\n",
    "from keras.models import Sequential"
   ]
  },
  {
   "cell_type": "code",
   "execution_count": 78,
   "metadata": {
    "collapsed": false
   },
   "outputs": [],
   "source": [
    "encode = preprocessing.LabelEncoder()\n",
    "Data = pd.read_csv('/home/prajwal/Desktop/bank-additional/bank-additional-full.csv',delimiter=';',header=0)\n",
    "#print (Data)\n",
    "Data.job = encode.fit_transform(Data.job)\n",
    "Data.marital = encode.fit_transform(Data.marital)\n",
    "Data.education = encode.fit_transform(Data.education)\n",
    "Data.default = encode.fit_transform(Data.default)\n",
    "Data.housing = encode.fit_transform(Data.housing)\n",
    "Data.loan = encode.fit_transform(Data.loan)\n",
    "Data.contact = encode.fit_transform(Data.contact)\n",
    "Data.month = encode.fit_transform(Data.month)\n",
    "Data.day_of_week = encode.fit_transform(Data.day_of_week)\n",
    "Data.poutcome = encode.fit_transform(Data.poutcome)\n",
    "Data.y = encode.fit_transform(Data.y)"
   ]
  },
  {
   "cell_type": "code",
   "execution_count": 79,
   "metadata": {
    "collapsed": false
   },
   "outputs": [],
   "source": [
    "mean_LinearRegression=list()\n",
    "avg_LinearRegeression=0\n",
    "mean_L2=list()\n",
    "avg_L2=0\n",
    "mean_L1=list()\n",
    "avg_L1=0\n",
    "mean_DT=list()\n",
    "avg_DT=0\n",
    "mean_RF=list()\n",
    "avg_RF=0\n",
    "mean_MLP=list()\n",
    "avg_MLP=0"
   ]
  },
  {
   "cell_type": "code",
   "execution_count": 80,
   "metadata": {
    "collapsed": true
   },
   "outputs": [],
   "source": [
    "variance_L2=list()\n",
    "variance_L1=list()\n",
    "variance_DT=list()\n",
    "variance_RF=list()\n",
    "variance_MLP=list()"
   ]
  },
  {
   "cell_type": "code",
   "execution_count": 81,
   "metadata": {
    "collapsed": false
   },
   "outputs": [],
   "source": [
    "kf = StratifiedKFold(Data['y'], n_folds=5,shuffle=True)"
   ]
  },
  {
   "cell_type": "code",
   "execution_count": 82,
   "metadata": {
    "collapsed": false
   },
   "outputs": [
    {
     "name": "stdout",
     "output_type": "stream",
     "text": [
      "Epoch 1/5\n",
      "32950/32950 [==============================] - 2s - loss: 0.0796 - acc: 0.8955     \n",
      "Epoch 2/5\n",
      "32950/32950 [==============================] - 2s - loss: 0.0750 - acc: 0.9020     \n",
      "Epoch 3/5\n",
      "32950/32950 [==============================] - 1s - loss: 0.0750 - acc: 0.8999     \n",
      "Epoch 4/5\n",
      "32950/32950 [==============================] - 1s - loss: 0.0757 - acc: 0.9016     \n",
      "Epoch 5/5\n",
      "32950/32950 [==============================] - 1s - loss: 0.0760 - acc: 0.9018     \n",
      "Epoch 1/5\n",
      "32950/32950 [==============================] - 1s - loss: 0.0874 - acc: 0.8867     \n",
      "Epoch 2/5\n",
      "32950/32950 [==============================] - 2s - loss: 0.0777 - acc: 0.8991     \n",
      "Epoch 3/5\n",
      "32950/32950 [==============================] - 1s - loss: 0.0760 - acc: 0.8989     \n",
      "Epoch 4/5\n",
      "32950/32950 [==============================] - 1s - loss: 0.0755 - acc: 0.8993     \n",
      "Epoch 5/5\n",
      "32950/32950 [==============================] - 1s - loss: 0.0745 - acc: 0.8997     \n",
      "Epoch 1/5\n",
      "32950/32950 [==============================] - 1s - loss: 0.0795 - acc: 0.8927     \n",
      "Epoch 2/5\n",
      "32950/32950 [==============================] - 1s - loss: 0.0758 - acc: 0.9018     \n",
      "Epoch 3/5\n",
      "32950/32950 [==============================] - 1s - loss: 0.0752 - acc: 0.9032     \n",
      "Epoch 4/5\n",
      "32950/32950 [==============================] - 1s - loss: 0.0750 - acc: 0.9037     \n",
      "Epoch 5/5\n",
      "32950/32950 [==============================] - 1s - loss: 0.0754 - acc: 0.9031     \n",
      "Epoch 1/5\n",
      "32951/32951 [==============================] - 1s - loss: 0.0946 - acc: 0.8873     \n",
      "Epoch 2/5\n",
      "32951/32951 [==============================] - 1s - loss: 0.0860 - acc: 0.8904     \n",
      "Epoch 3/5\n",
      "32951/32951 [==============================] - 1s - loss: 0.0792 - acc: 0.8980     \n",
      "Epoch 4/5\n",
      "32951/32951 [==============================] - 1s - loss: 0.0786 - acc: 0.8982     \n",
      "Epoch 5/5\n",
      "32951/32951 [==============================] - 1s - loss: 0.0770 - acc: 0.8990     \n",
      "Epoch 1/5\n",
      "32951/32951 [==============================] - 1s - loss: 0.1043 - acc: 0.8502     \n",
      "Epoch 2/5\n",
      "32951/32951 [==============================] - 1s - loss: 0.0770 - acc: 0.8983     \n",
      "Epoch 3/5\n",
      "32951/32951 [==============================] - 1s - loss: 0.0769 - acc: 0.8994     \n",
      "Epoch 4/5\n",
      "32951/32951 [==============================] - 1s - loss: 0.0765 - acc: 0.9001     \n",
      "Epoch 5/5\n",
      "32951/32951 [==============================] - 1s - loss: 0.0769 - acc: 0.9022     \n"
     ]
    }
   ],
   "source": [
    "for train_index, cross_val_index in kf:\n",
    "    train, cross_val = Data.iloc[train_index], Data.iloc[cross_val_index]\n",
    "    train_Y=train['y']\n",
    "    train_X=train.drop(['y'],axis=1)\n",
    "    cross_val_Y=cross_val['y']\n",
    "    cross_val_X=cross_val.drop(['y'],axis=1)\n",
    "    predict=list()\n",
    "   \n",
    "    #Multi Layer Perceptron\n",
    "    model = Sequential()\n",
    "    model.add(Dense(output_dim=64, input_dim=20, init='uniform', activation='sigmoid'))\n",
    "    model.add(Dense(output_dim=1, input_dim=64,activation='sigmoid'))\n",
    "    model.compile(optimizer='rmsprop',loss='mean_squared_error',metrics=['accuracy'])\n",
    "    model.fit(train_X.as_matrix(), train_Y.as_matrix(), nb_epoch=5, batch_size=32)\n",
    "    eval=model.test_on_batch(cross_val_X.as_matrix(), cross_val_Y.as_matrix(), sample_weight=None)\n",
    "    mean_MLP.append(eval[0])\n",
    "    variance_MLP.append(eval[1])\n",
    "    \n",
    "    #Decision Tree\n",
    "    model = DecisionTreeClassifier()\n",
    "    model.fit(train_X,train_Y)\n",
    "    # The mean square error\n",
    "    mean_DT.append(np.mean((model.predict(cross_val_X) - cross_val_Y) ** 2))\n",
    "    # Explained variance score: 1 is perfect prediction\n",
    "    variance_DT.append(model.score(cross_val_X, cross_val_Y))\n",
    "    \n",
    "    #Random Forest (Deafult=10 Trees)\n",
    "    model = RandomForestClassifier()\n",
    "    model.fit(train_X,train_Y)\n",
    "    # The mean square error\n",
    "    mean_RF.append(np.mean((model.predict(cross_val_X) - cross_val_Y) ** 2))\n",
    "    # Explained variance score: 1 is perfect prediction\n",
    "    variance_RF.append(model.score(cross_val_X, cross_val_Y))\n",
    "    \n",
    "    #Scaling the data\n",
    "    train_X=preprocessing.StandardScaler().fit_transform(train_X)\n",
    "    cross_val_X=preprocessing.StandardScaler().fit_transform(cross_val_X)\n",
    "    \n",
    "    #Linear Regression\n",
    "    model = linear_model.LinearRegression()\n",
    "    model.fit(train_X,train_Y)\n",
    "    predict=model.predict(cross_val_X)\n",
    "    predict[(predict>=0.5)]=1\n",
    "    predict[(predict<0.5)]=0\n",
    "    # The mean square error\n",
    "    mean_LinearRegression.append((np.mean((predict - cross_val_Y) ** 2)))\n",
    "    \n",
    "    #Logistic Regression (Default=L2)\n",
    "    model = linear_model.LogisticRegression(penalty='l2')\n",
    "    model.fit(train_X,train_Y)\n",
    "    # The mean square error\n",
    "    mean_L2.append((np.mean((model.predict(cross_val_X) - cross_val_Y) ** 2)))\n",
    "    #Explained variance score: 1 is perfect prediction\n",
    "    variance_L2.append(model.score(cross_val_X, cross_val_Y))\n",
    "    \n",
    "    #Logistic Regression-L1\n",
    "    model = linear_model.LogisticRegression(penalty='l1')\n",
    "    model.fit(train_X,train_Y)\n",
    "    # The mean square error\n",
    "    mean_L1.append(np.mean((model.predict(cross_val_X) - cross_val_Y) ** 2))\n",
    "    #Explained variance score: 1 is perfect prediction\n",
    "    variance_L1.append(model.score(cross_val_X, cross_val_Y))\n",
    "    "
   ]
  },
  {
   "cell_type": "code",
   "execution_count": 83,
   "metadata": {
    "collapsed": false
   },
   "outputs": [],
   "source": [
    "avg_LinearRegression=np.mean(mean_LinearRegression)\n",
    "avg_L2=np.mean(mean_L2)\n",
    "avg_L1=np.mean(mean_L1)\n",
    "avg_DT=np.mean(mean_DT)\n",
    "avg_RF=np.mean(mean_RF)\n",
    "avg_MLP=np.mean(mean_MLP)"
   ]
  },
  {
   "cell_type": "code",
   "execution_count": 84,
   "metadata": {
    "collapsed": false
   },
   "outputs": [
    {
     "name": "stdout",
     "output_type": "stream",
     "text": [
      " Mean Error (Linear Regression)\n",
      " 0.0934495410794\n",
      " Mean Error (Logistic Regression - L2)\n",
      " 0.0899290392715\n",
      " Mean Error (Logistic Regression - L1)\n",
      " 0.0899290363241\n",
      " Mean Error (Decision Tree)\n",
      " 0.110784756269\n",
      " Mean Error (Random Forest)\n",
      " 0.088885170252\n",
      " Mean Error (Multi Layer Perceptron)\n",
      " 0.0750533\n"
     ]
    }
   ],
   "source": [
    "print (' Mean Error (Linear Regression)\\n',avg_LinearRegression)\n",
    "print (' Mean Error (Logistic Regression - L2)\\n',avg_L2)\n",
    "print (' Mean Error (Logistic Regression - L1)\\n',avg_L1)\n",
    "print (' Mean Error (Decision Tree)\\n',avg_DT)\n",
    "print (' Mean Error (Random Forest)\\n',avg_RF)\n",
    "print (' Mean Error (Multi Layer Perceptron)\\n',avg_MLP)"
   ]
  },
  {
   "cell_type": "code",
   "execution_count": null,
   "metadata": {
    "collapsed": true
   },
   "outputs": [],
   "source": [
    "\n"
   ]
  }
 ],
 "metadata": {
  "kernelspec": {
   "display_name": "Python 3",
   "language": "python",
   "name": "python3"
  },
  "language_info": {
   "codemirror_mode": {
    "name": "ipython",
    "version": 3
   },
   "file_extension": ".py",
   "mimetype": "text/x-python",
   "name": "python",
   "nbconvert_exporter": "python",
   "pygments_lexer": "ipython3",
   "version": "3.5.1"
  }
 },
 "nbformat": 4,
 "nbformat_minor": 0
}
